{
 "cells": [
  {
   "cell_type": "code",
   "execution_count": null,
   "id": "3ca895ec",
   "metadata": {},
   "outputs": [],
   "source": [
    "import pandas as pd\n",
    "import numpy as np\n",
    "import matplotlib.pyplot as plt\n",
    "import seaborn as sns\n",
    "%matplotlib inline\n",
    "import re\n",
    "import time\n",
    "from datetime import datetime\n",
    "import matplotlib.dates as mdates\n",
    "import matplotlib.ticker as ticker\n",
    "from urllib.request import urlopen\n",
    "from bs4 import BeautifulSoup\n",
    "import requests"
   ]
  },
  {
   "cell_type": "code",
   "execution_count": null,
   "id": "eaa2b738",
   "metadata": {},
   "outputs": [],
   "source": [
    "df = pd.read_csv(\"../data/SmileData.csv\",skiprows=2)"
   ]
  },
  {
   "cell_type": "code",
   "execution_count": null,
   "id": "eaccf3ec",
   "metadata": {},
   "outputs": [],
   "source": [
    "df.head()"
   ]
  },
  {
   "cell_type": "code",
   "execution_count": null,
   "id": "adfa7600",
   "metadata": {},
   "outputs": [],
   "source": [
    "empty_call_df = ['LinkedToCallReportNum','WasRealCall','WasHangup','WasSexCall','WasWrongNumber','WasPrankCall','WasSilentCall']\n",
    "#print(empty_call_df)"
   ]
  },
  {
   "cell_type": "code",
   "execution_count": null,
   "id": "768957d3",
   "metadata": {},
   "outputs": [],
   "source": [
    "df.drop(empty_call_df, inplace=True, axis=1)"
   ]
  },
  {
   "cell_type": "code",
   "execution_count": null,
   "id": "6a0322ea",
   "metadata": {},
   "outputs": [],
   "source": [
    "empty_loc_df = ['VolunteerComments', 'CallersFeedback', 'TextField2','TextField3','TextField4','TextField5','TextField6','TextField7','TextField8','TextField9','TextField10', 'IPAddress', 'VolIdentifier','GeoCode','GeoAssignment','CensusDivision','CensusTrack','CensusReportingArea','211Region','ThirdPartyName', 'ThirdPartyOrganization', 'ThirdPartyAddress','ThirdPartyCity','ThirdPartyCounty', 'ThirdPartyStateProvince','ThirdPartyPostalCode']\n",
    "#print(empty_loc_df)"
   ]
  },
  {
   "cell_type": "code",
   "execution_count": null,
   "id": "5af35a43",
   "metadata": {},
   "outputs": [],
   "source": [
    "df.drop(empty_loc_df, inplace=True, axis=1)"
   ]
  },
  {
   "cell_type": "code",
   "execution_count": null,
   "id": "529f059c",
   "metadata": {},
   "outputs": [],
   "source": [
    "misc_df = ['PhoneType','Feedback','Reviewed','FeedbackStatus','OrgNum', 'CountryName']"
   ]
  },
  {
   "cell_type": "code",
   "execution_count": null,
   "id": "fc320a56",
   "metadata": {},
   "outputs": [],
   "source": [
    "df.drop(misc_df, inplace=True, axis=1)"
   ]
  },
  {
   "cell_type": "code",
   "execution_count": null,
   "id": "1878ea2a",
   "metadata": {},
   "outputs": [],
   "source": [
    "#df.head()"
   ]
  },
  {
   "cell_type": "code",
   "execution_count": null,
   "id": "9ef555b7",
   "metadata": {},
   "outputs": [],
   "source": [
    "clean_df = df.dropna(axis=1, how='all')\n",
    "#clean_df.head()"
   ]
  },
  {
   "cell_type": "code",
   "execution_count": null,
   "id": "a7972653",
   "metadata": {},
   "outputs": [],
   "source": [
    "clean_df.head()"
   ]
  },
  {
   "cell_type": "markdown",
   "id": "eca38edd",
   "metadata": {},
   "source": [
    "#remove and replace name columns\n",
    "smileon.columns = [x.replace('current', 'replacement') for x in smileon.columns]"
   ]
  },
  {
   "cell_type": "code",
   "execution_count": null,
   "id": "efeb5306",
   "metadata": {},
   "outputs": [],
   "source": [
    "# Set it to None to display all columns in the dataframe\n",
    "pd.set_option('display.max_columns', None)\n",
    "clean_df.head()"
   ]
  },
  {
   "cell_type": "code",
   "execution_count": null,
   "id": "0bb09af9",
   "metadata": {},
   "outputs": [],
   "source": [
    "clean_df.columns = clean_df.columns.str.replace(r'SMILE ON 60\\+ ', '')\n",
    "clean_df.columns = clean_df.columns.str.replace('Oral Care Encounter - ', 'oec_')\n",
    "clean_df.columns = clean_df.columns.str.replace(' - Quantity', '')\n",
    "clean_df.rename(columns={'Birth Year':'Birth_Year'}, inplace=True)"
   ]
  },
  {
   "cell_type": "code",
   "execution_count": null,
   "id": "05c19212",
   "metadata": {
    "scrolled": true
   },
   "outputs": [],
   "source": [
    "pd.set_option('display.max_columns', None)\n",
    "clean_df.head()"
   ]
  },
  {
   "cell_type": "markdown",
   "id": "778b2b3c",
   "metadata": {},
   "source": [
    "# oec_ to be continued if needed\n",
    "new_names = {'oec_1351':'Sealant-per tooth',\n",
    "             'oec_1354':'Silver-oin per tooth', \n",
    "             'oec_2140':'Amalgam-one surface permanent',\n",
    "             'oec_2150':'Amalgam-two surfaces permanent',\n",
    "            'oec_2160':'Amalgam-three surfaces permanent',\n",
    "            'oec_2161':'Amalgam-four surfaces permanent'}"
   ]
  },
  {
   "cell_type": "code",
   "execution_count": null,
   "id": "d1cae242",
   "metadata": {},
   "outputs": [],
   "source": [
    "#clean_df.rename(columns=new_names, inplace=True)\n",
    "#clean_df.head()"
   ]
  },
  {
   "cell_type": "code",
   "execution_count": null,
   "id": "581f0f9d",
   "metadata": {},
   "outputs": [],
   "source": [
    "df_sorted =clean_df.sort_values(by=['CallerNum','Clinic Information - Was initial appointment made?'])\n",
    "df_sorted"
   ]
  },
  {
   "cell_type": "code",
   "execution_count": null,
   "id": "344afc89",
   "metadata": {},
   "outputs": [],
   "source": [
    "print(clean_df['CallerNum'].value_counts())"
   ]
  },
  {
   "cell_type": "code",
   "execution_count": null,
   "id": "933bff4f",
   "metadata": {},
   "outputs": [],
   "source": [
    "client_info = clean_df[['CallerNum','Birth_Year',\n",
    "                      'Demographic Information - Gender',\n",
    "                      'Demographic Information - Household Income Level',\n",
    "                      'Demographic Information - Race/Ethnicity',\n",
    "                      'Presumptive Eligibility - Do they pre-qualify for SMILE ON 60+?',\n",
    "                      'Base-line Oral and Conditions Questions - Are you limited in what you can eat?',\n",
    "                      'Treatment Plan - Was the enrollee able to be restored to function (can chew) and \"social six\" esthetics (top front six teeth are present and disease free)']]\n",
    "client_info.head()"
   ]
  },
  {
   "cell_type": "code",
   "execution_count": null,
   "id": "6f0756a3",
   "metadata": {},
   "outputs": [],
   "source": []
  }
 ],
 "metadata": {
  "kernelspec": {
   "display_name": "Python 3",
   "language": "python",
   "name": "python3"
  },
  "language_info": {
   "codemirror_mode": {
    "name": "ipython",
    "version": 3
   },
   "file_extension": ".py",
   "mimetype": "text/x-python",
   "name": "python",
   "nbconvert_exporter": "python",
   "pygments_lexer": "ipython3",
   "version": "3.8.8"
  }
 },
 "nbformat": 4,
 "nbformat_minor": 5
}
