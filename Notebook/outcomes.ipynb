{
 "cells": [
  {
   "cell_type": "code",
   "execution_count": null,
   "id": "0905dfd3",
   "metadata": {},
   "outputs": [],
   "source": [
    "import pandas as pd\n",
    "import dtale\n",
    "import plotly.express as px \n",
    "import numpy as np\n",
    "import matplotlib.pyplot as plt\n",
    "import seaborn as sns\n",
    "%matplotlib inline\n",
    "import re\n",
    "import time\n",
    "from datetime import datetime\n",
    "import matplotlib.dates as mdates\n",
    "import matplotlib.ticker as ticker\n",
    "from urllib.request import urlopen\n",
    "from bs4 import BeautifulSoup\n",
    "import requests"
   ]
  },
  {
   "cell_type": "code",
   "execution_count": null,
   "id": "a3d40205",
   "metadata": {},
   "outputs": [],
   "source": [
    "df = pd.read_csv(\"../data/outcomes.csv\")\n",
    "\n",
    "df.head()"
   ]
  },
  {
   "cell_type": "code",
   "execution_count": null,
   "id": "8d3a1a6f",
   "metadata": {},
   "outputs": [],
   "source": [
    "print(df['Treatment Plan - Is the treatment plan completed?'].value_counts())\n",
    "print(df['Treatment Plan - Was the enrollee able to be restored to function (can chew) and \"social six\" esthetics (top front six teeth are present and disease free)'].value_counts())"
   ]
  },
  {
   "cell_type": "code",
   "execution_count": null,
   "id": "6d5f202f",
   "metadata": {},
   "outputs": [],
   "source": [
    "new_names = {'CallerNum':'Patient_id','Treatment Plan - Is the treatment plan completed?':'Plan_Completed','Treatment Plan - Was the enrollee able to be restored to function (can chew) and \"social six\" esthetics (top front six teeth are present and disease free)':'Restored_Function','Treatment Plan - Was a treatment plan developed?':'Plan_developed','Base-line Oral and Conditions Questions - Are you limited in what you can eat?':'Limited'}"
   ]
  },
  {
   "cell_type": "code",
   "execution_count": null,
   "id": "68005701",
   "metadata": {},
   "outputs": [],
   "source": [
    "df.rename(columns=new_names, inplace=True)\n",
    "df.head()"
   ]
  },
  {
   "cell_type": "code",
   "execution_count": null,
   "id": "859e3ab9",
   "metadata": {},
   "outputs": [],
   "source": [
    "sorted = df.sort_values(['Patient_id',\n",
    "                         'Plan_Completed',\n",
    "                         'Restored_Function',\n",
    "                         'Plan_developed',\n",
    "                         'Limited']).drop_duplicates(['Patient_id'], keep='first')\n",
    "sorted.head()"
   ]
  },
  {
   "cell_type": "code",
   "execution_count": null,
   "id": "4f2743d4",
   "metadata": {},
   "outputs": [],
   "source": [
    "print(sorted['Plan_Completed'].value_counts())\n",
    "print(sorted['Restored_Function'].value_counts())\n",
    "print(sorted['Plan_developed'].value_counts())\n",
    "print(sorted['Plan_developed'].value_counts())"
   ]
  },
  {
   "cell_type": "code",
   "execution_count": null,
   "id": "d3f9cc45",
   "metadata": {},
   "outputs": [],
   "source": [
    "l_no_na = sorted[sorted['Limited'].notna()]\n",
    "pd_no_na = sorted[sorted['Plan_developed'].notna()]\n",
    "pc_no_na = sorted[sorted['Plan_Completed'].notna()]\n",
    "rf_no_na = sorted[sorted['Restored_Function'].notna()]"
   ]
  },
  {
   "cell_type": "code",
   "execution_count": null,
   "id": "fe589f29",
   "metadata": {},
   "outputs": [],
   "source": []
  },
  {
   "cell_type": "code",
   "execution_count": null,
   "id": "7a6d5574",
   "metadata": {},
   "outputs": [],
   "source": []
  },
  {
   "cell_type": "code",
   "execution_count": null,
   "id": "bdf4ee22",
   "metadata": {},
   "outputs": [],
   "source": []
  },
  {
   "cell_type": "code",
   "execution_count": null,
   "id": "9a8641b3",
   "metadata": {},
   "outputs": [],
   "source": []
  },
  {
   "cell_type": "code",
   "execution_count": null,
   "id": "561bc545",
   "metadata": {},
   "outputs": [],
   "source": [
    "completed_All = sorted[(sorted['Limited'] == 'Yes') & \n",
    "                       (sorted['Plan_developed'] == 'Yes') & \n",
    "                       (sorted['Plan_Completed'] == 'Yes') & \n",
    "                       (sorted['Restored_Function'] == 'Yes') ]\n",
    "completed_All.head(5)"
   ]
  },
  {
   "cell_type": "code",
   "execution_count": null,
   "id": "8fd8e8e1",
   "metadata": {},
   "outputs": [],
   "source": [
    "print(completed_All['Restored_Function'].value_counts())"
   ]
  },
  {
   "cell_type": "code",
   "execution_count": null,
   "id": "218ecd43",
   "metadata": {},
   "outputs": [],
   "source": []
  },
  {
   "cell_type": "code",
   "execution_count": null,
   "id": "b87d60a7",
   "metadata": {},
   "outputs": [],
   "source": [
    "completed_nc = sorted[(sorted['Limited'] == 'Yes') & \n",
    "                      (sorted['Plan_developed'] == 'Yes') & \n",
    "                      #(sorted['Plan_Completed'] == 'No') & \n",
    "                      (sorted['Restored_Function'] == 'Yes') ]\n",
    "completed_nc.head(5)"
   ]
  },
  {
   "cell_type": "code",
   "execution_count": null,
   "id": "a0346473",
   "metadata": {},
   "outputs": [],
   "source": [
    "print(completed_nc['Restored_Function'].value_counts())\n"
   ]
  },
  {
   "cell_type": "code",
   "execution_count": null,
   "id": "58839ba0",
   "metadata": {},
   "outputs": [],
   "source": []
  },
  {
   "cell_type": "code",
   "execution_count": null,
   "id": "f7a85bd7",
   "metadata": {},
   "outputs": [],
   "source": [
    "completed_np = sorted[(sorted['Limited'] == 'Yes') & \n",
    "                      #(sorted['Plan_developed'] == 'No') & \n",
    "                      #(sorted['Plan_Completed'] == 'No') & \n",
    "                      (sorted['Restored_Function'] == 'Yes') ]\n",
    "completed_np.head(5)"
   ]
  },
  {
   "cell_type": "code",
   "execution_count": null,
   "id": "16f519df",
   "metadata": {},
   "outputs": [],
   "source": [
    "print(completed_np['Restored_Function'].value_counts())"
   ]
  },
  {
   "cell_type": "code",
   "execution_count": null,
   "id": "ac8abbe3",
   "metadata": {},
   "outputs": [],
   "source": []
  },
  {
   "cell_type": "code",
   "execution_count": null,
   "id": "d83ee0c5",
   "metadata": {},
   "outputs": [],
   "source": [
    "completed_rf = sorted[(sorted['Limited'] == 'No') & \n",
    "                      (sorted['Plan_developed'] == 'No') & \n",
    "                      (sorted['Plan_Completed'] == 'No') & \n",
    "                      (sorted['Restored_Function'] == 'Yes') ]\n",
    "completed_rf.head(5)"
   ]
  },
  {
   "cell_type": "code",
   "execution_count": null,
   "id": "95958907",
   "metadata": {},
   "outputs": [],
   "source": [
    "print(completed_rf['Restored_Function'].value_counts())"
   ]
  },
  {
   "cell_type": "code",
   "execution_count": null,
   "id": "a2e7fdaf",
   "metadata": {},
   "outputs": [],
   "source": []
  },
  {
   "cell_type": "code",
   "execution_count": null,
   "id": "26ebf378",
   "metadata": {},
   "outputs": [],
   "source": [
    "completed_nl = sorted[#(sorted['Plan_developed'] == 'No') & \n",
    "                      (sorted['Plan_Completed'] == 'Yes')& \n",
    "                      (sorted['Restored_Function'] == 'Yes')]# &\n",
    "                     #(sorted['Limited'] == 'No')]\n",
    "completed_nl.head(5)"
   ]
  },
  {
   "cell_type": "code",
   "execution_count": null,
   "id": "076c0d27",
   "metadata": {},
   "outputs": [],
   "source": [
    "print(completed_nl['Restored_Function'].value_counts())"
   ]
  },
  {
   "cell_type": "code",
   "execution_count": null,
   "id": "a1b65452",
   "metadata": {},
   "outputs": [],
   "source": []
  },
  {
   "cell_type": "code",
   "execution_count": null,
   "id": "9de59451",
   "metadata": {},
   "outputs": [],
   "source": []
  },
  {
   "cell_type": "markdown",
   "id": "5c8378c5",
   "metadata": {},
   "source": [
    "# DISCLAIMER: 'df' refers to the data you passed in when calling 'dtale.show'\n",
    "\n",
    "duplicates = sorted.duplicated(['Patient_id'], keep='first')\n",
    "sorted= sorted[~duplicates]\n",
    "if isinstance(sorted, (pd.DatetimeIndex, pd.MultiIndex)):\n",
    "    sorted = sorted.to_frame(index=False)\n",
    "\n",
    "# remove any pre-existing indices for ease of use in the D-Tale code, but this is not required\n",
    "sorted = sorted.reset_index().drop('index', axis=1, errors='ignore')\n",
    "sorted.columns = [str(c) for c in df.columns]  # update columns to strings in case they are numbers\n",
    "\n",
    "sorted.head()"
   ]
  },
  {
   "cell_type": "markdown",
   "id": "3089d5a5",
   "metadata": {},
   "source": [
    "print(sorted['Plan_Completed'].value_counts())\n",
    "print(sorted['Restored_Function'].value_counts())"
   ]
  },
  {
   "cell_type": "code",
   "execution_count": null,
   "id": "0e9a9a23",
   "metadata": {},
   "outputs": [],
   "source": [
    "completed_both = sorted[(sorted['Plan_Completed'] == \"Yes\")] \n",
    "                        #&  (sorted['Restored_Function'] == 'No')]\n",
    "completed_both.head(10)"
   ]
  },
  {
   "cell_type": "code",
   "execution_count": null,
   "id": "cef1409d",
   "metadata": {},
   "outputs": [],
   "source": [
    "print(completed_both['Plan_Completed'].value_counts())"
   ]
  },
  {
   "cell_type": "code",
   "execution_count": null,
   "id": "307e7d25",
   "metadata": {},
   "outputs": [],
   "source": [
    "print(completed_both['Patient_id'].value_counts())"
   ]
  },
  {
   "cell_type": "code",
   "execution_count": null,
   "id": "4050b213",
   "metadata": {},
   "outputs": [],
   "source": []
  },
  {
   "cell_type": "code",
   "execution_count": null,
   "id": "64e1c47c",
   "metadata": {},
   "outputs": [],
   "source": [
    "d = dtale.show(completed_both)\n",
    "\n",
    "#open it in a new window in browser\n",
    "\n",
    "d.open_browser()"
   ]
  },
  {
   "cell_type": "code",
   "execution_count": null,
   "id": "f4e24846",
   "metadata": {},
   "outputs": [],
   "source": []
  },
  {
   "cell_type": "code",
   "execution_count": null,
   "id": "482b2840",
   "metadata": {},
   "outputs": [],
   "source": []
  },
  {
   "cell_type": "code",
   "execution_count": null,
   "id": "d1a05101",
   "metadata": {},
   "outputs": [],
   "source": []
  },
  {
   "cell_type": "code",
   "execution_count": null,
   "id": "dc4eeca5",
   "metadata": {},
   "outputs": [],
   "source": []
  },
  {
   "cell_type": "code",
   "execution_count": null,
   "id": "7219d947",
   "metadata": {},
   "outputs": [],
   "source": []
  }
 ],
 "metadata": {
  "kernelspec": {
   "display_name": "Python 3",
   "language": "python",
   "name": "python3"
  },
  "language_info": {
   "codemirror_mode": {
    "name": "ipython",
    "version": 3
   },
   "file_extension": ".py",
   "mimetype": "text/x-python",
   "name": "python",
   "nbconvert_exporter": "python",
   "pygments_lexer": "ipython3",
   "version": "3.8.8"
  }
 },
 "nbformat": 4,
 "nbformat_minor": 5
}
