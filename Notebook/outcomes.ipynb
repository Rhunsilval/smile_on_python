{
 "cells": [
  {
   "cell_type": "code",
   "execution_count": 1,
   "id": "0905dfd3",
   "metadata": {},
   "outputs": [],
   "source": [
    "import pandas as pd\n",
    "import dtale\n",
    "import plotly.express as px \n",
    "import numpy as np\n",
    "import matplotlib.pyplot as plt\n",
    "import seaborn as sns\n",
    "%matplotlib inline\n",
    "import re\n",
    "import time\n",
    "from datetime import datetime\n",
    "import matplotlib.dates as mdates\n",
    "import matplotlib.ticker as ticker\n",
    "from urllib.request import urlopen\n",
    "from bs4 import BeautifulSoup\n",
    "import requests"
   ]
  },
  {
   "cell_type": "markdown",
   "id": "d6a26e14",
   "metadata": {},
   "source": [
    "# Imported Clean CSV"
   ]
  },
  {
   "cell_type": "code",
   "execution_count": 2,
   "id": "a3d40205",
   "metadata": {},
   "outputs": [
    {
     "data": {
      "text/html": [
       "<div>\n",
       "<style scoped>\n",
       "    .dataframe tbody tr th:only-of-type {\n",
       "        vertical-align: middle;\n",
       "    }\n",
       "\n",
       "    .dataframe tbody tr th {\n",
       "        vertical-align: top;\n",
       "    }\n",
       "\n",
       "    .dataframe thead th {\n",
       "        text-align: right;\n",
       "    }\n",
       "</style>\n",
       "<table border=\"1\" class=\"dataframe\">\n",
       "  <thead>\n",
       "    <tr style=\"text-align: right;\">\n",
       "      <th></th>\n",
       "      <th>Unnamed: 0</th>\n",
       "      <th>CallerNum</th>\n",
       "      <th>Treatment Plan - Is the treatment plan completed?</th>\n",
       "      <th>Treatment Plan - Was the enrollee able to be restored to function (can chew) and \"social six\" esthetics (top front six teeth are present and disease free)</th>\n",
       "      <th>Birth_Year</th>\n",
       "      <th>Presumptive Eligibility - Do they pre-qualify for SMILE ON 60+?</th>\n",
       "      <th>Base-line Oral and Conditions Questions - Are you limited in what you can eat?</th>\n",
       "      <th>Treatment Plan - Was a treatment plan developed?</th>\n",
       "    </tr>\n",
       "  </thead>\n",
       "  <tbody>\n",
       "    <tr>\n",
       "      <th>0</th>\n",
       "      <td>0</td>\n",
       "      <td>3638169</td>\n",
       "      <td>NaN</td>\n",
       "      <td>NaN</td>\n",
       "      <td>1960</td>\n",
       "      <td>Yes</td>\n",
       "      <td>Yes</td>\n",
       "      <td>NaN</td>\n",
       "    </tr>\n",
       "    <tr>\n",
       "      <th>1</th>\n",
       "      <td>1</td>\n",
       "      <td>4431194</td>\n",
       "      <td>NaN</td>\n",
       "      <td>NaN</td>\n",
       "      <td>1959</td>\n",
       "      <td>Yes</td>\n",
       "      <td>Yes</td>\n",
       "      <td>NaN</td>\n",
       "    </tr>\n",
       "    <tr>\n",
       "      <th>2</th>\n",
       "      <td>2</td>\n",
       "      <td>2941341</td>\n",
       "      <td>No</td>\n",
       "      <td>No</td>\n",
       "      <td>1942</td>\n",
       "      <td>Yes</td>\n",
       "      <td>No</td>\n",
       "      <td>Yes</td>\n",
       "    </tr>\n",
       "    <tr>\n",
       "      <th>3</th>\n",
       "      <td>3</td>\n",
       "      <td>3823933</td>\n",
       "      <td>No</td>\n",
       "      <td>No</td>\n",
       "      <td>1960</td>\n",
       "      <td>Yes</td>\n",
       "      <td>Yes</td>\n",
       "      <td>Yes</td>\n",
       "    </tr>\n",
       "    <tr>\n",
       "      <th>4</th>\n",
       "      <td>4</td>\n",
       "      <td>3348256</td>\n",
       "      <td>No</td>\n",
       "      <td>No</td>\n",
       "      <td>1955</td>\n",
       "      <td>Yes</td>\n",
       "      <td>Yes</td>\n",
       "      <td>Yes</td>\n",
       "    </tr>\n",
       "  </tbody>\n",
       "</table>\n",
       "</div>"
      ],
      "text/plain": [
       "   Unnamed: 0  CallerNum Treatment Plan - Is the treatment plan completed?  \\\n",
       "0           0    3638169                                               NaN   \n",
       "1           1    4431194                                               NaN   \n",
       "2           2    2941341                                                No   \n",
       "3           3    3823933                                                No   \n",
       "4           4    3348256                                                No   \n",
       "\n",
       "  Treatment Plan - Was the enrollee able to be restored to function (can chew) and \"social six\" esthetics (top front six teeth are present and disease free)  \\\n",
       "0                                                NaN                                                                                                           \n",
       "1                                                NaN                                                                                                           \n",
       "2                                                 No                                                                                                           \n",
       "3                                                 No                                                                                                           \n",
       "4                                                 No                                                                                                           \n",
       "\n",
       "  Birth_Year Presumptive Eligibility - Do they pre-qualify for SMILE ON 60+?  \\\n",
       "0       1960                                                Yes                \n",
       "1       1959                                                Yes                \n",
       "2       1942                                                Yes                \n",
       "3       1960                                                Yes                \n",
       "4       1955                                                Yes                \n",
       "\n",
       "  Base-line Oral and Conditions Questions - Are you limited in what you can eat?  \\\n",
       "0                                                Yes                               \n",
       "1                                                Yes                               \n",
       "2                                                 No                               \n",
       "3                                                Yes                               \n",
       "4                                                Yes                               \n",
       "\n",
       "  Treatment Plan - Was a treatment plan developed?  \n",
       "0                                              NaN  \n",
       "1                                              NaN  \n",
       "2                                              Yes  \n",
       "3                                              Yes  \n",
       "4                                              Yes  "
      ]
     },
     "execution_count": 2,
     "metadata": {},
     "output_type": "execute_result"
    }
   ],
   "source": [
    "df = pd.read_csv(\"../data/outcomes.csv\")\n",
    "\n",
    "unique_ids = df['CallerNum'].nunique()\n",
    "df.head()"
   ]
  },
  {
   "cell_type": "markdown",
   "id": "2d42cbab",
   "metadata": {},
   "source": [
    "# Value Counts for two main metrics: Completed Plan and Restorated Function (with duplicate patient ids)"
   ]
  },
  {
   "cell_type": "code",
   "execution_count": 3,
   "id": "8d3a1a6f",
   "metadata": {},
   "outputs": [
    {
     "name": "stdout",
     "output_type": "stream",
     "text": [
      "No     19382\n",
      "Yes     7823\n",
      "Name: Treatment Plan - Is the treatment plan completed?, dtype: int64\n",
      "No     12260\n",
      "Yes     9794\n",
      "Name: Treatment Plan - Was the enrollee able to be restored to function (can chew) and \"social six\" esthetics (top front six teeth are present and disease free), dtype: int64\n"
     ]
    }
   ],
   "source": [
    "print(df['Treatment Plan - Is the treatment plan completed?'].value_counts())\n",
    "print(df['Treatment Plan - Was the enrollee able to be restored to function (can chew) and \"social six\" esthetics (top front six teeth are present and disease free)'].value_counts())"
   ]
  },
  {
   "cell_type": "markdown",
   "id": "af5913f6",
   "metadata": {},
   "source": [
    "### Drop columns that are not used"
   ]
  },
  {
   "cell_type": "code",
   "execution_count": 4,
   "id": "51201a88",
   "metadata": {},
   "outputs": [],
   "source": [
    "df.drop(columns=['Presumptive Eligibility - Do they pre-qualify for SMILE ON 60+?','Birth_Year'], inplace=True)\n",
    "del df['Unnamed: 0']"
   ]
  },
  {
   "cell_type": "markdown",
   "id": "9409795f",
   "metadata": {},
   "source": [
    "# Rename Columns for counting purposes"
   ]
  },
  {
   "cell_type": "code",
   "execution_count": 5,
   "id": "6d5f202f",
   "metadata": {},
   "outputs": [],
   "source": [
    "new_names = {'CallerNum':'Patient_id',\n",
    "             'Treatment Plan - Is the treatment plan completed?':'Plan_Completed',\n",
    "             'Treatment Plan - Was the enrollee able to be restored to function (can chew) and \"social six\" esthetics (top front six teeth are present and disease free)':'Restored_Function',\n",
    "             'Treatment Plan - Was a treatment plan developed?':'Plan_developed',\n",
    "             'Base-line Oral and Conditions Questions - Are you limited in what you can eat?':'Limited'}"
   ]
  },
  {
   "cell_type": "code",
   "execution_count": 6,
   "id": "68005701",
   "metadata": {},
   "outputs": [
    {
     "data": {
      "text/html": [
       "<div>\n",
       "<style scoped>\n",
       "    .dataframe tbody tr th:only-of-type {\n",
       "        vertical-align: middle;\n",
       "    }\n",
       "\n",
       "    .dataframe tbody tr th {\n",
       "        vertical-align: top;\n",
       "    }\n",
       "\n",
       "    .dataframe thead th {\n",
       "        text-align: right;\n",
       "    }\n",
       "</style>\n",
       "<table border=\"1\" class=\"dataframe\">\n",
       "  <thead>\n",
       "    <tr style=\"text-align: right;\">\n",
       "      <th></th>\n",
       "      <th>Patient_id</th>\n",
       "      <th>Plan_Completed</th>\n",
       "      <th>Restored_Function</th>\n",
       "      <th>Limited</th>\n",
       "      <th>Plan_developed</th>\n",
       "    </tr>\n",
       "  </thead>\n",
       "  <tbody>\n",
       "    <tr>\n",
       "      <th>0</th>\n",
       "      <td>3638169</td>\n",
       "      <td>NaN</td>\n",
       "      <td>NaN</td>\n",
       "      <td>Yes</td>\n",
       "      <td>NaN</td>\n",
       "    </tr>\n",
       "    <tr>\n",
       "      <th>1</th>\n",
       "      <td>4431194</td>\n",
       "      <td>NaN</td>\n",
       "      <td>NaN</td>\n",
       "      <td>Yes</td>\n",
       "      <td>NaN</td>\n",
       "    </tr>\n",
       "    <tr>\n",
       "      <th>2</th>\n",
       "      <td>2941341</td>\n",
       "      <td>No</td>\n",
       "      <td>No</td>\n",
       "      <td>No</td>\n",
       "      <td>Yes</td>\n",
       "    </tr>\n",
       "    <tr>\n",
       "      <th>3</th>\n",
       "      <td>3823933</td>\n",
       "      <td>No</td>\n",
       "      <td>No</td>\n",
       "      <td>Yes</td>\n",
       "      <td>Yes</td>\n",
       "    </tr>\n",
       "    <tr>\n",
       "      <th>4</th>\n",
       "      <td>3348256</td>\n",
       "      <td>No</td>\n",
       "      <td>No</td>\n",
       "      <td>Yes</td>\n",
       "      <td>Yes</td>\n",
       "    </tr>\n",
       "  </tbody>\n",
       "</table>\n",
       "</div>"
      ],
      "text/plain": [
       "   Patient_id Plan_Completed Restored_Function Limited Plan_developed\n",
       "0     3638169            NaN               NaN     Yes            NaN\n",
       "1     4431194            NaN               NaN     Yes            NaN\n",
       "2     2941341             No                No      No            Yes\n",
       "3     3823933             No                No     Yes            Yes\n",
       "4     3348256             No                No     Yes            Yes"
      ]
     },
     "execution_count": 6,
     "metadata": {},
     "output_type": "execute_result"
    }
   ],
   "source": [
    "df.rename(columns=new_names, inplace=True)\n",
    "df.head()"
   ]
  },
  {
   "cell_type": "markdown",
   "id": "aa539053",
   "metadata": {},
   "source": [
    "# Sorted and dropped duplicates of Patient ids"
   ]
  },
  {
   "cell_type": "code",
   "execution_count": 7,
   "id": "859e3ab9",
   "metadata": {},
   "outputs": [
    {
     "data": {
      "text/html": [
       "<div>\n",
       "<style scoped>\n",
       "    .dataframe tbody tr th:only-of-type {\n",
       "        vertical-align: middle;\n",
       "    }\n",
       "\n",
       "    .dataframe tbody tr th {\n",
       "        vertical-align: top;\n",
       "    }\n",
       "\n",
       "    .dataframe thead th {\n",
       "        text-align: right;\n",
       "    }\n",
       "</style>\n",
       "<table border=\"1\" class=\"dataframe\">\n",
       "  <thead>\n",
       "    <tr style=\"text-align: right;\">\n",
       "      <th></th>\n",
       "      <th>Patient_id</th>\n",
       "      <th>Plan_Completed</th>\n",
       "      <th>Restored_Function</th>\n",
       "      <th>Limited</th>\n",
       "      <th>Plan_developed</th>\n",
       "    </tr>\n",
       "  </thead>\n",
       "  <tbody>\n",
       "    <tr>\n",
       "      <th>47543</th>\n",
       "      <td>-2</td>\n",
       "      <td>NaN</td>\n",
       "      <td>NaN</td>\n",
       "      <td>No</td>\n",
       "      <td>Yes</td>\n",
       "    </tr>\n",
       "    <tr>\n",
       "      <th>609</th>\n",
       "      <td>-1</td>\n",
       "      <td>No</td>\n",
       "      <td>No</td>\n",
       "      <td>NaN</td>\n",
       "      <td>Yes</td>\n",
       "    </tr>\n",
       "    <tr>\n",
       "      <th>34169</th>\n",
       "      <td>2384106</td>\n",
       "      <td>No</td>\n",
       "      <td>No</td>\n",
       "      <td>Yes</td>\n",
       "      <td>Yes</td>\n",
       "    </tr>\n",
       "    <tr>\n",
       "      <th>3701</th>\n",
       "      <td>2384744</td>\n",
       "      <td>No</td>\n",
       "      <td>No</td>\n",
       "      <td>No</td>\n",
       "      <td>Yes</td>\n",
       "    </tr>\n",
       "    <tr>\n",
       "      <th>54215</th>\n",
       "      <td>2384833</td>\n",
       "      <td>Yes</td>\n",
       "      <td>Yes</td>\n",
       "      <td>No</td>\n",
       "      <td>Yes</td>\n",
       "    </tr>\n",
       "  </tbody>\n",
       "</table>\n",
       "</div>"
      ],
      "text/plain": [
       "       Patient_id Plan_Completed Restored_Function Limited Plan_developed\n",
       "47543          -2            NaN               NaN      No            Yes\n",
       "609            -1             No                No     NaN            Yes\n",
       "34169     2384106             No                No     Yes            Yes\n",
       "3701      2384744             No                No      No            Yes\n",
       "54215     2384833            Yes               Yes      No            Yes"
      ]
     },
     "execution_count": 7,
     "metadata": {},
     "output_type": "execute_result"
    }
   ],
   "source": [
    "sorted = df.sort_values(['Patient_id',\n",
    "                         'Plan_Completed',\n",
    "                         'Restored_Function',\n",
    "                         'Plan_developed',\n",
    "                         'Limited']).drop_duplicates(['Patient_id'], keep='first')\n",
    "sorted.head()"
   ]
  },
  {
   "cell_type": "code",
   "execution_count": 8,
   "id": "4f2743d4",
   "metadata": {},
   "outputs": [
    {
     "name": "stdout",
     "output_type": "stream",
     "text": [
      "No     5522\n",
      "Yes     883\n",
      "Name: Plan_Completed, dtype: int64\n",
      "No     4179\n",
      "Yes    1411\n",
      "Name: Restored_Function, dtype: int64\n",
      "Yes    5745\n",
      "No      698\n",
      "Name: Plan_developed, dtype: int64\n",
      "Yes    5089\n",
      "No     3946\n",
      "Name: Limited, dtype: int64\n"
     ]
    }
   ],
   "source": [
    "print(sorted['Plan_Completed'].value_counts())\n",
    "print(sorted['Restored_Function'].value_counts())\n",
    "print(sorted['Plan_developed'].value_counts())\n",
    "print(sorted['Limited'].value_counts())"
   ]
  },
  {
   "cell_type": "code",
   "execution_count": 9,
   "id": "d3f9cc45",
   "metadata": {},
   "outputs": [],
   "source": [
    "l_no_na = sorted[sorted['Limited'].notna()]\n",
    "pd_no_na = sorted[sorted['Plan_developed'].notna()]\n",
    "pc_no_na = sorted[sorted['Plan_Completed'].notna()]\n",
    "rf_no_na = sorted[sorted['Restored_Function'].notna()]"
   ]
  },
  {
   "cell_type": "code",
   "execution_count": null,
   "id": "fe589f29",
   "metadata": {},
   "outputs": [],
   "source": []
  },
  {
   "cell_type": "code",
   "execution_count": null,
   "id": "7a6d5574",
   "metadata": {},
   "outputs": [],
   "source": []
  },
  {
   "cell_type": "code",
   "execution_count": null,
   "id": "bdf4ee22",
   "metadata": {},
   "outputs": [],
   "source": []
  },
  {
   "cell_type": "markdown",
   "id": "a3e6b28c",
   "metadata": {},
   "source": [
    "\n",
    "# Sorted by Sub-metric: Limited(chew capability), Plan Developed, Plan Completed, and Restored Function."
   ]
  },
  {
   "cell_type": "markdown",
   "id": "80597e19",
   "metadata": {},
   "source": [
    "## Level 1\n",
    "#### Documented that all submetrics were answered as 'Yes'"
   ]
  },
  {
   "cell_type": "code",
   "execution_count": 10,
   "id": "561bc545",
   "metadata": {},
   "outputs": [
    {
     "data": {
      "text/html": [
       "<div>\n",
       "<style scoped>\n",
       "    .dataframe tbody tr th:only-of-type {\n",
       "        vertical-align: middle;\n",
       "    }\n",
       "\n",
       "    .dataframe tbody tr th {\n",
       "        vertical-align: top;\n",
       "    }\n",
       "\n",
       "    .dataframe thead th {\n",
       "        text-align: right;\n",
       "    }\n",
       "</style>\n",
       "<table border=\"1\" class=\"dataframe\">\n",
       "  <thead>\n",
       "    <tr style=\"text-align: right;\">\n",
       "      <th></th>\n",
       "      <th>Patient_id</th>\n",
       "      <th>Plan_Completed</th>\n",
       "      <th>Restored_Function</th>\n",
       "      <th>Limited</th>\n",
       "      <th>Plan_developed</th>\n",
       "    </tr>\n",
       "  </thead>\n",
       "  <tbody>\n",
       "    <tr>\n",
       "      <th>52758</th>\n",
       "      <td>2386054</td>\n",
       "      <td>Yes</td>\n",
       "      <td>Yes</td>\n",
       "      <td>Yes</td>\n",
       "      <td>Yes</td>\n",
       "    </tr>\n",
       "    <tr>\n",
       "      <th>48392</th>\n",
       "      <td>2386075</td>\n",
       "      <td>Yes</td>\n",
       "      <td>Yes</td>\n",
       "      <td>Yes</td>\n",
       "      <td>Yes</td>\n",
       "    </tr>\n",
       "    <tr>\n",
       "      <th>54439</th>\n",
       "      <td>2387558</td>\n",
       "      <td>Yes</td>\n",
       "      <td>Yes</td>\n",
       "      <td>Yes</td>\n",
       "      <td>Yes</td>\n",
       "    </tr>\n",
       "    <tr>\n",
       "      <th>42557</th>\n",
       "      <td>2391110</td>\n",
       "      <td>Yes</td>\n",
       "      <td>Yes</td>\n",
       "      <td>Yes</td>\n",
       "      <td>Yes</td>\n",
       "    </tr>\n",
       "    <tr>\n",
       "      <th>53674</th>\n",
       "      <td>2392454</td>\n",
       "      <td>Yes</td>\n",
       "      <td>Yes</td>\n",
       "      <td>Yes</td>\n",
       "      <td>Yes</td>\n",
       "    </tr>\n",
       "  </tbody>\n",
       "</table>\n",
       "</div>"
      ],
      "text/plain": [
       "       Patient_id Plan_Completed Restored_Function Limited Plan_developed\n",
       "52758     2386054            Yes               Yes     Yes            Yes\n",
       "48392     2386075            Yes               Yes     Yes            Yes\n",
       "54439     2387558            Yes               Yes     Yes            Yes\n",
       "42557     2391110            Yes               Yes     Yes            Yes\n",
       "53674     2392454            Yes               Yes     Yes            Yes"
      ]
     },
     "execution_count": 10,
     "metadata": {},
     "output_type": "execute_result"
    }
   ],
   "source": [
    "completed_1 = sorted[(sorted['Limited'] == 'Yes') & \n",
    "                (sorted['Plan_developed'] == 'Yes') & \n",
    "                (sorted['Plan_Completed'] == 'Yes') & \n",
    "                (sorted['Restored_Function'] == 'Yes') ]\n",
    "completed_1.head(5)"
   ]
  },
  {
   "cell_type": "markdown",
   "id": "cf18bd5b",
   "metadata": {},
   "source": [
    "### Percentages  \n",
    "##### .mul(100).round(1).astype(str) + '%'"
   ]
  },
  {
   "cell_type": "code",
   "execution_count": 11,
   "id": "8fd8e8e1",
   "metadata": {},
   "outputs": [
    {
     "data": {
      "text/plain": [
       "Yes    2.2%\n",
       "Name: Restored_Function, dtype: object"
      ]
     },
     "execution_count": 11,
     "metadata": {},
     "output_type": "execute_result"
    }
   ],
   "source": [
    "level_1= (completed_1['Restored_Function'].value_counts()/unique_ids).mul(100).round(1).astype(str) + '%'\n",
    "level_1"
   ]
  },
  {
   "cell_type": "markdown",
   "id": "dd955d7c",
   "metadata": {},
   "source": [
    "## Level 2\n",
    "#### Documented that Plan was developed, Plan was completed and Returned to Function were answered as 'Yes'"
   ]
  },
  {
   "cell_type": "code",
   "execution_count": 12,
   "id": "b87d60a7",
   "metadata": {},
   "outputs": [
    {
     "data": {
      "text/html": [
       "<div>\n",
       "<style scoped>\n",
       "    .dataframe tbody tr th:only-of-type {\n",
       "        vertical-align: middle;\n",
       "    }\n",
       "\n",
       "    .dataframe tbody tr th {\n",
       "        vertical-align: top;\n",
       "    }\n",
       "\n",
       "    .dataframe thead th {\n",
       "        text-align: right;\n",
       "    }\n",
       "</style>\n",
       "<table border=\"1\" class=\"dataframe\">\n",
       "  <thead>\n",
       "    <tr style=\"text-align: right;\">\n",
       "      <th></th>\n",
       "      <th>Patient_id</th>\n",
       "      <th>Plan_Completed</th>\n",
       "      <th>Restored_Function</th>\n",
       "      <th>Limited</th>\n",
       "      <th>Plan_developed</th>\n",
       "    </tr>\n",
       "  </thead>\n",
       "  <tbody>\n",
       "    <tr>\n",
       "      <th>54215</th>\n",
       "      <td>2384833</td>\n",
       "      <td>Yes</td>\n",
       "      <td>Yes</td>\n",
       "      <td>No</td>\n",
       "      <td>Yes</td>\n",
       "    </tr>\n",
       "    <tr>\n",
       "      <th>27851</th>\n",
       "      <td>2384932</td>\n",
       "      <td>Yes</td>\n",
       "      <td>Yes</td>\n",
       "      <td>NaN</td>\n",
       "      <td>Yes</td>\n",
       "    </tr>\n",
       "    <tr>\n",
       "      <th>53228</th>\n",
       "      <td>2384971</td>\n",
       "      <td>Yes</td>\n",
       "      <td>Yes</td>\n",
       "      <td>No</td>\n",
       "      <td>Yes</td>\n",
       "    </tr>\n",
       "    <tr>\n",
       "      <th>56333</th>\n",
       "      <td>2385168</td>\n",
       "      <td>Yes</td>\n",
       "      <td>Yes</td>\n",
       "      <td>No</td>\n",
       "      <td>Yes</td>\n",
       "    </tr>\n",
       "    <tr>\n",
       "      <th>48129</th>\n",
       "      <td>2385321</td>\n",
       "      <td>Yes</td>\n",
       "      <td>Yes</td>\n",
       "      <td>NaN</td>\n",
       "      <td>Yes</td>\n",
       "    </tr>\n",
       "  </tbody>\n",
       "</table>\n",
       "</div>"
      ],
      "text/plain": [
       "       Patient_id Plan_Completed Restored_Function Limited Plan_developed\n",
       "54215     2384833            Yes               Yes      No            Yes\n",
       "27851     2384932            Yes               Yes     NaN            Yes\n",
       "53228     2384971            Yes               Yes      No            Yes\n",
       "56333     2385168            Yes               Yes      No            Yes\n",
       "48129     2385321            Yes               Yes     NaN            Yes"
      ]
     },
     "execution_count": 12,
     "metadata": {},
     "output_type": "execute_result"
    }
   ],
   "source": [
    "completed_2 = sorted[ (sorted['Plan_developed'] == 'Yes') & \n",
    "                      (sorted['Plan_Completed'] == 'Yes') & \n",
    "                      (sorted['Restored_Function'] == 'Yes') ]\n",
    "completed_2.head(5)"
   ]
  },
  {
   "cell_type": "code",
   "execution_count": 13,
   "id": "a0346473",
   "metadata": {},
   "outputs": [
    {
     "data": {
      "text/plain": [
       "Yes    6.2%\n",
       "Name: Restored_Function, dtype: object"
      ]
     },
     "execution_count": 13,
     "metadata": {},
     "output_type": "execute_result"
    }
   ],
   "source": [
    "level_2= (completed_2['Restored_Function'].value_counts()/unique_ids).mul(100).round(1).astype(str) + '%'\n",
    "level_2"
   ]
  },
  {
   "cell_type": "markdown",
   "id": "3ea8fca2",
   "metadata": {},
   "source": [
    "## Level 3\n",
    "#### Documented that a Plan was completed and Returned to Function were answered as 'Yes'"
   ]
  },
  {
   "cell_type": "code",
   "execution_count": 14,
   "id": "f7a85bd7",
   "metadata": {},
   "outputs": [
    {
     "data": {
      "text/html": [
       "<div>\n",
       "<style scoped>\n",
       "    .dataframe tbody tr th:only-of-type {\n",
       "        vertical-align: middle;\n",
       "    }\n",
       "\n",
       "    .dataframe tbody tr th {\n",
       "        vertical-align: top;\n",
       "    }\n",
       "\n",
       "    .dataframe thead th {\n",
       "        text-align: right;\n",
       "    }\n",
       "</style>\n",
       "<table border=\"1\" class=\"dataframe\">\n",
       "  <thead>\n",
       "    <tr style=\"text-align: right;\">\n",
       "      <th></th>\n",
       "      <th>Patient_id</th>\n",
       "      <th>Plan_Completed</th>\n",
       "      <th>Restored_Function</th>\n",
       "      <th>Limited</th>\n",
       "      <th>Plan_developed</th>\n",
       "    </tr>\n",
       "  </thead>\n",
       "  <tbody>\n",
       "    <tr>\n",
       "      <th>54215</th>\n",
       "      <td>2384833</td>\n",
       "      <td>Yes</td>\n",
       "      <td>Yes</td>\n",
       "      <td>No</td>\n",
       "      <td>Yes</td>\n",
       "    </tr>\n",
       "    <tr>\n",
       "      <th>27851</th>\n",
       "      <td>2384932</td>\n",
       "      <td>Yes</td>\n",
       "      <td>Yes</td>\n",
       "      <td>NaN</td>\n",
       "      <td>Yes</td>\n",
       "    </tr>\n",
       "    <tr>\n",
       "      <th>53228</th>\n",
       "      <td>2384971</td>\n",
       "      <td>Yes</td>\n",
       "      <td>Yes</td>\n",
       "      <td>No</td>\n",
       "      <td>Yes</td>\n",
       "    </tr>\n",
       "    <tr>\n",
       "      <th>56333</th>\n",
       "      <td>2385168</td>\n",
       "      <td>Yes</td>\n",
       "      <td>Yes</td>\n",
       "      <td>No</td>\n",
       "      <td>Yes</td>\n",
       "    </tr>\n",
       "    <tr>\n",
       "      <th>48129</th>\n",
       "      <td>2385321</td>\n",
       "      <td>Yes</td>\n",
       "      <td>Yes</td>\n",
       "      <td>NaN</td>\n",
       "      <td>Yes</td>\n",
       "    </tr>\n",
       "  </tbody>\n",
       "</table>\n",
       "</div>"
      ],
      "text/plain": [
       "       Patient_id Plan_Completed Restored_Function Limited Plan_developed\n",
       "54215     2384833            Yes               Yes      No            Yes\n",
       "27851     2384932            Yes               Yes     NaN            Yes\n",
       "53228     2384971            Yes               Yes      No            Yes\n",
       "56333     2385168            Yes               Yes      No            Yes\n",
       "48129     2385321            Yes               Yes     NaN            Yes"
      ]
     },
     "execution_count": 14,
     "metadata": {},
     "output_type": "execute_result"
    }
   ],
   "source": [
    "completed_3 = sorted[ (sorted['Plan_Completed'] == 'Yes') & \n",
    "                      (sorted['Restored_Function'] == 'Yes') ]\n",
    "completed_3.head(5)"
   ]
  },
  {
   "cell_type": "code",
   "execution_count": 15,
   "id": "16f519df",
   "metadata": {},
   "outputs": [
    {
     "data": {
      "text/plain": [
       "Yes    6.9%\n",
       "Name: Restored_Function, dtype: object"
      ]
     },
     "execution_count": 15,
     "metadata": {},
     "output_type": "execute_result"
    }
   ],
   "source": [
    "level_3= (completed_3['Restored_Function'].value_counts()/unique_ids).mul(100).round(1).astype(str) + '%'\n",
    "level_3"
   ]
  },
  {
   "cell_type": "markdown",
   "id": "1f8c44e3",
   "metadata": {},
   "source": [
    "## Level 4\n",
    "#### Documented that Returned to Function were answered as 'Yes'"
   ]
  },
  {
   "cell_type": "code",
   "execution_count": 43,
   "id": "d83ee0c5",
   "metadata": {},
   "outputs": [
    {
     "data": {
      "text/html": [
       "<div>\n",
       "<style scoped>\n",
       "    .dataframe tbody tr th:only-of-type {\n",
       "        vertical-align: middle;\n",
       "    }\n",
       "\n",
       "    .dataframe tbody tr th {\n",
       "        vertical-align: top;\n",
       "    }\n",
       "\n",
       "    .dataframe thead th {\n",
       "        text-align: right;\n",
       "    }\n",
       "</style>\n",
       "<table border=\"1\" class=\"dataframe\">\n",
       "  <thead>\n",
       "    <tr style=\"text-align: right;\">\n",
       "      <th></th>\n",
       "      <th>Patient_id</th>\n",
       "      <th>Plan_Completed</th>\n",
       "      <th>Restored_Function</th>\n",
       "      <th>Limited</th>\n",
       "      <th>Plan_developed</th>\n",
       "    </tr>\n",
       "  </thead>\n",
       "  <tbody>\n",
       "    <tr>\n",
       "      <th>54215</th>\n",
       "      <td>2384833</td>\n",
       "      <td>Yes</td>\n",
       "      <td>Yes</td>\n",
       "      <td>No</td>\n",
       "      <td>Yes</td>\n",
       "    </tr>\n",
       "    <tr>\n",
       "      <th>27851</th>\n",
       "      <td>2384932</td>\n",
       "      <td>Yes</td>\n",
       "      <td>Yes</td>\n",
       "      <td>NaN</td>\n",
       "      <td>Yes</td>\n",
       "    </tr>\n",
       "    <tr>\n",
       "      <th>55200</th>\n",
       "      <td>2384963</td>\n",
       "      <td>No</td>\n",
       "      <td>Yes</td>\n",
       "      <td>NaN</td>\n",
       "      <td>Yes</td>\n",
       "    </tr>\n",
       "    <tr>\n",
       "      <th>53228</th>\n",
       "      <td>2384971</td>\n",
       "      <td>Yes</td>\n",
       "      <td>Yes</td>\n",
       "      <td>No</td>\n",
       "      <td>Yes</td>\n",
       "    </tr>\n",
       "    <tr>\n",
       "      <th>53360</th>\n",
       "      <td>2385046</td>\n",
       "      <td>NaN</td>\n",
       "      <td>Yes</td>\n",
       "      <td>No</td>\n",
       "      <td>Yes</td>\n",
       "    </tr>\n",
       "  </tbody>\n",
       "</table>\n",
       "</div>"
      ],
      "text/plain": [
       "       Patient_id Plan_Completed Restored_Function Limited Plan_developed\n",
       "54215     2384833            Yes               Yes      No            Yes\n",
       "27851     2384932            Yes               Yes     NaN            Yes\n",
       "55200     2384963             No               Yes     NaN            Yes\n",
       "53228     2384971            Yes               Yes      No            Yes\n",
       "53360     2385046            NaN               Yes      No            Yes"
      ]
     },
     "execution_count": 43,
     "metadata": {},
     "output_type": "execute_result"
    }
   ],
   "source": [
    "completed_4 = sorted[#(sorted['Plan_Completed'] == 'No') |\n",
    "                      (sorted['Restored_Function'] == 'Yes') ]\n",
    "completed_4.head(5)"
   ]
  },
  {
   "cell_type": "code",
   "execution_count": 44,
   "id": "95958907",
   "metadata": {},
   "outputs": [
    {
     "data": {
      "text/plain": [
       "Yes    13.2%\n",
       "Name: Restored_Function, dtype: object"
      ]
     },
     "execution_count": 44,
     "metadata": {},
     "output_type": "execute_result"
    }
   ],
   "source": [
    "level_4= (completed_4['Restored_Function'].value_counts()/unique_ids).mul(100).round(1).astype(str) + '%'\n",
    "level_4"
   ]
  },
  {
   "cell_type": "code",
   "execution_count": null,
   "id": "9de59451",
   "metadata": {},
   "outputs": [],
   "source": []
  },
  {
   "cell_type": "markdown",
   "id": "5c8378c5",
   "metadata": {},
   "source": [
    "# DISCLAIMER: 'df' refers to the data you passed in when calling 'dtale.show'\n",
    "\n",
    "duplicates = sorted.duplicated(['Patient_id'], keep='first')\n",
    "sorted= sorted[~duplicates]\n",
    "if isinstance(sorted, (pd.DatetimeIndex, pd.MultiIndex)):\n",
    "    sorted = sorted.to_frame(index=False)\n",
    "\n",
    "# remove any pre-existing indices for ease of use in the D-Tale code, but this is not required\n",
    "sorted = sorted.reset_index().drop('index', axis=1, errors='ignore')\n",
    "sorted.columns = [str(c) for c in df.columns]  # update columns to strings in case they are numbers\n",
    "\n",
    "sorted.head()"
   ]
  },
  {
   "cell_type": "markdown",
   "id": "3089d5a5",
   "metadata": {},
   "source": [
    "print(sorted['Plan_Completed'].value_counts())\n",
    "print(sorted['Restored_Function'].value_counts())"
   ]
  },
  {
   "cell_type": "code",
   "execution_count": 45,
   "id": "cef1409d",
   "metadata": {},
   "outputs": [
    {
     "name": "stdout",
     "output_type": "stream",
     "text": [
      "Yes    1411\n",
      "Name: Restored_Function, dtype: int64\n",
      "Yes    13.2%\n",
      "Name: Restored_Function, dtype: object\n",
      "Yes    743\n",
      "Name: Restored_Function, dtype: int64\n",
      "Yes    6.9%\n",
      "Name: Restored_Function, dtype: object\n",
      "Yes    662\n",
      "Name: Restored_Function, dtype: int64\n",
      "Yes    6.2%\n",
      "Name: Restored_Function, dtype: object\n",
      "Yes    238\n",
      "Name: Restored_Function, dtype: int64\n",
      "Yes    2.2%\n",
      "Name: Restored_Function, dtype: object\n",
      "10711\n"
     ]
    }
   ],
   "source": [
    "print(completed_4['Restored_Function'].value_counts())\n",
    "print(level_4)\n",
    "print(completed_3['Restored_Function'].value_counts())\n",
    "print(level_3)\n",
    "print(completed_2['Restored_Function'].value_counts())\n",
    "print(level_2)\n",
    "print(completed_1['Restored_Function'].value_counts())\n",
    "print(level_1)\n",
    "print(unique_ids)"
   ]
  },
  {
   "cell_type": "code",
   "execution_count": 40,
   "id": "c5d5f0e7",
   "metadata": {},
   "outputs": [
    {
     "data": {
      "text/html": [
       "<div>\n",
       "<style scoped>\n",
       "    .dataframe tbody tr th:only-of-type {\n",
       "        vertical-align: middle;\n",
       "    }\n",
       "\n",
       "    .dataframe tbody tr th {\n",
       "        vertical-align: top;\n",
       "    }\n",
       "\n",
       "    .dataframe thead th {\n",
       "        text-align: right;\n",
       "    }\n",
       "</style>\n",
       "<table border=\"1\" class=\"dataframe\">\n",
       "  <thead>\n",
       "    <tr style=\"text-align: right;\">\n",
       "      <th></th>\n",
       "      <th>Patient_Count</th>\n",
       "      <th>Patient_Percentage</th>\n",
       "    </tr>\n",
       "  </thead>\n",
       "  <tbody>\n",
       "    <tr>\n",
       "      <th>Unique_ids</th>\n",
       "      <td>10709</td>\n",
       "      <td>100.0</td>\n",
       "    </tr>\n",
       "    <tr>\n",
       "      <th>Level_4</th>\n",
       "      <td>1411</td>\n",
       "      <td>13.2</td>\n",
       "    </tr>\n",
       "    <tr>\n",
       "      <th>Level_3</th>\n",
       "      <td>743</td>\n",
       "      <td>6.9</td>\n",
       "    </tr>\n",
       "    <tr>\n",
       "      <th>Level_2</th>\n",
       "      <td>662</td>\n",
       "      <td>6.2</td>\n",
       "    </tr>\n",
       "    <tr>\n",
       "      <th>Level_1</th>\n",
       "      <td>238</td>\n",
       "      <td>2.2</td>\n",
       "    </tr>\n",
       "  </tbody>\n",
       "</table>\n",
       "</div>"
      ],
      "text/plain": [
       "            Patient_Count  Patient_Percentage\n",
       "Unique_ids          10709               100.0\n",
       "Level_4              1411                13.2\n",
       "Level_3               743                 6.9\n",
       "Level_2               662                 6.2\n",
       "Level_1               238                 2.2"
      ]
     },
     "execution_count": 40,
     "metadata": {},
     "output_type": "execute_result"
    }
   ],
   "source": [
    "Smile_df = pd.DataFrame({'Patient_Count': [10709,1411, 743, 662, 238],\n",
    "                   'Patient_Percentage': [100,13.2, 6.9, 6.2, 2.2]},\n",
    "                  index=['Unique_ids','Level_4', 'Level_3', 'Level_2','Level_1'])\n",
    "Smile_df"
   ]
  },
  {
   "cell_type": "code",
   "execution_count": 66,
   "id": "f044c19b",
   "metadata": {},
   "outputs": [
    {
     "data": {
      "text/plain": [
       "Text(0, 0.5, 'Patient_Count')"
      ]
     },
     "execution_count": 66,
     "metadata": {},
     "output_type": "execute_result"
    },
    {
     "data": {
      "image/png": "[encoded data removed]",
      "text/plain": [
       "<Figure size 432x288 with 1 Axes>"
      ]
     },
     "metadata": {
      "needs_background": "light"
     },
     "output_type": "display_data"
    }
   ],
   "source": [
    "sorted['Restored_Function'].hist(bins=4, grid=True, xlabelsize=12, ylabelsize=12)\n",
    "plt.xlabel(\"Restored_Function\", fontsize=15)\n",
    "plt.ylabel(\"Patient_Count\",fontsize=15)"
   ]
  },
  {
   "cell_type": "code",
   "execution_count": 63,
   "id": "01d11f71",
   "metadata": {},
   "outputs": [
    {
     "data": {
      "text/plain": [
       "(2.0, 9.0)"
      ]
     },
     "execution_count": 63,
     "metadata": {},
     "output_type": "execute_result"
    },
    {
     "data": {
      "image/png": "[encoded data removed]",
      "text/plain": [
       "<Figure size 432x288 with 1 Axes>"
      ]
     },
     "metadata": {
      "needs_background": "light"
     },
     "output_type": "display_data"
    }
   ],
   "source": [
    "sorted['Restored_Function'].hist(bins=4, grid=True, xlabelsize=12, ylabelsize=12)\n",
    "plt.xlabel(\"Restored_Function\", fontsize=15)\n",
    "plt.ylabel(\"Patient_Count\",fontsize=15)\n",
    "plt.xlim([2.0,9.0])"
   ]
  },
  {
   "cell_type": "code",
   "execution_count": 53,
   "id": "307e7d25",
   "metadata": {},
   "outputs": [
    {
     "name": "stdout",
     "output_type": "stream",
     "text": [
      "4149518    1\n",
      "2415278    1\n",
      "2854192    1\n",
      "2504441    1\n",
      "3388470    1\n",
      "          ..\n",
      "4357493    1\n",
      "2469239    1\n",
      "3102072    1\n",
      "2776441    1\n",
      "2525183    1\n",
      "Name: Patient_id, Length: 10711, dtype: int64\n"
     ]
    }
   ],
   "source": [
    "print(sorted['Patient_id'].value_counts())"
   ]
  },
  {
   "cell_type": "code",
   "execution_count": null,
   "id": "3c6c70f4",
   "metadata": {},
   "outputs": [],
   "source": []
  },
  {
   "cell_type": "code",
   "execution_count": null,
   "id": "4050b213",
   "metadata": {},
   "outputs": [],
   "source": [
    "#dental_df[dental_df['Are you limited to what you eat?'] == 'Yes']['Age'].describe\n",
    "#dental_df[dental_df['Are you limited to what you eat?'] == 'Yes']['Age'].value_counts(normalize = True)\n"
   ]
  },
  {
   "cell_type": "code",
   "execution_count": null,
   "id": "64e1c47c",
   "metadata": {},
   "outputs": [],
   "source": [
    "d = dtale.show(Smile_df)\n",
    "\n",
    "#open it in a new window in browser\n",
    "\n",
    "d.open_browser()"
   ]
  },
  {
   "cell_type": "code",
   "execution_count": null,
   "id": "482b2840",
   "metadata": {},
   "outputs": [],
   "source": []
  },
  {
   "cell_type": "code",
   "execution_count": null,
   "id": "d1a05101",
   "metadata": {},
   "outputs": [],
   "source": []
  },
  {
   "cell_type": "code",
   "execution_count": null,
   "id": "dc4eeca5",
   "metadata": {},
   "outputs": [],
   "source": []
  },
  {
   "cell_type": "code",
   "execution_count": null,
   "id": "7219d947",
   "metadata": {},
   "outputs": [],
   "source": []
  }
 ],
 "metadata": {
  "kernelspec": {
   "display_name": "Python 3",
   "language": "python",
   "name": "python3"
  },
  "language_info": {
   "codemirror_mode": {
    "name": "ipython",
    "version": 3
   },
   "file_extension": ".py",
   "mimetype": "text/x-python",
   "name": "python",
   "nbconvert_exporter": "python",
   "pygments_lexer": "ipython3",
   "version": "3.8.8"
  }
 },
 "nbformat": 4,
 "nbformat_minor": 5
}
