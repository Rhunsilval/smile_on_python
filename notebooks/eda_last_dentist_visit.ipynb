{
 "cells": [
  {
   "cell_type": "markdown",
   "id": "51aa8d7e",
   "metadata": {},
   "source": [
    "# Smile On 60+ - Last Dentist Visit - EDA"
   ]
  },
  {
   "cell_type": "markdown",
   "id": "64fdc2ce",
   "metadata": {},
   "source": [
    "### Import modules"
   ]
  },
  {
   "cell_type": "code",
   "execution_count": 1,
   "id": "ffe7a018",
   "metadata": {},
   "outputs": [],
   "source": [
    "import pandas as pd\n",
    "import dtale\n",
    "import matplotlib.pyplot as plt\n",
    "%matplotlib inline\n",
    "import seaborn as sns"
   ]
  },
  {
   "cell_type": "markdown",
   "id": "589ecaff",
   "metadata": {},
   "source": [
    "#### Seaborn settings"
   ]
  },
  {
   "cell_type": "code",
   "execution_count": 65,
   "id": "21b6c8bd",
   "metadata": {},
   "outputs": [],
   "source": [
    "sns.set(rc={\"figure.figsize\":(13, 8)},font_scale=1.5, style='darkgrid')\n",
    "\n",
    "# Palette details\n",
    "smileplus_palette = sns.color_palette([\"#EE2737\", \"#FBF9F9\", \"#18425A\", \"#507184\"])"
   ]
  },
  {
   "cell_type": "markdown",
   "id": "ec9701d2",
   "metadata": {},
   "source": [
    "### Read in CLEAN .csv"
   ]
  },
  {
   "cell_type": "code",
   "execution_count": 2,
   "id": "f56051b3",
   "metadata": {
    "scrolled": true
   },
   "outputs": [],
   "source": [
    "smileon_df = pd.read_csv('../data/Smileon.2021.10.17.CLEAN.csv')"
   ]
  },
  {
   "cell_type": "markdown",
   "id": "25f1d4ec",
   "metadata": {},
   "source": [
    "### Check DataFrame\n",
    "- Exporting to .csv does not keep custom datatypes"
   ]
  },
  {
   "cell_type": "code",
   "execution_count": 3,
   "id": "80f08168",
   "metadata": {},
   "outputs": [],
   "source": [
    "# Set it to None to display all columns in the dataframe\n",
    "#pd.set_option('display.max_columns', None)\n",
    "#smileon_df.info()\n",
    "#smileon_df.head()"
   ]
  },
  {
   "cell_type": "markdown",
   "id": "bcdc1421",
   "metadata": {},
   "source": [
    "### Convert column datatypes"
   ]
  },
  {
   "cell_type": "code",
   "execution_count": 4,
   "id": "97cb0014",
   "metadata": {},
   "outputs": [],
   "source": [
    "# Dropping Transgender and Other since there are 0 Dental Conditions for those genders\n",
    "# Dropping Dont Know for Dental condition\n",
    "indexNames = smileon_df[\n",
    "    (smileon_df['Gender'] == 'Transgender') |\n",
    "    (smileon_df['Gender'] == 'Other') |\n",
    "    (smileon_df['Dental condition'] == 'Dont know')\n",
    "].index\n",
    "smileon_df.drop(indexNames, inplace=True)\n",
    "\n",
    "# Convert columns to category\n",
    "smileon_df[[\n",
    "    'City',\n",
    "    'County',\n",
    "    'Reviewed', \n",
    "    'ReferralsMade',\n",
    "    'Are you limited in what you can eat?',\n",
    "    'QofL affected by dental condition',\n",
    "    'Dental condition',\n",
    "    'What is the outcome for the client?',\n",
    "    'Gender', \n",
    "    'Household Income', \n",
    "    'Race/Ethnicity', \n",
    "    'Last dentist visit',\n",
    "    'Is the treatment plan completed?',\n",
    "    'Was enrollee restored to function (can chew) and \"social six\" esthetics (top front six teeth are present and disease free)'\n",
    "]] = smileon_df[[\n",
    "    'City',\n",
    "    'County',\n",
    "    'Reviewed', \n",
    "    'ReferralsMade',\n",
    "    'Are you limited in what you can eat?',\n",
    "    'QofL affected by dental condition',\n",
    "    'Dental condition',\n",
    "    'What is the outcome for the client?',\n",
    "    'Gender', \n",
    "    'Household Income', \n",
    "    'Race/Ethnicity', \n",
    "    'Last dentist visit',\n",
    "    'Is the treatment plan completed?',\n",
    "    'Was enrollee restored to function (can chew) and \"social six\" esthetics (top front six teeth are present and disease free)'\n",
    "]].apply(pd.Categorical)"
   ]
  },
  {
   "cell_type": "markdown",
   "id": "f6c5f6e6",
   "metadata": {},
   "source": [
    "#### Prepare columns to be converted to datetime\n",
    "- Check for null values and figure out what to do with them"
   ]
  },
  {
   "cell_type": "code",
   "execution_count": 6,
   "id": "fbc15d9f",
   "metadata": {
    "scrolled": true
   },
   "outputs": [],
   "source": [
    "#smileon_df['Last dentist visit'].isnull().sum()"
   ]
  },
  {
   "cell_type": "code",
   "execution_count": 7,
   "id": "ac42344f",
   "metadata": {},
   "outputs": [],
   "source": [
    "# Convert columns to datetime\n",
    "smileon_df['Last Screening'] = pd.to_datetime(\n",
    "    smileon_df['Last Screening'], \n",
    "    errors = 'coerce'\n",
    ").dt.strftime('%m/%d/%Y')\n",
    "\n",
    "smileon_df['Eligibility Verification Date'] = pd.to_datetime(\n",
    "    smileon_df['Eligibility Verification Date'], \n",
    "    errors = 'coerce'\n",
    ").dt.strftime('%m/%d/%Y')\n",
    "\n",
    "smileon_df[[\n",
    "    'CallStart', \n",
    "    'CallEnd', \n",
    "    'Last Screening', \n",
    "    'Eligibility Verification Date'\n",
    "]] = smileon_df[[\n",
    "    'CallStart', \n",
    "    'CallEnd', \n",
    "    'Last Screening', \n",
    "    'Eligibility Verification Date'\n",
    "]].apply(pd.to_datetime)"
   ]
  },
  {
   "cell_type": "markdown",
   "id": "305c80d6",
   "metadata": {},
   "source": [
    "### Exploring smileon_df with dtale"
   ]
  },
  {
   "cell_type": "code",
   "execution_count": 8,
   "id": "807293f6",
   "metadata": {
    "scrolled": false
   },
   "outputs": [],
   "source": [
    "#d = dtale.show(smileon_df)\n",
    "# Open it in a new window in browser\n",
    "#d.open_browser()"
   ]
  },
  {
   "cell_type": "markdown",
   "id": "42267658",
   "metadata": {},
   "source": [
    "### Create DataFrame with columns surrounding dental condition\n",
    "- Total patients: 10,709"
   ]
  },
  {
   "cell_type": "code",
   "execution_count": 9,
   "id": "04e0fbab",
   "metadata": {},
   "outputs": [],
   "source": [
    "#smileon_df.head()\n",
    "dental_df = smileon_df[[\n",
    "    'PatientID',\n",
    "    'Birth Year',\n",
    "    'Last dentist visit',\n",
    "    'Dental condition',\n",
    "    'Gender'\n",
    "]].copy()\n",
    "\n",
    "patient_cnt = dental_df['PatientID'].nunique()\n",
    "#print(patient_cnt)\n",
    "#patient_age_df.head()"
   ]
  },
  {
   "cell_type": "markdown",
   "id": "ebd21295",
   "metadata": {},
   "source": [
    "### Clean Last dentist visit column for analysis\n",
    "- Null cnt: 3410"
   ]
  },
  {
   "cell_type": "code",
   "execution_count": 16,
   "id": "547c2d53",
   "metadata": {},
   "outputs": [],
   "source": [
    "# Get null count\n",
    "#dental_df['Last dentist visit'].isnull().sum()"
   ]
  },
  {
   "cell_type": "code",
   "execution_count": 17,
   "id": "5ecf0847",
   "metadata": {},
   "outputs": [],
   "source": [
    "# Drop rows with missing Dental condition values\n",
    "dental_df.dropna(subset=['Last dentist visit'], inplace=True)\n",
    "assert dental_df['Last dentist visit'].isnull().sum() == 0"
   ]
  },
  {
   "cell_type": "code",
   "execution_count": 18,
   "id": "d3fa355b",
   "metadata": {},
   "outputs": [],
   "source": [
    "# Grab index names for .drop() method\n",
    "indexNames = dental_df[\n",
    "    (smileon_df['Birth Year'] == '2298') | \n",
    "    (smileon_df['Birth Year'] == '5245') |\n",
    "    (smileon_df['Birth Year'] == '#VALUE!') |\n",
    "    (smileon_df['Birth Year'] == '#NUM!') |\n",
    "    (smileon_df['Birth Year'] == '1900') |\n",
    "    (smileon_df['Birth Year'] == '2018') |\n",
    "    (smileon_df['Birth Year'] == '2019') |\n",
    "    (smileon_df['Birth Year'] == '2020') |\n",
    "    (smileon_df['Birth Year'] == '2021') |\n",
    "    (smileon_df['Birth Year'] == 1900) |\n",
    "    (smileon_df['Birth Year'] == 2018) |\n",
    "    (smileon_df['Birth Year'] == 2019) |\n",
    "    (smileon_df['Birth Year'] == 2020) |\n",
    "    (smileon_df['Birth Year'] == 2021) |\n",
    "    (smileon_df['Birth Year'] == 2041) |\n",
    "    (smileon_df['Birth Year'] == 2354)\n",
    "].index\n",
    "\n",
    "# Drop invalid Birth Years\n",
    "dental_df.drop(indexNames, inplace=True)\n",
    "\n",
    "# Drop duplicate PatientIDs\n",
    "dental_df.drop_duplicates(subset = ['PatientID'], inplace = True)"
   ]
  },
  {
   "cell_type": "markdown",
   "id": "ad75e699",
   "metadata": {},
   "source": [
    "### Calculate age of patients and add to new column"
   ]
  },
  {
   "cell_type": "code",
   "execution_count": 19,
   "id": "e56b6d76",
   "metadata": {
    "scrolled": true
   },
   "outputs": [],
   "source": [
    "dental_df['Birth Year'] = dental_df['Birth Year'].astype('int')\n",
    "assert dental_df['Birth Year'].dtypes == 'int32'\n",
    "dental_df['Age'] = 2021 - dental_df['Birth Year']\n",
    "#dental_df['Age'].dtypes\n",
    "#dental_df['Age']"
   ]
  },
  {
   "cell_type": "markdown",
   "id": "1806e3bd",
   "metadata": {},
   "source": [
    "### Convert PatientID to object and drop Birth Year column"
   ]
  },
  {
   "cell_type": "code",
   "execution_count": 20,
   "id": "84a67e24",
   "metadata": {},
   "outputs": [],
   "source": [
    "dental_df['PatientID'] = dental_df['PatientID'].astype('object')\n",
    "assert dental_df['PatientID'].dtypes == 'object'\n",
    "dental_df.drop(columns = ['Birth Year'], inplace = True)\n",
    "#dental_df.describe()"
   ]
  },
  {
   "cell_type": "markdown",
   "id": "2cfc3e7b",
   "metadata": {},
   "source": [
    "### Explorting dental_df with dtale"
   ]
  },
  {
   "cell_type": "code",
   "execution_count": 22,
   "id": "a1eae844",
   "metadata": {
    "scrolled": true
   },
   "outputs": [],
   "source": [
    "#d = dtale.show(dental_df)\n",
    "# Open it in a new window in browser\n",
    "#d.open_browser()"
   ]
  },
  {
   "cell_type": "markdown",
   "id": "dd105560",
   "metadata": {},
   "source": [
    "### Last dentist visit stats\n",
    "- **39.7%** of the patients of this dataset visited the dentist less than 12 months ago.\n",
    "- **27%** of patients of this dataset visited the dentist more than 5 years ago.\n",
    "    - **61.4%** females and **38.5%** males have not visited a dentist in more than 5 years ago\n",
    "        - Female cnt: **1576**\n",
    "        - Male cnt: **989**\n",
    "        - Transgender: **?**\n",
    "        - Other: **?**\n",
    "\n",
    "- What are the patient age stats of last dentist visit more than 5 years ago?\n",
    "    - **10%** are 64\n",
    "    - Avg: **69**\n",
    "    - Min: **27**\n",
    "    - Median: **67**\n",
    "    - Max: **101**\n",
    "    - 25% Quartile: **64**\n",
    "    - 75% Quartile: **74**"
   ]
  },
  {
   "cell_type": "code",
   "execution_count": 55,
   "id": "bd748fba",
   "metadata": {
    "scrolled": true
   },
   "outputs": [
    {
     "data": {
      "text/plain": [
       "Less than 12 months    0.397265\n",
       "More than 5 years      0.269263\n",
       "1 to 2 years           0.196179\n",
       "3 to 5 years           0.137294\n",
       "Name: Last dentist visit, dtype: float64"
      ]
     },
     "execution_count": 55,
     "metadata": {},
     "output_type": "execute_result"
    }
   ],
   "source": [
    "#dental_df['Last dentist visit'].describe()\n",
    "dental_df['Last dentist visit'].value_counts(normalize = True)"
   ]
  },
  {
   "cell_type": "markdown",
   "id": "6ed96329",
   "metadata": {},
   "source": [
    "#### Last dentist visit: Gender"
   ]
  },
  {
   "cell_type": "code",
   "execution_count": 34,
   "id": "f7bed608",
   "metadata": {},
   "outputs": [],
   "source": [
    "#dental_df[dental_df['Gender'] == 'Female']['Last dentist visit'].describe()\n",
    "#dental_df[dental_df['Gender'] == 'Female']['Last dentist visit'].value_counts(normalize = True)\n",
    "#dental_df[dental_df['Last dentist visit'] == 'More than 5 years']['Gender'].value_counts()"
   ]
  },
  {
   "cell_type": "markdown",
   "id": "29962c40",
   "metadata": {},
   "source": [
    "#### Last dentist visit: Age"
   ]
  },
  {
   "cell_type": "code",
   "execution_count": 39,
   "id": "bdde6c6d",
   "metadata": {},
   "outputs": [],
   "source": [
    "#dental_df[dental_df['Last dentist visit'] == 'More than 5 years']['Age'].describe()\n",
    "#dental_df[dental_df['Last dentist visit'] == 'More than 5 years']['Age'].value_counts(normalize = True)"
   ]
  },
  {
   "cell_type": "markdown",
   "id": "2e72378c",
   "metadata": {},
   "source": [
    "#### Last dentist visit: Gender vs Age"
   ]
  },
  {
   "cell_type": "code",
   "execution_count": 18,
   "id": "9c07305e",
   "metadata": {},
   "outputs": [],
   "source": [
    "#dental_df[(dental_df['Last dentist visit'] == 'Yes') & (dental_df['Gender'] == 'Female')]['Age'].describe()\n",
    "#dental_df[(dental_df['Last dentist visit'] == 'Yes') & (dental_df['Gender'] == 'Female')]['Age'].value_counts(normalize = True)\n",
    "#dental_df[(dental_df['Last dentist visit'] == 'Yes') & (dental_df['Gender'] == 'Male')]['Age'].describe()\n",
    "#dental_df[(dental_df['Last dentist visit'] == 'Yes') & (dental_df['Gender'] == 'Male')]['Age'].value_counts(normalize = True)"
   ]
  },
  {
   "cell_type": "markdown",
   "id": "a5210dc0",
   "metadata": {},
   "source": [
    "### Dental Condition stats\n",
    "- **45.1%** of the patients of this dataset has ***poor*** dental condition.\n",
    "    - Between genders, **61.4%** are females vs. **38.5%** are males\n",
    "        - Female cnt: **2547**\n",
    "        - Male cnt: **1600**\n",
    "        - Transgender: **0**\n",
    "        - Other: **0**\n",
    "- **32%** of the patients of this dataset has ***fair*** dental condition.\n",
    "    - Between genders, **64.2%** are females vs. **35.7%** are males\n",
    "        - Female cnt: **1892**\n",
    "        - Male cnt: **1052**\n",
    "        - Transgender: **0**\n",
    "        - Other: **0**\n",
    "- **15.8%** of the patients of this dataset has ***good*** dental condition.\n",
    "    - Between genders, **67.5%** are females vs. **32.4%** are males\n",
    "        - Female cnt: **981**\n",
    "        - Male cnt: **471**\n",
    "        - Transgender: **0**\n",
    "        - Other: **0**\n",
    "- **4.3%** of the patients of this dataset ***don't know*** their dental condition.\n",
    "- **2.6%** of the patients of this dataset has ***very good*** dental condition.\n",
    "- What are the patient age stats with ***poor*** dental condition.\n",
    "    - **10.1%** are 64, **9.4%** are 63, and **8.7%** are 65\n",
    "    - Avg: **68**\n",
    "    - Min: **30**\n",
    "    - Median: **66**\n",
    "    - Max: **102**\n",
    "    - 25% Quartile: **64**\n",
    "    - 75% Quartile: **72**\n",
    "- What are the patient age stats with ***fair*** dental condition.\n",
    "    - **8.5%** are 65, **8%** are 64, and **7.5%** are 63\n",
    "    - Avg: **70**\n",
    "    - Min: **27**\n",
    "    - Median: **68**\n",
    "    - Max: **101**\n",
    "    - 25% Quartile: **64**\n",
    "    - 75% Quartile: **75**\n",
    "- What are the patient age stats with ***good*** dental condition.\n",
    "    - **7.2%** are 64, **6.5%** are 65, and **6.4%** are 66\n",
    "    - Avg: **70**\n",
    "    - Min: **27**\n",
    "    - Median: **68**\n",
    "    - Max: **101**\n",
    "    - 25% Quartile: **64**\n",
    "    - 75% Quartile: **75**"
   ]
  },
  {
   "cell_type": "code",
   "execution_count": 23,
   "id": "8ed7934a",
   "metadata": {},
   "outputs": [],
   "source": [
    "#dental_df['Dental condition'].describe()\n",
    "#dental_df['Dental condition'].value_counts(normalize = True)"
   ]
  },
  {
   "cell_type": "markdown",
   "id": "48957f56",
   "metadata": {},
   "source": [
    "#### Dental condition: Gender"
   ]
  },
  {
   "cell_type": "code",
   "execution_count": 24,
   "id": "0d3526a9",
   "metadata": {},
   "outputs": [],
   "source": [
    "#dental_df[dental_df['Gender'] == 'Female']['Dental condition'].describe()\n",
    "#dental_df[dental_df['Gender'] == 'Female']['Dental condition'].value_counts(normalize = True)\n",
    "#dental_df[dental_df['Dental condition'] == 'Good']['Gender'].value_counts(normalize = True)"
   ]
  },
  {
   "cell_type": "markdown",
   "id": "873e2c20",
   "metadata": {},
   "source": [
    "#### Dental condition: Age"
   ]
  },
  {
   "cell_type": "code",
   "execution_count": 44,
   "id": "5dee6efd",
   "metadata": {},
   "outputs": [],
   "source": [
    "#dental_df[dental_df['Dental condition'] == 'Poor']['Age'].describe()\n",
    "#dental_df[dental_df['Dental condition'] == 'Very Good']['Last dentist visit'].value_counts(normalize = True)"
   ]
  },
  {
   "cell_type": "markdown",
   "id": "2a82ad0d",
   "metadata": {},
   "source": [
    "#### Dental condition: Gender vs Age"
   ]
  },
  {
   "cell_type": "code",
   "execution_count": 52,
   "id": "9cc0821e",
   "metadata": {},
   "outputs": [],
   "source": [
    "#dental_df[(dental_df['Dental condition'] == 'Poor') & (dental_df['Gender'] == 'Female')]['Last dentist visit'].describe()\n",
    "#dental_df[(dental_df['Dental condition'] == 'Poor') & (dental_df['Gender'] == 'Female')]['Last dentist visit'].value_counts(normalize = True)\n",
    "#dental_df[(dental_df['Dental condition'] == 'Poor') & (dental_df['Gender'] == 'Male')]['Last dentist visit'].describe()\n",
    "#dental_df[(dental_df['Dental condition'] == 'Poor') & (dental_df['Gender'] == 'Male')]['Last dentist visit'].value_counts(normalize = True)"
   ]
  },
  {
   "cell_type": "markdown",
   "id": "b3427b17",
   "metadata": {},
   "source": [
    "### Visualize Age & Gender data"
   ]
  },
  {
   "cell_type": "code",
   "execution_count": 66,
   "id": "3cbed112",
   "metadata": {
    "scrolled": false
   },
   "outputs": [
    {
     "data": {
      "text/plain": [
       "<matplotlib.legend.Legend at 0x20f6c2a53d0>"
      ]
     },
     "execution_count": 66,
     "metadata": {},
     "output_type": "execute_result"
    },
    {
     "data": {
      "image/png": "[encoded data removed]",
      "text/plain": [
       "<Figure size 936x576 with 1 Axes>"
      ]
     },
     "metadata": {},
     "output_type": "display_data"
    }
   ],
   "source": [
    "sns.boxplot(\n",
    "    data = dental_df, \n",
    "    x = 'Last dentist visit', \n",
    "    y = 'Age', \n",
    "    hue = 'Gender',\n",
    "    order = ['More than 5 years', '3 to 5 years', '1 to 2 years', 'Less than 12 months'],\n",
    "    palette = smileplus_palette\n",
    ").set(title = 'Age vs. Last dentist visit by Gender')\n",
    "plt.legend(loc='lower right', title='Gender')"
   ]
  }
 ],
 "metadata": {
  "kernelspec": {
   "display_name": "Python 3",
   "language": "python",
   "name": "python3"
  },
  "language_info": {
   "codemirror_mode": {
    "name": "ipython",
    "version": 3
   },
   "file_extension": ".py",
   "mimetype": "text/x-python",
   "name": "python",
   "nbconvert_exporter": "python",
   "pygments_lexer": "ipython3",
   "version": "3.8.8"
  }
 },
 "nbformat": 4,
 "nbformat_minor": 5
}
