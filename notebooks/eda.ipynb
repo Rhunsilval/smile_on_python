{
 "cells": [
  {
   "cell_type": "markdown",
   "id": "51aa8d7e",
   "metadata": {},
   "source": [
    "# Smile On 60+ EDA"
   ]
  },
  {
   "cell_type": "markdown",
   "id": "64fdc2ce",
   "metadata": {},
   "source": [
    "### Import modules"
   ]
  },
  {
   "cell_type": "code",
   "execution_count": 1,
   "id": "ffe7a018",
   "metadata": {},
   "outputs": [],
   "source": [
    "import pandas as pd"
   ]
  },
  {
   "cell_type": "markdown",
   "id": "ec9701d2",
   "metadata": {},
   "source": [
    "### Read in CLEAN .csv"
   ]
  },
  {
   "cell_type": "code",
   "execution_count": 2,
   "id": "f56051b3",
   "metadata": {
    "scrolled": true
   },
   "outputs": [
    {
     "name": "stderr",
     "output_type": "stream",
     "text": [
      "C:\\Users\\rober\\anaconda3\\lib\\site-packages\\IPython\\core\\interactiveshell.py:3165: DtypeWarning: Columns (16,17,33,39,44,48,59,69,81,84) have mixed types.Specify dtype option on import or set low_memory=False.\n",
      "  has_raised = await self.run_ast_nodes(code_ast.body, cell_name,\n"
     ]
    }
   ],
   "source": [
    "smileon_df = pd.read_csv('../data/Smileon.2021.10.17.CLEAN.csv')"
   ]
  },
  {
   "cell_type": "markdown",
   "id": "25f1d4ec",
   "metadata": {},
   "source": [
    "### Check DataFrame\n",
    "- Exporting to .csv does not keep custom datatypes"
   ]
  },
  {
   "cell_type": "code",
   "execution_count": 3,
   "id": "80f08168",
   "metadata": {},
   "outputs": [
    {
     "name": "stdout",
     "output_type": "stream",
     "text": [
      "<class 'pandas.core.frame.DataFrame'>\n",
      "RangeIndex: 57860 entries, 0 to 57859\n",
      "Columns: 120 entries, ReportID to Eligibility Verification\n",
      "dtypes: float64(48), int64(5), object(67)\n",
      "memory usage: 53.0+ MB\n"
     ]
    }
   ],
   "source": [
    "# Set it to None to display all columns in the dataframe\n",
    "#pd.set_option('display.max_columns', None)\n",
    "smileon_df.info()\n",
    "#smileon_df.head()"
   ]
  },
  {
   "cell_type": "markdown",
   "id": "bcdc1421",
   "metadata": {},
   "source": [
    "### Convert column datatypes"
   ]
  },
  {
   "cell_type": "code",
   "execution_count": 4,
   "id": "97cb0014",
   "metadata": {},
   "outputs": [],
   "source": [
    "# Convert columns to category\n",
    "smileon_df[['City',\n",
    "            'County',\n",
    "            'Reviewed', \n",
    "            'ReferralsMade',\n",
    "            'Are you limited in what you can eat?',\n",
    "            'How would you describe the condition of your mouth and teeth?',\n",
    "            'What is the outcome for the client?',\n",
    "            'Gender', \n",
    "            'Household Income', \n",
    "            'Race/Ethnicity', \n",
    "            'When is the last time you visited your dentist?',\n",
    "            'Is the treatment plan completed?',\n",
    "            'Was enrollee restored to function (can chew) and \"social six\" esthetics (top front six teeth are present and disease free)']] = smileon_df[['City',\n",
    "                                                               'County',\n",
    "                                                               'Reviewed',\n",
    "                                                               'ReferralsMade',\n",
    "                                                               'Are you limited in what you can eat?',\n",
    "                                                               'How would you describe the condition of your mouth and teeth?',\n",
    "                                                               'What is the outcome for the client?',\n",
    "                                                               'Gender', \n",
    "                                                               'Household Income',\n",
    "                                                               'Race/Ethnicity',\n",
    "                                                               'When is the last time you visited your dentist?',\n",
    "                                                               'Is the treatment plan completed?',\n",
    "                                                               'Was enrollee restored to function (can chew) and \"social six\" esthetics (top front six teeth are present and disease free)']].apply(pd.Categorical)"
   ]
  },
  {
   "cell_type": "markdown",
   "id": "f6c5f6e6",
   "metadata": {},
   "source": [
    "#### Prepare columns to be converted to datetime\n",
    "- Check for null values and figure out what to do with them\n",
    "- CallStart, CallEnd, Last Screening, and Eligibility Verification Date columns"
   ]
  },
  {
   "cell_type": "code",
   "execution_count": 5,
   "id": "fbc15d9f",
   "metadata": {},
   "outputs": [],
   "source": [
    "#smileon_df['Birth Year'].isnull().sum()"
   ]
  },
  {
   "cell_type": "code",
   "execution_count": 6,
   "id": "ac42344f",
   "metadata": {},
   "outputs": [],
   "source": [
    "# Convert columns to datetime\n",
    "smileon_df['Last Screening'] = pd.to_datetime(smileon_df['Last Screening'], errors = 'coerce').dt.strftime('%m/%d/%Y')\n",
    "smileon_df['Eligibility Verification Date'] = pd.to_datetime(smileon_df['Eligibility Verification Date'], errors = 'coerce').dt.strftime('%m/%d/%Y')\n",
    "smileon_df[['CallStart', 'CallEnd', 'Last Screening', 'Eligibility Verification Date']] = smileon_df[['CallStart', 'CallEnd', 'Last Screening', 'Eligibility Verification Date']].apply(pd.to_datetime)"
   ]
  },
  {
   "cell_type": "markdown",
   "id": "305c80d6",
   "metadata": {},
   "source": [
    "### Exploring automated EDA tools"
   ]
  },
  {
   "cell_type": "code",
   "execution_count": 7,
   "id": "807293f6",
   "metadata": {
    "scrolled": true
   },
   "outputs": [
    {
     "name": "stderr",
     "output_type": "stream",
     "text": [
      "2021-11-09 21:10:49,171 - INFO     - NumExpr defaulting to 4 threads.\n"
     ]
    },
    {
     "name": "stdout",
     "output_type": "stream",
     "text": [
      "Exception occurred while processing request: Dataset exceeds 15000 records, cannot render. Please apply filter...\n",
      "Traceback (most recent call last):\n",
      "  File \"C:\\Users\\rober\\anaconda3\\lib\\site-packages\\dtale\\views.py\", line 114, in _handle_exceptions\n",
      "    return func(*args, **kwargs)\n",
      "  File \"C:\\Users\\rober\\anaconda3\\lib\\site-packages\\dtale\\views.py\", line 2873, in get_correlations_ts\n",
      "    return_data, _code = build_base_chart(data.fillna(0), \"date\", \"corr\", agg=\"raw\")\n",
      "  File \"C:\\Users\\rober\\anaconda3\\lib\\site-packages\\dtale\\charts\\utils.py\", line 929, in build_base_chart\n",
      "    check_exceptions(\n",
      "  File \"C:\\Users\\rober\\anaconda3\\lib\\site-packages\\dtale\\charts\\utils.py\", line 402, in check_exceptions\n",
      "    raise ChartBuildingError(limit_msg.format(data_limit))\n",
      "dtale.utils.ChartBuildingError: Chart Error\n"
     ]
    },
    {
     "name": "stderr",
     "output_type": "stream",
     "text": [
      "2021-11-09 21:14:39,095 - ERROR    - Exception occurred while processing request: Dataset exceeds 15000 records, cannot render. Please apply filter...\n",
      "Traceback (most recent call last):\n",
      "  File \"C:\\Users\\rober\\anaconda3\\lib\\site-packages\\dtale\\views.py\", line 114, in _handle_exceptions\n",
      "    return func(*args, **kwargs)\n",
      "  File \"C:\\Users\\rober\\anaconda3\\lib\\site-packages\\dtale\\views.py\", line 2873, in get_correlations_ts\n",
      "    return_data, _code = build_base_chart(data.fillna(0), \"date\", \"corr\", agg=\"raw\")\n",
      "  File \"C:\\Users\\rober\\anaconda3\\lib\\site-packages\\dtale\\charts\\utils.py\", line 929, in build_base_chart\n",
      "    check_exceptions(\n",
      "  File \"C:\\Users\\rober\\anaconda3\\lib\\site-packages\\dtale\\charts\\utils.py\", line 402, in check_exceptions\n",
      "    raise ChartBuildingError(limit_msg.format(data_limit))\n",
      "dtale.utils.ChartBuildingError: Chart Error\n"
     ]
    },
    {
     "name": "stdout",
     "output_type": "stream",
     "text": [
      "Exception occurred while processing request: Dataset exceeds 15000 records, cannot render. Please apply filter...\n",
      "Traceback (most recent call last):\n",
      "  File \"C:\\Users\\rober\\anaconda3\\lib\\site-packages\\dtale\\views.py\", line 114, in _handle_exceptions\n",
      "    return func(*args, **kwargs)\n",
      "  File \"C:\\Users\\rober\\anaconda3\\lib\\site-packages\\dtale\\views.py\", line 2873, in get_correlations_ts\n",
      "    return_data, _code = build_base_chart(data.fillna(0), \"date\", \"corr\", agg=\"raw\")\n",
      "  File \"C:\\Users\\rober\\anaconda3\\lib\\site-packages\\dtale\\charts\\utils.py\", line 929, in build_base_chart\n",
      "    check_exceptions(\n",
      "  File \"C:\\Users\\rober\\anaconda3\\lib\\site-packages\\dtale\\charts\\utils.py\", line 402, in check_exceptions\n",
      "    raise ChartBuildingError(limit_msg.format(data_limit))\n",
      "dtale.utils.ChartBuildingError: Chart Error\n"
     ]
    },
    {
     "name": "stderr",
     "output_type": "stream",
     "text": [
      "2021-11-09 21:21:18,110 - ERROR    - Exception occurred while processing request: Dataset exceeds 15000 records, cannot render. Please apply filter...\n",
      "Traceback (most recent call last):\n",
      "  File \"C:\\Users\\rober\\anaconda3\\lib\\site-packages\\dtale\\views.py\", line 114, in _handle_exceptions\n",
      "    return func(*args, **kwargs)\n",
      "  File \"C:\\Users\\rober\\anaconda3\\lib\\site-packages\\dtale\\views.py\", line 2873, in get_correlations_ts\n",
      "    return_data, _code = build_base_chart(data.fillna(0), \"date\", \"corr\", agg=\"raw\")\n",
      "  File \"C:\\Users\\rober\\anaconda3\\lib\\site-packages\\dtale\\charts\\utils.py\", line 929, in build_base_chart\n",
      "    check_exceptions(\n",
      "  File \"C:\\Users\\rober\\anaconda3\\lib\\site-packages\\dtale\\charts\\utils.py\", line 402, in check_exceptions\n",
      "    raise ChartBuildingError(limit_msg.format(data_limit))\n",
      "dtale.utils.ChartBuildingError: Chart Error\n"
     ]
    }
   ],
   "source": [
    "import dtale\n",
    "d = dtale.show(smileon_df)\n",
    "# Open it in a new window in browser\n",
    "d.open_browser()"
   ]
  }
 ],
 "metadata": {
  "kernelspec": {
   "display_name": "Python 3",
   "language": "python",
   "name": "python3"
  },
  "language_info": {
   "codemirror_mode": {
    "name": "ipython",
    "version": 3
   },
   "file_extension": ".py",
   "mimetype": "text/x-python",
   "name": "python",
   "nbconvert_exporter": "python",
   "pygments_lexer": "ipython3",
   "version": "3.8.8"
  }
 },
 "nbformat": 4,
 "nbformat_minor": 5
}
