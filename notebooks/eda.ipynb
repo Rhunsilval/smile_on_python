{
 "cells": [
  {
   "cell_type": "markdown",
   "id": "51aa8d7e",
   "metadata": {},
   "source": [
    "# Smile On 60+ EDA"
   ]
  },
  {
   "cell_type": "markdown",
   "id": "64fdc2ce",
   "metadata": {},
   "source": [
    "### Import modules"
   ]
  },
  {
   "cell_type": "code",
   "execution_count": 13,
   "id": "ffe7a018",
   "metadata": {},
   "outputs": [],
   "source": [
    "import pandas as pd"
   ]
  },
  {
   "cell_type": "markdown",
   "id": "ec9701d2",
   "metadata": {},
   "source": [
    "### Read in CLEAN .csv"
   ]
  },
  {
   "cell_type": "code",
   "execution_count": 14,
   "id": "f56051b3",
   "metadata": {
    "scrolled": true
   },
   "outputs": [],
   "source": [
    "smileon_df = pd.read_csv('../data/Smileon.2021.10.17.CLEAN.csv')"
   ]
  },
  {
   "cell_type": "markdown",
   "id": "25f1d4ec",
   "metadata": {},
   "source": [
    "### Check DataFrame\n",
    "- Exporting to .csv does not keep custom datatypes"
   ]
  },
  {
   "cell_type": "code",
   "execution_count": 15,
   "id": "80f08168",
   "metadata": {},
   "outputs": [
    {
     "name": "stdout",
     "output_type": "stream",
     "text": [
      "<class 'pandas.core.frame.DataFrame'>\n",
      "RangeIndex: 57860 entries, 0 to 57859\n",
      "Columns: 120 entries, ReportID to Eligibility Verification\n",
      "dtypes: float64(48), int64(5), object(67)\n",
      "memory usage: 53.0+ MB\n"
     ]
    }
   ],
   "source": [
    "# Set it to None to display all columns in the dataframe\n",
    "#pd.set_option('display.max_columns', None)\n",
    "smileon_df.info()\n",
    "#smileon_df.head()"
   ]
  },
  {
   "cell_type": "markdown",
   "id": "bcdc1421",
   "metadata": {},
   "source": [
    "### Convert column datatypes"
   ]
  },
  {
   "cell_type": "code",
   "execution_count": 16,
   "id": "97cb0014",
   "metadata": {},
   "outputs": [],
   "source": [
    "# Convert columns to category\n",
    "smileon_df[['City',\n",
    "            'County',\n",
    "            'Reviewed', \n",
    "            'ReferralsMade',\n",
    "            'Are you limited in what you can eat?',\n",
    "            'How would you describe the condition of your mouth and teeth?',\n",
    "            'What is the outcome for the client?',\n",
    "            'Gender', \n",
    "            'Household Income', \n",
    "            'Race/Ethnicity', \n",
    "            'When is the last time you visited your dentist?',\n",
    "            'Is the treatment plan completed?',\n",
    "            'Was enrollee restored to function (can chew) and \"social six\" esthetics (top front six teeth are present and disease free)']] = smileon_df[['City',\n",
    "                                                               'County',\n",
    "                                                               'Reviewed',\n",
    "                                                               'ReferralsMade',\n",
    "                                                               'Are you limited in what you can eat?',\n",
    "                                                               'How would you describe the condition of your mouth and teeth?',\n",
    "                                                               'What is the outcome for the client?',\n",
    "                                                               'Gender', \n",
    "                                                               'Household Income',\n",
    "                                                               'Race/Ethnicity',\n",
    "                                                               'When is the last time you visited your dentist?',\n",
    "                                                               'Is the treatment plan completed?',\n",
    "                                                               'Was enrollee restored to function (can chew) and \"social six\" esthetics (top front six teeth are present and disease free)']].apply(pd.Categorical)"
   ]
  },
  {
   "cell_type": "markdown",
   "id": "f6c5f6e6",
   "metadata": {},
   "source": [
    "#### Prepare columns to be converted to datetime\n",
    "- Check for null values and figure out what to do with them\n",
    "- CallStart, CallEnd, Last Screening, and Eligibility Verification Date columns"
   ]
  },
  {
   "cell_type": "code",
   "execution_count": 17,
   "id": "fbc15d9f",
   "metadata": {},
   "outputs": [],
   "source": [
    "#smileon_df['Last Screening'].isnull().sum()"
   ]
  },
  {
   "cell_type": "code",
   "execution_count": 18,
   "id": "ac42344f",
   "metadata": {},
   "outputs": [],
   "source": [
    "# Convert columns to datetime\n",
    "smileon_df['Last Screening'] = pd.to_datetime(smileon_df['Last Screening'], errors = 'coerce').dt.strftime('%m/%d/%Y')\n",
    "smileon_df['Eligibility Verification Date'] = pd.to_datetime(smileon_df['Eligibility Verification Date'], errors = 'coerce').dt.strftime('%m/%d/%Y')\n",
    "smileon_df[['CallStart', 'CallEnd', 'Last Screening', 'Eligibility Verification Date']] = smileon_df[['CallStart', 'CallEnd', 'Last Screening', 'Eligibility Verification Date']].apply(pd.to_datetime)"
   ]
  },
  {
   "cell_type": "markdown",
   "id": "305c80d6",
   "metadata": {},
   "source": [
    "### Exploring automated EDA tools"
   ]
  },
  {
   "cell_type": "code",
   "execution_count": 29,
   "id": "807293f6",
   "metadata": {
    "scrolled": false
   },
   "outputs": [
    {
     "name": "stdout",
     "output_type": "stream",
     "text": [
      "Exception occurred while processing request: Can only use .str accessor with string values!\n",
      "Traceback (most recent call last):\n",
      "  File \"C:\\Users\\rober\\anaconda3\\lib\\site-packages\\dtale\\views.py\", line 114, in _handle_exceptions\n",
      "    return func(*args, **kwargs)\n",
      "  File \"C:\\Users\\rober\\anaconda3\\lib\\site-packages\\dtale\\views.py\", line 2027, in describe\n",
      "    str_col[~str_col.isnull()].str, column\n",
      "  File \"C:\\Users\\rober\\anaconda3\\lib\\site-packages\\pandas\\core\\generic.py\", line 5461, in __getattr__\n",
      "    return object.__getattribute__(self, name)\n",
      "  File \"C:\\Users\\rober\\anaconda3\\lib\\site-packages\\pandas\\core\\accessor.py\", line 180, in __get__\n",
      "    accessor_obj = self._accessor(obj)\n",
      "  File \"C:\\Users\\rober\\anaconda3\\lib\\site-packages\\pandas\\core\\strings\\accessor.py\", line 154, in __init__\n",
      "    self._inferred_dtype = self._validate(data)\n",
      "  File \"C:\\Users\\rober\\anaconda3\\lib\\site-packages\\pandas\\core\\strings\\accessor.py\", line 217, in _validate\n",
      "    raise AttributeError(\"Can only use .str accessor with string values!\")\n",
      "AttributeError: Can only use .str accessor with string values!\n"
     ]
    },
    {
     "name": "stderr",
     "output_type": "stream",
     "text": [
      "2021-11-11 21:22:33,111 - ERROR    - Exception occurred while processing request: Can only use .str accessor with string values!\n",
      "Traceback (most recent call last):\n",
      "  File \"C:\\Users\\rober\\anaconda3\\lib\\site-packages\\dtale\\views.py\", line 114, in _handle_exceptions\n",
      "    return func(*args, **kwargs)\n",
      "  File \"C:\\Users\\rober\\anaconda3\\lib\\site-packages\\dtale\\views.py\", line 2027, in describe\n",
      "    str_col[~str_col.isnull()].str, column\n",
      "  File \"C:\\Users\\rober\\anaconda3\\lib\\site-packages\\pandas\\core\\generic.py\", line 5461, in __getattr__\n",
      "    return object.__getattribute__(self, name)\n",
      "  File \"C:\\Users\\rober\\anaconda3\\lib\\site-packages\\pandas\\core\\accessor.py\", line 180, in __get__\n",
      "    accessor_obj = self._accessor(obj)\n",
      "  File \"C:\\Users\\rober\\anaconda3\\lib\\site-packages\\pandas\\core\\strings\\accessor.py\", line 154, in __init__\n",
      "    self._inferred_dtype = self._validate(data)\n",
      "  File \"C:\\Users\\rober\\anaconda3\\lib\\site-packages\\pandas\\core\\strings\\accessor.py\", line 217, in _validate\n",
      "    raise AttributeError(\"Can only use .str accessor with string values!\")\n",
      "AttributeError: Can only use .str accessor with string values!\n"
     ]
    }
   ],
   "source": [
    "import dtale\n",
    "d = dtale.show(smileon_df)\n",
    "# Open it in a new window in browser\n",
    "d.open_browser()"
   ]
  },
  {
   "cell_type": "markdown",
   "id": "5f8ccdd3",
   "metadata": {},
   "source": [
    "### Clean up Birth Year for analysis"
   ]
  },
  {
   "cell_type": "code",
   "execution_count": 21,
   "id": "7f18d7c5",
   "metadata": {},
   "outputs": [],
   "source": [
    "smileon_df['Birth Year'] = smileon_df['Birth Year'].replace(['2298', \n",
    "                                                             '5245', \n",
    "                                                             '#VALUE!', \n",
    "                                                             '#NUM!', \n",
    "                                                             '2018', \n",
    "                                                             '2019', \n",
    "                                                             '2020', \n",
    "                                                             '1900', \n",
    "                                                             1900, \n",
    "                                                             2018, \n",
    "                                                             2019, \n",
    "                                                             2020, \n",
    "                                                             2021, \n",
    "                                                             2041, \n",
    "                                                             2354], None)"
   ]
  },
  {
   "cell_type": "markdown",
   "id": "2363c4df",
   "metadata": {},
   "source": [
    "### Convert Birth Year column to integers"
   ]
  },
  {
   "cell_type": "code",
   "execution_count": 24,
   "id": "74f857b3",
   "metadata": {},
   "outputs": [],
   "source": [
    "#smileon_df['Birth Year'].isnull().sum()\n",
    "smileon_df['Birth Year'] = smileon_df['Birth Year'].astype(str).astype(int)\n",
    "assert smileon_df['Birth Year'].dtypes == 'int32'"
   ]
  },
  {
   "cell_type": "markdown",
   "id": "df4aba16",
   "metadata": {},
   "source": [
    "### Calculate age of patients and add to new Age column"
   ]
  },
  {
   "cell_type": "code",
   "execution_count": 25,
   "id": "227af4b4",
   "metadata": {
    "scrolled": true
   },
   "outputs": [
    {
     "data": {
      "text/plain": [
       "0        61\n",
       "1        62\n",
       "2        79\n",
       "3        61\n",
       "4        66\n",
       "         ..\n",
       "57855    64\n",
       "57856    63\n",
       "57857    63\n",
       "57858    63\n",
       "57859    63\n",
       "Name: Age, Length: 57860, dtype: int32"
      ]
     },
     "execution_count": 25,
     "metadata": {},
     "output_type": "execute_result"
    }
   ],
   "source": [
    "smileon_df['Age'] = 2021 - smileon_df['Birth Year']\n",
    "#smileon_df['Age']"
   ]
  },
  {
   "cell_type": "markdown",
   "id": "1bd87e1d",
   "metadata": {},
   "source": [
    "### Convert Age column to category"
   ]
  },
  {
   "cell_type": "code",
   "execution_count": 28,
   "id": "8a471ef7",
   "metadata": {},
   "outputs": [],
   "source": [
    "smileon_df['Age'] = smileon_df['Age'].astype('category')\n",
    "assert smileon_df['Age'].dtypes == 'category'"
   ]
  }
 ],
 "metadata": {
  "kernelspec": {
   "display_name": "Python 3",
   "language": "python",
   "name": "python3"
  },
  "language_info": {
   "codemirror_mode": {
    "name": "ipython",
    "version": 3
   },
   "file_extension": ".py",
   "mimetype": "text/x-python",
   "name": "python",
   "nbconvert_exporter": "python",
   "pygments_lexer": "ipython3",
   "version": "3.8.8"
  }
 },
 "nbformat": 4,
 "nbformat_minor": 5
}
