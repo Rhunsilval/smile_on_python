{
 "cells": [
  {
   "cell_type": "code",
   "execution_count": 1,
   "id": "0aba3e62",
   "metadata": {},
   "outputs": [],
   "source": [
    "import pandas as pd\n",
    "import datetime \n",
    "import numpy as np\n",
    "import pickle\n",
    "import matplotlib.pyplot as plt\n",
    "import dtale\n",
    "import re\n",
    "import seaborn as sns\n",
    "\n",
    "%matplotlib inline"
   ]
  },
  {
   "cell_type": "code",
   "execution_count": 18,
   "id": "e7f8e853",
   "metadata": {},
   "outputs": [],
   "source": [
    "smileon = pd.read_csv('../data/smileon_visualready.csv')\n",
    "smileon2 = pd.read_csv('../data/smileon_edited.csv')"
   ]
  },
  {
   "cell_type": "code",
   "execution_count": 3,
   "id": "68a70063",
   "metadata": {
    "scrolled": true
   },
   "outputs": [
    {
     "data": {
      "text/html": [
       "<div>\n",
       "<style scoped>\n",
       "    .dataframe tbody tr th:only-of-type {\n",
       "        vertical-align: middle;\n",
       "    }\n",
       "\n",
       "    .dataframe tbody tr th {\n",
       "        vertical-align: top;\n",
       "    }\n",
       "\n",
       "    .dataframe thead th {\n",
       "        text-align: right;\n",
       "    }\n",
       "</style>\n",
       "<table border=\"1\" class=\"dataframe\">\n",
       "  <thead>\n",
       "    <tr style=\"text-align: right;\">\n",
       "      <th></th>\n",
       "      <th>patient_id</th>\n",
       "      <th>s_difficulty_eating</th>\n",
       "      <th>s_difficulty_speaking</th>\n",
       "      <th>s_drymouth</th>\n",
       "      <th>s_felt_anxiety</th>\n",
       "      <th>s_felt_embarrassed</th>\n",
       "      <th>s_avoided_smiling</th>\n",
       "      <th>s_pain_discomfort</th>\n",
       "      <th>imaging</th>\n",
       "      <th>plaque_removal</th>\n",
       "      <th>...</th>\n",
       "      <th>tooth_extractions_removals</th>\n",
       "      <th>sinus_perforation_closure</th>\n",
       "      <th>biopsy</th>\n",
       "      <th>alveoloplasty</th>\n",
       "      <th>excision_lesions</th>\n",
       "      <th>abscess_drain</th>\n",
       "      <th>pericoronalgingiva_excision</th>\n",
       "      <th>surgery_fibroustuberosity_reduction</th>\n",
       "      <th>emergencytreatment_dentalpain</th>\n",
       "      <th>occlusal_adjustment</th>\n",
       "    </tr>\n",
       "  </thead>\n",
       "  <tbody>\n",
       "    <tr>\n",
       "      <th>0</th>\n",
       "      <td>2384106</td>\n",
       "      <td>1.0</td>\n",
       "      <td>0.0</td>\n",
       "      <td>1.0</td>\n",
       "      <td>1.0</td>\n",
       "      <td>0.0</td>\n",
       "      <td>0.0</td>\n",
       "      <td>1.0</td>\n",
       "      <td>0.0</td>\n",
       "      <td>0.0</td>\n",
       "      <td>...</td>\n",
       "      <td>12.0</td>\n",
       "      <td>0.0</td>\n",
       "      <td>0.0</td>\n",
       "      <td>1.0</td>\n",
       "      <td>0.0</td>\n",
       "      <td>0.0</td>\n",
       "      <td>0.0</td>\n",
       "      <td>0.0</td>\n",
       "      <td>0.0</td>\n",
       "      <td>0.0</td>\n",
       "    </tr>\n",
       "    <tr>\n",
       "      <th>1</th>\n",
       "      <td>2384744</td>\n",
       "      <td>1.0</td>\n",
       "      <td>0.0</td>\n",
       "      <td>0.0</td>\n",
       "      <td>0.0</td>\n",
       "      <td>0.0</td>\n",
       "      <td>0.0</td>\n",
       "      <td>0.0</td>\n",
       "      <td>0.0</td>\n",
       "      <td>0.0</td>\n",
       "      <td>...</td>\n",
       "      <td>0.0</td>\n",
       "      <td>0.0</td>\n",
       "      <td>0.0</td>\n",
       "      <td>0.0</td>\n",
       "      <td>0.0</td>\n",
       "      <td>0.0</td>\n",
       "      <td>0.0</td>\n",
       "      <td>0.0</td>\n",
       "      <td>0.0</td>\n",
       "      <td>0.0</td>\n",
       "    </tr>\n",
       "    <tr>\n",
       "      <th>2</th>\n",
       "      <td>2384833</td>\n",
       "      <td>1.0</td>\n",
       "      <td>0.0</td>\n",
       "      <td>0.0</td>\n",
       "      <td>0.0</td>\n",
       "      <td>0.0</td>\n",
       "      <td>0.0</td>\n",
       "      <td>1.0</td>\n",
       "      <td>2.0</td>\n",
       "      <td>0.0</td>\n",
       "      <td>...</td>\n",
       "      <td>0.0</td>\n",
       "      <td>0.0</td>\n",
       "      <td>0.0</td>\n",
       "      <td>0.0</td>\n",
       "      <td>0.0</td>\n",
       "      <td>0.0</td>\n",
       "      <td>0.0</td>\n",
       "      <td>0.0</td>\n",
       "      <td>0.0</td>\n",
       "      <td>0.0</td>\n",
       "    </tr>\n",
       "    <tr>\n",
       "      <th>3</th>\n",
       "      <td>2384897</td>\n",
       "      <td>0.0</td>\n",
       "      <td>0.0</td>\n",
       "      <td>0.0</td>\n",
       "      <td>0.0</td>\n",
       "      <td>0.0</td>\n",
       "      <td>0.0</td>\n",
       "      <td>0.0</td>\n",
       "      <td>0.0</td>\n",
       "      <td>0.0</td>\n",
       "      <td>...</td>\n",
       "      <td>0.0</td>\n",
       "      <td>0.0</td>\n",
       "      <td>0.0</td>\n",
       "      <td>0.0</td>\n",
       "      <td>0.0</td>\n",
       "      <td>0.0</td>\n",
       "      <td>0.0</td>\n",
       "      <td>0.0</td>\n",
       "      <td>0.0</td>\n",
       "      <td>0.0</td>\n",
       "    </tr>\n",
       "    <tr>\n",
       "      <th>4</th>\n",
       "      <td>2384922</td>\n",
       "      <td>0.0</td>\n",
       "      <td>0.0</td>\n",
       "      <td>1.0</td>\n",
       "      <td>0.0</td>\n",
       "      <td>0.0</td>\n",
       "      <td>0.0</td>\n",
       "      <td>0.0</td>\n",
       "      <td>0.0</td>\n",
       "      <td>0.0</td>\n",
       "      <td>...</td>\n",
       "      <td>0.0</td>\n",
       "      <td>0.0</td>\n",
       "      <td>0.0</td>\n",
       "      <td>0.0</td>\n",
       "      <td>0.0</td>\n",
       "      <td>0.0</td>\n",
       "      <td>0.0</td>\n",
       "      <td>0.0</td>\n",
       "      <td>0.0</td>\n",
       "      <td>0.0</td>\n",
       "    </tr>\n",
       "  </tbody>\n",
       "</table>\n",
       "<p>5 rows × 29 columns</p>\n",
       "</div>"
      ],
      "text/plain": [
       "   patient_id  s_difficulty_eating  s_difficulty_speaking  s_drymouth  \\\n",
       "0     2384106                  1.0                    0.0         1.0   \n",
       "1     2384744                  1.0                    0.0         0.0   \n",
       "2     2384833                  1.0                    0.0         0.0   \n",
       "3     2384897                  0.0                    0.0         0.0   \n",
       "4     2384922                  0.0                    0.0         1.0   \n",
       "\n",
       "   s_felt_anxiety  s_felt_embarrassed  s_avoided_smiling  s_pain_discomfort  \\\n",
       "0             1.0                 0.0                0.0                1.0   \n",
       "1             0.0                 0.0                0.0                0.0   \n",
       "2             0.0                 0.0                0.0                1.0   \n",
       "3             0.0                 0.0                0.0                0.0   \n",
       "4             0.0                 0.0                0.0                0.0   \n",
       "\n",
       "   imaging  plaque_removal  ...  tooth_extractions_removals  \\\n",
       "0      0.0             0.0  ...                        12.0   \n",
       "1      0.0             0.0  ...                         0.0   \n",
       "2      2.0             0.0  ...                         0.0   \n",
       "3      0.0             0.0  ...                         0.0   \n",
       "4      0.0             0.0  ...                         0.0   \n",
       "\n",
       "   sinus_perforation_closure  biopsy  alveoloplasty  excision_lesions  \\\n",
       "0                        0.0     0.0            1.0               0.0   \n",
       "1                        0.0     0.0            0.0               0.0   \n",
       "2                        0.0     0.0            0.0               0.0   \n",
       "3                        0.0     0.0            0.0               0.0   \n",
       "4                        0.0     0.0            0.0               0.0   \n",
       "\n",
       "   abscess_drain  pericoronalgingiva_excision  \\\n",
       "0            0.0                          0.0   \n",
       "1            0.0                          0.0   \n",
       "2            0.0                          0.0   \n",
       "3            0.0                          0.0   \n",
       "4            0.0                          0.0   \n",
       "\n",
       "   surgery_fibroustuberosity_reduction  emergencytreatment_dentalpain  \\\n",
       "0                                  0.0                            0.0   \n",
       "1                                  0.0                            0.0   \n",
       "2                                  0.0                            0.0   \n",
       "3                                  0.0                            0.0   \n",
       "4                                  0.0                            0.0   \n",
       "\n",
       "   occlusal_adjustment  \n",
       "0                  0.0  \n",
       "1                  0.0  \n",
       "2                  0.0  \n",
       "3                  0.0  \n",
       "4                  0.0  \n",
       "\n",
       "[5 rows x 29 columns]"
      ]
     },
     "execution_count": 3,
     "metadata": {},
     "output_type": "execute_result"
    }
   ],
   "source": [
    "smileon.head()"
   ]
  },
  {
   "cell_type": "code",
   "execution_count": 4,
   "id": "515cd8b2",
   "metadata": {
    "scrolled": false
   },
   "outputs": [
    {
     "name": "stdout",
     "output_type": "stream",
     "text": [
      "<class 'pandas.core.frame.DataFrame'>\n",
      "RangeIndex: 10709 entries, 0 to 10708\n",
      "Data columns (total 29 columns):\n",
      " #   Column                               Non-Null Count  Dtype  \n",
      "---  ------                               --------------  -----  \n",
      " 0   patient_id                           10709 non-null  int64  \n",
      " 1   s_difficulty_eating                  10709 non-null  float64\n",
      " 2   s_difficulty_speaking                10709 non-null  float64\n",
      " 3   s_drymouth                           10709 non-null  float64\n",
      " 4   s_felt_anxiety                       10709 non-null  float64\n",
      " 5   s_felt_embarrassed                   10709 non-null  float64\n",
      " 6   s_avoided_smiling                    10709 non-null  float64\n",
      " 7   s_pain_discomfort                    10709 non-null  float64\n",
      " 8   imaging                              10709 non-null  float64\n",
      " 9   plaque_removal                       10709 non-null  float64\n",
      " 10  sealant                              10709 non-null  float64\n",
      " 11  medicament                           10709 non-null  float64\n",
      " 12  amalgam_cavityfilling                10709 non-null  float64\n",
      " 13  dental_resin                         10709 non-null  float64\n",
      " 14  dentalwork_repairs                   10709 non-null  float64\n",
      " 15  prefab_steel_crown                   10709 non-null  float64\n",
      " 16  sedative_filling                     10709 non-null  float64\n",
      " 17  prefab_prosthetic                    10709 non-null  float64\n",
      " 18  therapeutic_pulpotomy                10709 non-null  float64\n",
      " 19  tooth_extractions_removals           10709 non-null  float64\n",
      " 20  sinus_perforation_closure            10709 non-null  float64\n",
      " 21  biopsy                               10709 non-null  float64\n",
      " 22  alveoloplasty                        10709 non-null  float64\n",
      " 23  excision_lesions                     10709 non-null  float64\n",
      " 24  abscess_drain                        10709 non-null  float64\n",
      " 25  pericoronalgingiva_excision          10709 non-null  float64\n",
      " 26  surgery_fibroustuberosity_reduction  10709 non-null  float64\n",
      " 27  emergencytreatment_dentalpain        10709 non-null  float64\n",
      " 28  occlusal_adjustment                  10709 non-null  float64\n",
      "dtypes: float64(28), int64(1)\n",
      "memory usage: 2.4 MB\n"
     ]
    }
   ],
   "source": [
    "smileon.info()"
   ]
  },
  {
   "cell_type": "markdown",
   "id": "f238c6b1",
   "metadata": {},
   "source": []
  },
  {
   "cell_type": "markdown",
   "id": "9da75bb5",
   "metadata": {},
   "source": [
    "SETTING GRAPH SIZE/COLOR/STYLE DEFAULTS "
   ]
  },
  {
   "cell_type": "code",
   "execution_count": 65,
   "id": "37c8b2e2",
   "metadata": {},
   "outputs": [],
   "source": [
    "#for consistency:  teammate Robert uses this foundation for all his seaborn graphics:\n",
    "\n",
    "sns.set(rc={\"figure.figsize\":(13, 8)},font_scale=1.5, style='darkgrid')"
   ]
  },
  {
   "cell_type": "code",
   "execution_count": 74,
   "id": "b01e1186",
   "metadata": {},
   "outputs": [],
   "source": [
    "#Group project specified color palette:\n",
    "\n",
    "smileplus_palette = [\"#980000\", \"#FBF9F9\", \"#18425A\",\"507184\",\"0D94BF\"]\n",
    "color_codes_wanted = ['red', 'white', 'dark blue','light blue', 'bright blue']\n",
    "\n",
    "c = lambda x: smileplus_palette[color_codes_wanted.index(x)]\n",
    "\n",
    "#sns.set_palette(palette = smileplus_palette)"
   ]
  },
  {
   "cell_type": "markdown",
   "id": "c23f34aa",
   "metadata": {},
   "source": []
  },
  {
   "cell_type": "markdown",
   "id": "3fb84a8f",
   "metadata": {},
   "source": [
    "CREATING SPECIFIC DFS FOR SUBSETS OF DATA FOR GRAPHING"
   ]
  },
  {
   "cell_type": "markdown",
   "id": "fdcdf306",
   "metadata": {},
   "source": [
    "Data only for patients reporting \"difficulty eating\""
   ]
  },
  {
   "cell_type": "code",
   "execution_count": 6,
   "id": "e8f1dfe7",
   "metadata": {
    "scrolled": true
   },
   "outputs": [
    {
     "name": "stdout",
     "output_type": "stream",
     "text": [
      "<class 'pandas.core.frame.DataFrame'>\n",
      "Int64Index: 2590 entries, 0 to 10706\n",
      "Data columns (total 29 columns):\n",
      " #   Column                               Non-Null Count  Dtype  \n",
      "---  ------                               --------------  -----  \n",
      " 0   patient_id                           2590 non-null   int64  \n",
      " 1   s_difficulty_eating                  2590 non-null   float64\n",
      " 2   s_difficulty_speaking                2590 non-null   float64\n",
      " 3   s_drymouth                           2590 non-null   float64\n",
      " 4   s_felt_anxiety                       2590 non-null   float64\n",
      " 5   s_felt_embarrassed                   2590 non-null   float64\n",
      " 6   s_avoided_smiling                    2590 non-null   float64\n",
      " 7   s_pain_discomfort                    2590 non-null   float64\n",
      " 8   imaging                              2590 non-null   float64\n",
      " 9   plaque_removal                       2590 non-null   float64\n",
      " 10  sealant                              2590 non-null   float64\n",
      " 11  medicament                           2590 non-null   float64\n",
      " 12  amalgam_cavityfilling                2590 non-null   float64\n",
      " 13  dental_resin                         2590 non-null   float64\n",
      " 14  dentalwork_repairs                   2590 non-null   float64\n",
      " 15  prefab_steel_crown                   2590 non-null   float64\n",
      " 16  sedative_filling                     2590 non-null   float64\n",
      " 17  prefab_prosthetic                    2590 non-null   float64\n",
      " 18  therapeutic_pulpotomy                2590 non-null   float64\n",
      " 19  tooth_extractions_removals           2590 non-null   float64\n",
      " 20  sinus_perforation_closure            2590 non-null   float64\n",
      " 21  biopsy                               2590 non-null   float64\n",
      " 22  alveoloplasty                        2590 non-null   float64\n",
      " 23  excision_lesions                     2590 non-null   float64\n",
      " 24  abscess_drain                        2590 non-null   float64\n",
      " 25  pericoronalgingiva_excision          2590 non-null   float64\n",
      " 26  surgery_fibroustuberosity_reduction  2590 non-null   float64\n",
      " 27  emergencytreatment_dentalpain        2590 non-null   float64\n",
      " 28  occlusal_adjustment                  2590 non-null   float64\n",
      "dtypes: float64(28), int64(1)\n",
      "memory usage: 607.0 KB\n"
     ]
    }
   ],
   "source": [
    "smileon_eating = smileon[smileon['s_difficulty_eating']==1]\n",
    "smileon_eating.head()\n",
    "smileon_eating.info()"
   ]
  },
  {
   "cell_type": "markdown",
   "id": "9b9d6c4b",
   "metadata": {},
   "source": [
    "Data only for patients reporting \"difficulty speaking\""
   ]
  },
  {
   "cell_type": "code",
   "execution_count": 8,
   "id": "596edf4f",
   "metadata": {
    "scrolled": true
   },
   "outputs": [
    {
     "name": "stdout",
     "output_type": "stream",
     "text": [
      "<class 'pandas.core.frame.DataFrame'>\n",
      "Int64Index: 1156 entries, 6 to 10706\n",
      "Data columns (total 29 columns):\n",
      " #   Column                               Non-Null Count  Dtype  \n",
      "---  ------                               --------------  -----  \n",
      " 0   patient_id                           1156 non-null   int64  \n",
      " 1   s_difficulty_eating                  1156 non-null   float64\n",
      " 2   s_difficulty_speaking                1156 non-null   float64\n",
      " 3   s_drymouth                           1156 non-null   float64\n",
      " 4   s_felt_anxiety                       1156 non-null   float64\n",
      " 5   s_felt_embarrassed                   1156 non-null   float64\n",
      " 6   s_avoided_smiling                    1156 non-null   float64\n",
      " 7   s_pain_discomfort                    1156 non-null   float64\n",
      " 8   imaging                              1156 non-null   float64\n",
      " 9   plaque_removal                       1156 non-null   float64\n",
      " 10  sealant                              1156 non-null   float64\n",
      " 11  medicament                           1156 non-null   float64\n",
      " 12  amalgam_cavityfilling                1156 non-null   float64\n",
      " 13  dental_resin                         1156 non-null   float64\n",
      " 14  dentalwork_repairs                   1156 non-null   float64\n",
      " 15  prefab_steel_crown                   1156 non-null   float64\n",
      " 16  sedative_filling                     1156 non-null   float64\n",
      " 17  prefab_prosthetic                    1156 non-null   float64\n",
      " 18  therapeutic_pulpotomy                1156 non-null   float64\n",
      " 19  tooth_extractions_removals           1156 non-null   float64\n",
      " 20  sinus_perforation_closure            1156 non-null   float64\n",
      " 21  biopsy                               1156 non-null   float64\n",
      " 22  alveoloplasty                        1156 non-null   float64\n",
      " 23  excision_lesions                     1156 non-null   float64\n",
      " 24  abscess_drain                        1156 non-null   float64\n",
      " 25  pericoronalgingiva_excision          1156 non-null   float64\n",
      " 26  surgery_fibroustuberosity_reduction  1156 non-null   float64\n",
      " 27  emergencytreatment_dentalpain        1156 non-null   float64\n",
      " 28  occlusal_adjustment                  1156 non-null   float64\n",
      "dtypes: float64(28), int64(1)\n",
      "memory usage: 270.9 KB\n"
     ]
    }
   ],
   "source": [
    "smileon_speaking = smileon[smileon['s_difficulty_speaking']==1]\n",
    "smileon_speaking.info()"
   ]
  },
  {
   "cell_type": "markdown",
   "id": "809650af",
   "metadata": {},
   "source": [
    "Data only for patients reporting \"dry mouth\""
   ]
  },
  {
   "cell_type": "code",
   "execution_count": 10,
   "id": "d97370a6",
   "metadata": {
    "scrolled": true
   },
   "outputs": [
    {
     "name": "stdout",
     "output_type": "stream",
     "text": [
      "<class 'pandas.core.frame.DataFrame'>\n",
      "Int64Index: 1750 entries, 0 to 10706\n",
      "Data columns (total 29 columns):\n",
      " #   Column                               Non-Null Count  Dtype  \n",
      "---  ------                               --------------  -----  \n",
      " 0   patient_id                           1750 non-null   int64  \n",
      " 1   s_difficulty_eating                  1750 non-null   float64\n",
      " 2   s_difficulty_speaking                1750 non-null   float64\n",
      " 3   s_drymouth                           1750 non-null   float64\n",
      " 4   s_felt_anxiety                       1750 non-null   float64\n",
      " 5   s_felt_embarrassed                   1750 non-null   float64\n",
      " 6   s_avoided_smiling                    1750 non-null   float64\n",
      " 7   s_pain_discomfort                    1750 non-null   float64\n",
      " 8   imaging                              1750 non-null   float64\n",
      " 9   plaque_removal                       1750 non-null   float64\n",
      " 10  sealant                              1750 non-null   float64\n",
      " 11  medicament                           1750 non-null   float64\n",
      " 12  amalgam_cavityfilling                1750 non-null   float64\n",
      " 13  dental_resin                         1750 non-null   float64\n",
      " 14  dentalwork_repairs                   1750 non-null   float64\n",
      " 15  prefab_steel_crown                   1750 non-null   float64\n",
      " 16  sedative_filling                     1750 non-null   float64\n",
      " 17  prefab_prosthetic                    1750 non-null   float64\n",
      " 18  therapeutic_pulpotomy                1750 non-null   float64\n",
      " 19  tooth_extractions_removals           1750 non-null   float64\n",
      " 20  sinus_perforation_closure            1750 non-null   float64\n",
      " 21  biopsy                               1750 non-null   float64\n",
      " 22  alveoloplasty                        1750 non-null   float64\n",
      " 23  excision_lesions                     1750 non-null   float64\n",
      " 24  abscess_drain                        1750 non-null   float64\n",
      " 25  pericoronalgingiva_excision          1750 non-null   float64\n",
      " 26  surgery_fibroustuberosity_reduction  1750 non-null   float64\n",
      " 27  emergencytreatment_dentalpain        1750 non-null   float64\n",
      " 28  occlusal_adjustment                  1750 non-null   float64\n",
      "dtypes: float64(28), int64(1)\n",
      "memory usage: 410.2 KB\n"
     ]
    }
   ],
   "source": [
    "smileon_drymouth = smileon[smileon['s_drymouth']==1]\n",
    "smileon_drymouth.info()"
   ]
  },
  {
   "cell_type": "markdown",
   "id": "d65214c1",
   "metadata": {},
   "source": [
    "Data only for patients reporting \"felt anxiety\""
   ]
  },
  {
   "cell_type": "code",
   "execution_count": 12,
   "id": "f236af91",
   "metadata": {
    "scrolled": true
   },
   "outputs": [
    {
     "name": "stdout",
     "output_type": "stream",
     "text": [
      "<class 'pandas.core.frame.DataFrame'>\n",
      "Int64Index: 1420 entries, 0 to 10706\n",
      "Data columns (total 29 columns):\n",
      " #   Column                               Non-Null Count  Dtype  \n",
      "---  ------                               --------------  -----  \n",
      " 0   patient_id                           1420 non-null   int64  \n",
      " 1   s_difficulty_eating                  1420 non-null   float64\n",
      " 2   s_difficulty_speaking                1420 non-null   float64\n",
      " 3   s_drymouth                           1420 non-null   float64\n",
      " 4   s_felt_anxiety                       1420 non-null   float64\n",
      " 5   s_felt_embarrassed                   1420 non-null   float64\n",
      " 6   s_avoided_smiling                    1420 non-null   float64\n",
      " 7   s_pain_discomfort                    1420 non-null   float64\n",
      " 8   imaging                              1420 non-null   float64\n",
      " 9   plaque_removal                       1420 non-null   float64\n",
      " 10  sealant                              1420 non-null   float64\n",
      " 11  medicament                           1420 non-null   float64\n",
      " 12  amalgam_cavityfilling                1420 non-null   float64\n",
      " 13  dental_resin                         1420 non-null   float64\n",
      " 14  dentalwork_repairs                   1420 non-null   float64\n",
      " 15  prefab_steel_crown                   1420 non-null   float64\n",
      " 16  sedative_filling                     1420 non-null   float64\n",
      " 17  prefab_prosthetic                    1420 non-null   float64\n",
      " 18  therapeutic_pulpotomy                1420 non-null   float64\n",
      " 19  tooth_extractions_removals           1420 non-null   float64\n",
      " 20  sinus_perforation_closure            1420 non-null   float64\n",
      " 21  biopsy                               1420 non-null   float64\n",
      " 22  alveoloplasty                        1420 non-null   float64\n",
      " 23  excision_lesions                     1420 non-null   float64\n",
      " 24  abscess_drain                        1420 non-null   float64\n",
      " 25  pericoronalgingiva_excision          1420 non-null   float64\n",
      " 26  surgery_fibroustuberosity_reduction  1420 non-null   float64\n",
      " 27  emergencytreatment_dentalpain        1420 non-null   float64\n",
      " 28  occlusal_adjustment                  1420 non-null   float64\n",
      "dtypes: float64(28), int64(1)\n",
      "memory usage: 332.8 KB\n"
     ]
    }
   ],
   "source": [
    "smileon_anxiety = smileon[smileon['s_felt_anxiety']==1]\n",
    "smileon_anxiety.info()"
   ]
  },
  {
   "cell_type": "markdown",
   "id": "ae16cf66",
   "metadata": {},
   "source": [
    "Data only for patients reporting \"felt embarrassed\""
   ]
  },
  {
   "cell_type": "code",
   "execution_count": 13,
   "id": "2239fab7",
   "metadata": {
    "scrolled": true
   },
   "outputs": [
    {
     "name": "stdout",
     "output_type": "stream",
     "text": [
      "<class 'pandas.core.frame.DataFrame'>\n",
      "Int64Index: 1721 entries, 6 to 10706\n",
      "Data columns (total 29 columns):\n",
      " #   Column                               Non-Null Count  Dtype  \n",
      "---  ------                               --------------  -----  \n",
      " 0   patient_id                           1721 non-null   int64  \n",
      " 1   s_difficulty_eating                  1721 non-null   float64\n",
      " 2   s_difficulty_speaking                1721 non-null   float64\n",
      " 3   s_drymouth                           1721 non-null   float64\n",
      " 4   s_felt_anxiety                       1721 non-null   float64\n",
      " 5   s_felt_embarrassed                   1721 non-null   float64\n",
      " 6   s_avoided_smiling                    1721 non-null   float64\n",
      " 7   s_pain_discomfort                    1721 non-null   float64\n",
      " 8   imaging                              1721 non-null   float64\n",
      " 9   plaque_removal                       1721 non-null   float64\n",
      " 10  sealant                              1721 non-null   float64\n",
      " 11  medicament                           1721 non-null   float64\n",
      " 12  amalgam_cavityfilling                1721 non-null   float64\n",
      " 13  dental_resin                         1721 non-null   float64\n",
      " 14  dentalwork_repairs                   1721 non-null   float64\n",
      " 15  prefab_steel_crown                   1721 non-null   float64\n",
      " 16  sedative_filling                     1721 non-null   float64\n",
      " 17  prefab_prosthetic                    1721 non-null   float64\n",
      " 18  therapeutic_pulpotomy                1721 non-null   float64\n",
      " 19  tooth_extractions_removals           1721 non-null   float64\n",
      " 20  sinus_perforation_closure            1721 non-null   float64\n",
      " 21  biopsy                               1721 non-null   float64\n",
      " 22  alveoloplasty                        1721 non-null   float64\n",
      " 23  excision_lesions                     1721 non-null   float64\n",
      " 24  abscess_drain                        1721 non-null   float64\n",
      " 25  pericoronalgingiva_excision          1721 non-null   float64\n",
      " 26  surgery_fibroustuberosity_reduction  1721 non-null   float64\n",
      " 27  emergencytreatment_dentalpain        1721 non-null   float64\n",
      " 28  occlusal_adjustment                  1721 non-null   float64\n",
      "dtypes: float64(28), int64(1)\n",
      "memory usage: 403.4 KB\n"
     ]
    }
   ],
   "source": [
    "smileon_embarrassed = smileon[smileon['s_felt_embarrassed']==1]\n",
    "smileon_embarrassed.info()"
   ]
  },
  {
   "cell_type": "markdown",
   "id": "0998cb6b",
   "metadata": {},
   "source": [
    "Data only for patients reporting \"avoided smiling\""
   ]
  },
  {
   "cell_type": "code",
   "execution_count": 79,
   "id": "041f88d8",
   "metadata": {},
   "outputs": [
    {
     "name": "stdout",
     "output_type": "stream",
     "text": [
      "<class 'pandas.core.frame.DataFrame'>\n",
      "Int64Index: 1859 entries, 6 to 10706\n",
      "Data columns (total 29 columns):\n",
      " #   Column                               Non-Null Count  Dtype  \n",
      "---  ------                               --------------  -----  \n",
      " 0   patient_id                           1859 non-null   int64  \n",
      " 1   s_difficulty_eating                  1859 non-null   float64\n",
      " 2   s_difficulty_speaking                1859 non-null   float64\n",
      " 3   s_drymouth                           1859 non-null   float64\n",
      " 4   s_felt_anxiety                       1859 non-null   float64\n",
      " 5   s_felt_embarrassed                   1859 non-null   float64\n",
      " 6   s_avoided_smiling                    1859 non-null   float64\n",
      " 7   s_pain_discomfort                    1859 non-null   float64\n",
      " 8   imaging                              1859 non-null   float64\n",
      " 9   plaque_removal                       1859 non-null   float64\n",
      " 10  sealant                              1859 non-null   float64\n",
      " 11  medicament                           1859 non-null   float64\n",
      " 12  amalgam_cavityfilling                1859 non-null   float64\n",
      " 13  dental_resin                         1859 non-null   float64\n",
      " 14  dentalwork_repairs                   1859 non-null   float64\n",
      " 15  prefab_steel_crown                   1859 non-null   float64\n",
      " 16  sedative_filling                     1859 non-null   float64\n",
      " 17  prefab_prosthetic                    1859 non-null   float64\n",
      " 18  therapeutic_pulpotomy                1859 non-null   float64\n",
      " 19  tooth_extractions_removals           1859 non-null   float64\n",
      " 20  sinus_perforation_closure            1859 non-null   float64\n",
      " 21  biopsy                               1859 non-null   float64\n",
      " 22  alveoloplasty                        1859 non-null   float64\n",
      " 23  excision_lesions                     1859 non-null   float64\n",
      " 24  abscess_drain                        1859 non-null   float64\n",
      " 25  pericoronalgingiva_excision          1859 non-null   float64\n",
      " 26  surgery_fibroustuberosity_reduction  1859 non-null   float64\n",
      " 27  emergencytreatment_dentalpain        1859 non-null   float64\n",
      " 28  occlusal_adjustment                  1859 non-null   float64\n",
      "dtypes: float64(28), int64(1)\n",
      "memory usage: 435.7 KB\n"
     ]
    }
   ],
   "source": [
    "smileon_smiling = smileon[smileon['s_avoided_smiling']==1]\n",
    "smileon_smiling.info()"
   ]
  },
  {
   "cell_type": "markdown",
   "id": "e71c17d0",
   "metadata": {},
   "source": [
    "Data only for patients reporting \"felt pain or discomfort\""
   ]
  },
  {
   "cell_type": "code",
   "execution_count": 14,
   "id": "c99be373",
   "metadata": {
    "scrolled": true
   },
   "outputs": [
    {
     "name": "stdout",
     "output_type": "stream",
     "text": [
      "<class 'pandas.core.frame.DataFrame'>\n",
      "Int64Index: 2217 entries, 0 to 10704\n",
      "Data columns (total 29 columns):\n",
      " #   Column                               Non-Null Count  Dtype  \n",
      "---  ------                               --------------  -----  \n",
      " 0   patient_id                           2217 non-null   int64  \n",
      " 1   s_difficulty_eating                  2217 non-null   float64\n",
      " 2   s_difficulty_speaking                2217 non-null   float64\n",
      " 3   s_drymouth                           2217 non-null   float64\n",
      " 4   s_felt_anxiety                       2217 non-null   float64\n",
      " 5   s_felt_embarrassed                   2217 non-null   float64\n",
      " 6   s_avoided_smiling                    2217 non-null   float64\n",
      " 7   s_pain_discomfort                    2217 non-null   float64\n",
      " 8   imaging                              2217 non-null   float64\n",
      " 9   plaque_removal                       2217 non-null   float64\n",
      " 10  sealant                              2217 non-null   float64\n",
      " 11  medicament                           2217 non-null   float64\n",
      " 12  amalgam_cavityfilling                2217 non-null   float64\n",
      " 13  dental_resin                         2217 non-null   float64\n",
      " 14  dentalwork_repairs                   2217 non-null   float64\n",
      " 15  prefab_steel_crown                   2217 non-null   float64\n",
      " 16  sedative_filling                     2217 non-null   float64\n",
      " 17  prefab_prosthetic                    2217 non-null   float64\n",
      " 18  therapeutic_pulpotomy                2217 non-null   float64\n",
      " 19  tooth_extractions_removals           2217 non-null   float64\n",
      " 20  sinus_perforation_closure            2217 non-null   float64\n",
      " 21  biopsy                               2217 non-null   float64\n",
      " 22  alveoloplasty                        2217 non-null   float64\n",
      " 23  excision_lesions                     2217 non-null   float64\n",
      " 24  abscess_drain                        2217 non-null   float64\n",
      " 25  pericoronalgingiva_excision          2217 non-null   float64\n",
      " 26  surgery_fibroustuberosity_reduction  2217 non-null   float64\n",
      " 27  emergencytreatment_dentalpain        2217 non-null   float64\n",
      " 28  occlusal_adjustment                  2217 non-null   float64\n",
      "dtypes: float64(28), int64(1)\n",
      "memory usage: 519.6 KB\n"
     ]
    }
   ],
   "source": [
    "smileon_pain = smileon[smileon['s_pain_discomfort']==1]\n",
    "smileon_pain.info()"
   ]
  },
  {
   "cell_type": "markdown",
   "id": "3185235b",
   "metadata": {},
   "source": [
    "Data - how many patients reported each of the 7 problems"
   ]
  },
  {
   "cell_type": "code",
   "execution_count": 38,
   "id": "e27dd059",
   "metadata": {
    "scrolled": false
   },
   "outputs": [
    {
     "name": "stdout",
     "output_type": "stream",
     "text": [
      "<class 'pandas.core.frame.DataFrame'>\n",
      "RangeIndex: 10709 entries, 0 to 10708\n",
      "Data columns (total 8 columns):\n",
      " #   Column                 Non-Null Count  Dtype  \n",
      "---  ------                 --------------  -----  \n",
      " 0   patient_id             10709 non-null  int64  \n",
      " 1   s_difficulty_eating    10709 non-null  float64\n",
      " 2   s_difficulty_speaking  10709 non-null  float64\n",
      " 3   s_drymouth             10709 non-null  float64\n",
      " 4   s_felt_anxiety         10709 non-null  float64\n",
      " 5   s_felt_embarrassed     10709 non-null  float64\n",
      " 6   s_avoided_smiling      10709 non-null  float64\n",
      " 7   s_pain_discomfort      10709 non-null  float64\n",
      "dtypes: float64(7), int64(1)\n",
      "memory usage: 669.4 KB\n"
     ]
    }
   ],
   "source": [
    "smileon_problems=smileon[['patient_id','s_difficulty_eating','s_difficulty_speaking','s_drymouth','s_felt_anxiety','s_felt_embarrassed','s_avoided_smiling','s_pain_discomfort']]\n",
    "smileon_problems.info()"
   ]
  },
  {
   "cell_type": "markdown",
   "id": "a4897dec",
   "metadata": {},
   "source": [
    "Data - how many visits did people in the program make on average?"
   ]
  },
  {
   "cell_type": "code",
   "execution_count": 22,
   "id": "fe6b660d",
   "metadata": {},
   "outputs": [
    {
     "data": {
      "text/plain": [
       "count    10711.000000\n",
       "mean         5.393334\n",
       "std          4.695309\n",
       "min          1.000000\n",
       "25%          2.000000\n",
       "50%          4.000000\n",
       "75%          8.000000\n",
       "max         63.000000\n",
       "Name: patient_id, dtype: float64"
      ]
     },
     "execution_count": 22,
     "metadata": {},
     "output_type": "execute_result"
    }
   ],
   "source": [
    "eligible=smileon2[smileon2['ve_eligibility']!='No']\n",
    "patientcounts=eligible['patient_id'].value_counts()\n",
    "patientcounts.describe()\n",
    "#average number of visits per patient - 5.4"
   ]
  },
  {
   "cell_type": "markdown",
   "id": "16ca5ca6",
   "metadata": {},
   "source": []
  },
  {
   "cell_type": "markdown",
   "id": "789eafab",
   "metadata": {},
   "source": [
    "STARTING VISUALIZATIONS "
   ]
  },
  {
   "cell_type": "code",
   "execution_count": 39,
   "id": "3b9dc3a5",
   "metadata": {},
   "outputs": [
    {
     "data": {
      "text/html": [
       "<div>\n",
       "<style scoped>\n",
       "    .dataframe tbody tr th:only-of-type {\n",
       "        vertical-align: middle;\n",
       "    }\n",
       "\n",
       "    .dataframe tbody tr th {\n",
       "        vertical-align: top;\n",
       "    }\n",
       "\n",
       "    .dataframe thead th {\n",
       "        text-align: right;\n",
       "    }\n",
       "</style>\n",
       "<table border=\"1\" class=\"dataframe\">\n",
       "  <thead>\n",
       "    <tr style=\"text-align: right;\">\n",
       "      <th></th>\n",
       "      <th>patient_id</th>\n",
       "      <th>s_difficulty_eating</th>\n",
       "      <th>s_difficulty_speaking</th>\n",
       "      <th>s_drymouth</th>\n",
       "      <th>s_felt_anxiety</th>\n",
       "      <th>s_felt_embarrassed</th>\n",
       "      <th>s_avoided_smiling</th>\n",
       "      <th>s_pain_discomfort</th>\n",
       "    </tr>\n",
       "  </thead>\n",
       "  <tbody>\n",
       "    <tr>\n",
       "      <th>0</th>\n",
       "      <td>2384106</td>\n",
       "      <td>1.0</td>\n",
       "      <td>0.0</td>\n",
       "      <td>1.0</td>\n",
       "      <td>1.0</td>\n",
       "      <td>0.0</td>\n",
       "      <td>0.0</td>\n",
       "      <td>1.0</td>\n",
       "    </tr>\n",
       "    <tr>\n",
       "      <th>1</th>\n",
       "      <td>2384744</td>\n",
       "      <td>1.0</td>\n",
       "      <td>0.0</td>\n",
       "      <td>0.0</td>\n",
       "      <td>0.0</td>\n",
       "      <td>0.0</td>\n",
       "      <td>0.0</td>\n",
       "      <td>0.0</td>\n",
       "    </tr>\n",
       "    <tr>\n",
       "      <th>2</th>\n",
       "      <td>2384833</td>\n",
       "      <td>1.0</td>\n",
       "      <td>0.0</td>\n",
       "      <td>0.0</td>\n",
       "      <td>0.0</td>\n",
       "      <td>0.0</td>\n",
       "      <td>0.0</td>\n",
       "      <td>1.0</td>\n",
       "    </tr>\n",
       "    <tr>\n",
       "      <th>3</th>\n",
       "      <td>2384897</td>\n",
       "      <td>0.0</td>\n",
       "      <td>0.0</td>\n",
       "      <td>0.0</td>\n",
       "      <td>0.0</td>\n",
       "      <td>0.0</td>\n",
       "      <td>0.0</td>\n",
       "      <td>0.0</td>\n",
       "    </tr>\n",
       "    <tr>\n",
       "      <th>4</th>\n",
       "      <td>2384922</td>\n",
       "      <td>0.0</td>\n",
       "      <td>0.0</td>\n",
       "      <td>1.0</td>\n",
       "      <td>0.0</td>\n",
       "      <td>0.0</td>\n",
       "      <td>0.0</td>\n",
       "      <td>0.0</td>\n",
       "    </tr>\n",
       "  </tbody>\n",
       "</table>\n",
       "</div>"
      ],
      "text/plain": [
       "   patient_id  s_difficulty_eating  s_difficulty_speaking  s_drymouth  \\\n",
       "0     2384106                  1.0                    0.0         1.0   \n",
       "1     2384744                  1.0                    0.0         0.0   \n",
       "2     2384833                  1.0                    0.0         0.0   \n",
       "3     2384897                  0.0                    0.0         0.0   \n",
       "4     2384922                  0.0                    0.0         1.0   \n",
       "\n",
       "   s_felt_anxiety  s_felt_embarrassed  s_avoided_smiling  s_pain_discomfort  \n",
       "0             1.0                 0.0                0.0                1.0  \n",
       "1             0.0                 0.0                0.0                0.0  \n",
       "2             0.0                 0.0                0.0                1.0  \n",
       "3             0.0                 0.0                0.0                0.0  \n",
       "4             0.0                 0.0                0.0                0.0  "
      ]
     },
     "execution_count": 39,
     "metadata": {},
     "output_type": "execute_result"
    }
   ],
   "source": [
    "#Who approached SmileOn for help - what problems were they having?\n",
    "#smileon_problems\n",
    "\n",
    "smileon_problems.head()"
   ]
  },
  {
   "cell_type": "code",
   "execution_count": 52,
   "id": "bc930d53",
   "metadata": {
    "scrolled": true
   },
   "outputs": [
    {
     "data": {
      "text/plain": [
       "patient_id               3.410612e+10\n",
       "s_difficulty_eating      3.385000e+03\n",
       "s_difficulty_speaking    1.348000e+03\n",
       "s_drymouth               2.256000e+03\n",
       "s_felt_anxiety           1.663000e+03\n",
       "s_felt_embarrassed       2.124000e+03\n",
       "s_avoided_smiling        2.334000e+03\n",
       "s_pain_discomfort        2.835000e+03\n",
       "dtype: float64"
      ]
     },
     "execution_count": 52,
     "metadata": {},
     "output_type": "execute_result"
    }
   ],
   "source": [
    "problems2 = smileon_problems.sum()\n",
    "problems2.head(10)"
   ]
  },
  {
   "cell_type": "code",
   "execution_count": 93,
   "id": "fe335dc5",
   "metadata": {},
   "outputs": [
    {
     "data": {
      "text/html": [
       "<div>\n",
       "<style scoped>\n",
       "    .dataframe tbody tr th:only-of-type {\n",
       "        vertical-align: middle;\n",
       "    }\n",
       "\n",
       "    .dataframe tbody tr th {\n",
       "        vertical-align: top;\n",
       "    }\n",
       "\n",
       "    .dataframe thead th {\n",
       "        text-align: right;\n",
       "    }\n",
       "</style>\n",
       "<table border=\"1\" class=\"dataframe\">\n",
       "  <thead>\n",
       "    <tr style=\"text-align: right;\">\n",
       "      <th></th>\n",
       "      <th>Problem_Patient_Experienced</th>\n",
       "      <th>Number_of_Patients</th>\n",
       "    </tr>\n",
       "  </thead>\n",
       "  <tbody>\n",
       "    <tr>\n",
       "      <th>0</th>\n",
       "      <td>Difficulty Eating</td>\n",
       "      <td>3385</td>\n",
       "    </tr>\n",
       "    <tr>\n",
       "      <th>1</th>\n",
       "      <td>Difficulty Speaking</td>\n",
       "      <td>1348</td>\n",
       "    </tr>\n",
       "    <tr>\n",
       "      <th>2</th>\n",
       "      <td>Dry Mouth</td>\n",
       "      <td>2256</td>\n",
       "    </tr>\n",
       "    <tr>\n",
       "      <th>3</th>\n",
       "      <td>Felt Anxiety</td>\n",
       "      <td>1663</td>\n",
       "    </tr>\n",
       "    <tr>\n",
       "      <th>4</th>\n",
       "      <td>Felt Embarrassed</td>\n",
       "      <td>2124</td>\n",
       "    </tr>\n",
       "    <tr>\n",
       "      <th>5</th>\n",
       "      <td>Avoided Smiling</td>\n",
       "      <td>2334</td>\n",
       "    </tr>\n",
       "    <tr>\n",
       "      <th>6</th>\n",
       "      <td>Felt Pain or Discomfort</td>\n",
       "      <td>2835</td>\n",
       "    </tr>\n",
       "  </tbody>\n",
       "</table>\n",
       "</div>"
      ],
      "text/plain": [
       "  Problem_Patient_Experienced  Number_of_Patients\n",
       "0           Difficulty Eating                3385\n",
       "1         Difficulty Speaking                1348\n",
       "2                   Dry Mouth                2256\n",
       "3                Felt Anxiety                1663\n",
       "4            Felt Embarrassed                2124\n",
       "5             Avoided Smiling                2334\n",
       "6     Felt Pain or Discomfort                2835"
      ]
     },
     "execution_count": 93,
     "metadata": {},
     "output_type": "execute_result"
    }
   ],
   "source": [
    "problemslist = [['Difficulty Eating',3385],['Difficulty Speaking',1348],['Dry Mouth',2256],['Felt Anxiety',1663],['Felt Embarrassed',2124],['Avoided Smiling',2334],['Felt Pain or Discomfort',2835]]\n",
    "problems_df = pd.DataFrame(problemslist,columns = ['Problem_Patient_Experienced','Number_of_Patients'])\n",
    "#problems_df = problems_df.sort_values('Number_of_Patients', ascending=False)\n",
    "problems_df.head(10)"
   ]
  },
  {
   "cell_type": "code",
   "execution_count": 59,
   "id": "9fbb4d98",
   "metadata": {
    "scrolled": true
   },
   "outputs": [
    {
     "data": {
      "image/png": "[encoded data removed]",
      "text/plain": [
       "<Figure size 936x576 with 1 Axes>"
      ]
     },
     "metadata": {},
     "output_type": "display_data"
    },
    {
     "name": "stdout",
     "output_type": "stream",
     "text": [
      "Executing shutdown due to inactivity...\n"
     ]
    },
    {
     "name": "stderr",
     "output_type": "stream",
     "text": [
      "2021-11-19 17:54:52,086 - INFO     - Executing shutdown due to inactivity...\n"
     ]
    },
    {
     "name": "stdout",
     "output_type": "stream",
     "text": [
      "Executing shutdown...\n"
     ]
    },
    {
     "name": "stderr",
     "output_type": "stream",
     "text": [
      "2021-11-19 17:55:04,395 - INFO     - Executing shutdown...\n"
     ]
    }
   ],
   "source": [
    "plt.bar(problems_df.Problem_Patient_Experienced, problems_df.Number_of_Patients)\n",
    "plt.xlabel('Problem the Patient Experienced')\n",
    "plt.xticks(rotation = 45)\n",
    "plt.ylabel('Number of Patients')\n",
    "plt.show()"
   ]
  },
  {
   "cell_type": "markdown",
   "id": "a01624bf",
   "metadata": {},
   "source": [
    "The group presentation is specifying which colors to use ... which I can't control to that extent in plt.  Need to do in sns"
   ]
  },
  {
   "cell_type": "code",
   "execution_count": 94,
   "id": "6fc84ea3",
   "metadata": {},
   "outputs": [
    {
     "data": {
      "image/png": "[encoded data removed]",
      "text/plain": [
       "<Figure size 936x576 with 1 Axes>"
      ]
     },
     "metadata": {},
     "output_type": "display_data"
    }
   ],
   "source": [
    "p = sns.barplot(data=problems_df, x='Problem_Patient_Experienced', y='Number_of_Patients', color=\"blue\")\n",
    "p.set_xticklabels(p.get_xticklabels(),rotation=45)\n",
    "p.set(xlabel = 'Patient-Reported Problem', ylabel='Number of Patients')\n",
    "#p.set_title()\n",
    "\n",
    "for index, row in problems_df.iterrows():\n",
    "    p.text(row.name,row.Number_of_Patients, round(row.Number_of_Patients,0), color='black',ha='center')\n",
    "#I don't know why - but it won't work when i organize by descending/ascending order.  Bars move, but numbers stay?\n",
    "\n",
    "#I also can't get the color palette to work.  Perhaps do manually?  \n",
    "#Note - changing the color to the desired HEX worked great in paint"
   ]
  },
  {
   "cell_type": "code",
   "execution_count": null,
   "id": "dc4a84ba",
   "metadata": {},
   "outputs": [],
   "source": []
  },
  {
   "cell_type": "code",
   "execution_count": 105,
   "id": "d864cbbe",
   "metadata": {
    "scrolled": true
   },
   "outputs": [
    {
     "data": {
      "text/plain": [
       "-1          63\n",
       " 3212379    54\n",
       " 2441776    43\n",
       " 2758373    42\n",
       " 2431132    37\n",
       "            ..\n",
       " 2449032     1\n",
       " 3078387     1\n",
       " 2533625     1\n",
       " 3271109     1\n",
       " 4491936     1\n",
       "Name: patient_id, Length: 10711, dtype: int64"
      ]
     },
     "execution_count": 105,
     "metadata": {},
     "output_type": "execute_result"
    }
   ],
   "source": [
    "#How many times did patients visit the clinics?\n",
    "#patientcounts\n",
    "\n",
    "patientcounts"
   ]
  },
  {
   "cell_type": "code",
   "execution_count": 100,
   "id": "7549eab4",
   "metadata": {},
   "outputs": [
    {
     "data": {
      "text/plain": [
       "count    10711.000000\n",
       "mean         5.393334\n",
       "std          4.695309\n",
       "min          1.000000\n",
       "25%          2.000000\n",
       "50%          4.000000\n",
       "75%          8.000000\n",
       "max         63.000000\n",
       "Name: patient_id, dtype: float64"
      ]
     },
     "execution_count": 100,
     "metadata": {},
     "output_type": "execute_result"
    }
   ],
   "source": [
    "patientcounts.describe()"
   ]
  },
  {
   "cell_type": "code",
   "execution_count": 104,
   "id": "0f0a7f00",
   "metadata": {},
   "outputs": [
    {
     "data": {
      "text/html": [
       "<div>\n",
       "<style scoped>\n",
       "    .dataframe tbody tr th:only-of-type {\n",
       "        vertical-align: middle;\n",
       "    }\n",
       "\n",
       "    .dataframe tbody tr th {\n",
       "        vertical-align: top;\n",
       "    }\n",
       "\n",
       "    .dataframe thead th {\n",
       "        text-align: right;\n",
       "    }\n",
       "</style>\n",
       "<table border=\"1\" class=\"dataframe\">\n",
       "  <thead>\n",
       "    <tr style=\"text-align: right;\">\n",
       "      <th></th>\n",
       "      <th>Patient_ID</th>\n",
       "      <th>Number_of_Visits</th>\n",
       "    </tr>\n",
       "  </thead>\n",
       "  <tbody>\n",
       "  </tbody>\n",
       "</table>\n",
       "</div>"
      ],
      "text/plain": [
       "Empty DataFrame\n",
       "Columns: [Patient_ID, Number_of_Visits]\n",
       "Index: []"
      ]
     },
     "execution_count": 104,
     "metadata": {},
     "output_type": "execute_result"
    }
   ],
   "source": [
    "visits_df = pd.DataFrame(patientcounts,columns = ['Patient_ID','Number_of_Visits'])\n",
    "visits_df.head()"
   ]
  },
  {
   "cell_type": "markdown",
   "id": "54d95d12",
   "metadata": {},
   "source": [
    "Okay - I cannot think of how to convert this to a DF ... So I'm going to do this badly.  \n",
    "Export to csv.  \n",
    "Edit csv in excel to get column titles.\n",
    "reimport csv as df.  \n",
    "It's not good - but i think it will work.\n",
    "\n",
    "Note - since i was already being bad, went ahead and deleted row patient id = -1.  Can do it in python ... but why?"
   ]
  },
  {
   "cell_type": "code",
   "execution_count": 107,
   "id": "94a6539f",
   "metadata": {},
   "outputs": [],
   "source": [
    "patientcounts.to_csv('../data/patientcounts.csv')"
   ]
  },
  {
   "cell_type": "code",
   "execution_count": 108,
   "id": "b0ca842b",
   "metadata": {},
   "outputs": [],
   "source": [
    "patientcounts = pd.read_csv('../data/patientcounts.csv')"
   ]
  },
  {
   "cell_type": "code",
   "execution_count": 109,
   "id": "5cf5ca3a",
   "metadata": {},
   "outputs": [
    {
     "data": {
      "text/html": [
       "<div>\n",
       "<style scoped>\n",
       "    .dataframe tbody tr th:only-of-type {\n",
       "        vertical-align: middle;\n",
       "    }\n",
       "\n",
       "    .dataframe tbody tr th {\n",
       "        vertical-align: top;\n",
       "    }\n",
       "\n",
       "    .dataframe thead th {\n",
       "        text-align: right;\n",
       "    }\n",
       "</style>\n",
       "<table border=\"1\" class=\"dataframe\">\n",
       "  <thead>\n",
       "    <tr style=\"text-align: right;\">\n",
       "      <th></th>\n",
       "      <th>patient_id</th>\n",
       "      <th>number_of_visits</th>\n",
       "    </tr>\n",
       "  </thead>\n",
       "  <tbody>\n",
       "    <tr>\n",
       "      <th>0</th>\n",
       "      <td>3212379</td>\n",
       "      <td>54</td>\n",
       "    </tr>\n",
       "    <tr>\n",
       "      <th>1</th>\n",
       "      <td>2441776</td>\n",
       "      <td>43</td>\n",
       "    </tr>\n",
       "    <tr>\n",
       "      <th>2</th>\n",
       "      <td>2758373</td>\n",
       "      <td>42</td>\n",
       "    </tr>\n",
       "    <tr>\n",
       "      <th>3</th>\n",
       "      <td>2431132</td>\n",
       "      <td>37</td>\n",
       "    </tr>\n",
       "    <tr>\n",
       "      <th>4</th>\n",
       "      <td>2416076</td>\n",
       "      <td>35</td>\n",
       "    </tr>\n",
       "  </tbody>\n",
       "</table>\n",
       "</div>"
      ],
      "text/plain": [
       "   patient_id  number_of_visits\n",
       "0     3212379                54\n",
       "1     2441776                43\n",
       "2     2758373                42\n",
       "3     2431132                37\n",
       "4     2416076                35"
      ]
     },
     "execution_count": 109,
     "metadata": {},
     "output_type": "execute_result"
    }
   ],
   "source": [
    "patientcounts.head()"
   ]
  },
  {
   "cell_type": "code",
   "execution_count": null,
   "id": "83f6ace8",
   "metadata": {},
   "outputs": [],
   "source": []
  },
  {
   "cell_type": "code",
   "execution_count": null,
   "id": "66fe767c",
   "metadata": {},
   "outputs": [],
   "source": []
  },
  {
   "cell_type": "code",
   "execution_count": null,
   "id": "2d9ae122",
   "metadata": {},
   "outputs": [],
   "source": []
  },
  {
   "cell_type": "code",
   "execution_count": 47,
   "id": "f4c89574",
   "metadata": {},
   "outputs": [],
   "source": [
    "#d=dtale.show(problems2)\n",
    "#d.open_browser()"
   ]
  },
  {
   "cell_type": "code",
   "execution_count": null,
   "id": "463f61be",
   "metadata": {},
   "outputs": [],
   "source": []
  }
 ],
 "metadata": {
  "kernelspec": {
   "display_name": "Python 3",
   "language": "python",
   "name": "python3"
  },
  "language_info": {
   "codemirror_mode": {
    "name": "ipython",
    "version": 3
   },
   "file_extension": ".py",
   "mimetype": "text/x-python",
   "name": "python",
   "nbconvert_exporter": "python",
   "pygments_lexer": "ipython3",
   "version": "3.8.8"
  }
 },
 "nbformat": 4,
 "nbformat_minor": 5
}
