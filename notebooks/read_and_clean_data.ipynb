{
 "cells": [
  {
   "cell_type": "markdown",
   "id": "aad6e61f",
   "metadata": {},
   "source": [
    "# Read and clean data"
   ]
  },
  {
   "cell_type": "markdown",
   "id": "93833f5d",
   "metadata": {},
   "source": [
    "### Import needed modules"
   ]
  },
  {
   "cell_type": "code",
   "execution_count": 1,
   "id": "a613815d",
   "metadata": {},
   "outputs": [],
   "source": [
    "import pandas as pd"
   ]
  },
  {
   "cell_type": "markdown",
   "id": "ff2bd27a",
   "metadata": {},
   "source": [
    "### Read in csv into pandas dataframe"
   ]
  },
  {
   "cell_type": "code",
   "execution_count": 2,
   "id": "dd8d23c5",
   "metadata": {},
   "outputs": [
    {
     "name": "stderr",
     "output_type": "stream",
     "text": [
      "C:\\Users\\rober\\anaconda3\\lib\\site-packages\\IPython\\core\\interactiveshell.py:3165: DtypeWarning: Columns (2,32,36,53,58,59,77,83,89,93,105,127,141,144) have mixed types.Specify dtype option on import or set low_memory=False.\n",
      "  has_raised = await self.run_ast_nodes(code_ast.body, cell_name,\n"
     ]
    }
   ],
   "source": [
    "smileon_df = pd.read_csv('../data/Smileon.2021.10.17.csv', skiprows=2)"
   ]
  },
  {
   "cell_type": "markdown",
   "id": "cea52174",
   "metadata": {},
   "source": [
    "### Analyze metadata of dataframe"
   ]
  },
  {
   "cell_type": "code",
   "execution_count": 17,
   "id": "2a6de47d",
   "metadata": {},
   "outputs": [],
   "source": [
    "#smileon_df.info()"
   ]
  },
  {
   "cell_type": "code",
   "execution_count": 4,
   "id": "d5b406fb",
   "metadata": {
    "scrolled": false
   },
   "outputs": [],
   "source": [
    "#smileon_df.head()"
   ]
  },
  {
   "cell_type": "markdown",
   "id": "614e04d9",
   "metadata": {},
   "source": [
    "### Check if unused columns have data or just null values within them.\n",
    "- If there is data, I can filter the rows based on that column."
   ]
  },
  {
   "cell_type": "code",
   "execution_count": 5,
   "id": "0c46552a",
   "metadata": {
    "scrolled": true
   },
   "outputs": [],
   "source": [
    "#smileon_df.isnull().sum()\n",
    "#smileon_df['Action: Upload Before Picture on Finish Tab'].isnull().sum()"
   ]
  },
  {
   "cell_type": "markdown",
   "id": "b480a470",
   "metadata": {},
   "source": [
    "### Drop columns listed as unused within the data dictionary\n",
    "- I wasn't able to find any data of use for these columns"
   ]
  },
  {
   "cell_type": "code",
   "execution_count": 6,
   "id": "170b0489",
   "metadata": {},
   "outputs": [],
   "source": [
    "smileon_df.drop(smileon_df.columns[[2, 8, 9, 10, 11, 12, 13, 14, 15, 21, 22,\n",
    "                                    23, 24, 25, 26, 27, 28, 29, 30, 31, 32, \n",
    "                                    33, 35, 37, 38, 39, 40, 41, 42, 43, 44, \n",
    "                                    45, 46, 49, 55, 56, 57]], axis = 1, inplace = True)\n",
    "#smileon_df.info()"
   ]
  },
  {
   "cell_type": "markdown",
   "id": "7e627e73",
   "metadata": {},
   "source": [
    "### Remove any more columns that only have null values"
   ]
  },
  {
   "cell_type": "code",
   "execution_count": 7,
   "id": "b2349758",
   "metadata": {},
   "outputs": [],
   "source": [
    "smileon_df.dropna(axis=1, how='all', inplace = True)\n",
    "#smileon_df.info()"
   ]
  },
  {
   "cell_type": "markdown",
   "id": "b0544ae3",
   "metadata": {},
   "source": [
    "### Display all columns\n",
    "- Created a \"Cleaned\" Data Dictionary"
   ]
  },
  {
   "cell_type": "code",
   "execution_count": 8,
   "id": "185fa55a",
   "metadata": {
    "scrolled": true
   },
   "outputs": [],
   "source": [
    "# Set it to None to display all columns in the dataframe\n",
    "#pd.set_option('display.max_columns', None)\n",
    "#smileon_df.head(20)"
   ]
  },
  {
   "cell_type": "markdown",
   "id": "8e66feea",
   "metadata": {},
   "source": [
    "### Rename some columns"
   ]
  },
  {
   "cell_type": "code",
   "execution_count": 9,
   "id": "1098fbf0",
   "metadata": {
    "scrolled": true
   },
   "outputs": [],
   "source": [
    "smileon_df.rename(columns = {\n",
    "    'CallReportNum':'ReportID',\n",
    "    'CallerNum':'PatientID',\n",
    "    'PhoneWorkerNum':'StaffID',\n",
    "    'CallDateAndTimeStart':'CallStart',\n",
    "    'CallDateAndTimeEnd':'CallEnd',\n",
    "    'CityName':'City',\n",
    "    'CountyName':'County',\n",
    "    'CountryName':'Country',\n",
    "    'EnteredByWorkerNum':'EnteredByStaffID',\n",
    "    'FeedbackFromPhoneWorkerNum':'FeedbackStaffID',\n",
    "    'FeedbackFromPhoneWorkerName':'FeedbackName',\n",
    "    'SMILE ON 60+ Demographic Information - # of People in Household':'Household Number',\n",
    "    'SMILE ON 60+ Demographic Information - Other Language':'Other Language',\n",
    "    'SMILE ON 60+ Notes (Optional) - Notes':'Notes',\n",
    "    'SMILE ON 60+ Oral Care Encounter - 1351 - Quantity':'Oral Care - 1351 - Qty',\n",
    "    'SMILE ON 60+ Oral Care Encounter - 1354 - Quantity':'Oral Care - 1354 - Qty',\n",
    "    'SMILE ON 60+ Oral Care Encounter - 2140 - Quantity':'Oral Care - 2140 - Qty',\n",
    "    'SMILE ON 60+ Oral Care Encounter - 2150 - Quantity':'Oral Care - 2150 - Qty',\n",
    "    'SMILE ON 60+ Oral Care Encounter - 2160 - Quantity':'Oral Care - 2160 - Qty',\n",
    "    'SMILE ON 60+ Oral Care Encounter - 2161 - Quantity':'Oral Care - 2161 - Qty',\n",
    "    'SMILE ON 60+ Oral Care Encounter - 230 - Quantity':'Oral Care - 230 - Qty',\n",
    "    'SMILE ON 60+ Oral Care Encounter - 2330 - Quantity':'Oral Care - 2330 - Qty',\n",
    "    'SMILE ON 60+ Oral Care Encounter - 2331 - Quantity':'Oral Care - 2331 - Qty',\n",
    "    'SMILE ON 60+ Oral Care Encounter - 2332 - Quantity':'Oral Care - 2332 - Qty',\n",
    "    'SMILE ON 60+ Oral Care Encounter - 2335 - Quantity':'Oral Care - 2335 - Qty',\n",
    "    'SMILE ON 60+ Oral Care Encounter - 2390 - Quantity':'Oral Care - 2390 - Qty',\n",
    "    'SMILE ON 60+ Oral Care Encounter - 2391 - Quantity':'Oral Care - 2391 - Qty',\n",
    "    'SMILE ON 60+ Oral Care Encounter - 2392 - Quantity':'Oral Care - 2392 - Qty',\n",
    "    'SMILE ON 60+ Oral Care Encounter - 2393 - Quantity':'Oral Care - 2393 - Qty',\n",
    "    'SMILE ON 60+ Oral Care Encounter - 2394 - Quantity':'Oral Care - 2394 - Qty',\n",
    "    'SMILE ON 60+ Oral Care Encounter - 2915 - Quantity':'Oral Care - 2915 - Qty',\n",
    "    'SMILE ON 60+ Oral Care Encounter - 2920 - Quantity':'Oral Care - 2920 - Qty',\n",
    "    'SMILE ON 60+ Oral Care Encounter - 2933 - Quantity':'Oral Care - 2933 - Qty',\n",
    "    'SMILE ON 60+ Oral Care Encounter - 2940 - Quantity':'Oral Care - 2940 - Qty',\n",
    "    'SMILE ON 60+ Oral Care Encounter - 2950 - Quantity':'Oral Care - 2950 - Qty',\n",
    "    'SMILE ON 60+ Oral Care Encounter - 2954 - Quantity':'Oral Care - 2954 - Qty',\n",
    "    'SMILE ON 60+ Oral Care Encounter - 2980 - Quantity':'Oral Care - 2980 - Qty',\n",
    "    'SMILE ON 60+ Oral Care Encounter - 3220 - Quantity':'Oral Care - 3220 - Qty',\n",
    "    'SMILE ON 60+ Oral Care Encounter - 4341 - Quantity':'Oral Care - 4341 - Qty',\n",
    "    'SMILE ON 60+ Oral Care Encounter - 4342 - Quantity':'Oral Care - 4342 - Qty',\n",
    "    'SMILE ON 60+ Oral Care Encounter - 6930 - Quantity':'Oral Care - 6930 - Qty',\n",
    "    'SMILE ON 60+ Oral Care Encounter - 6980 - Quantity':'Oral Care - 6980 - Qty',\n",
    "    'SMILE ON 60+ Oral Care Encounter - 7111 - Quantity':'Oral Care - 7111 - Qty',\n",
    "    'SMILE ON 60+ Oral Care Encounter - 7140 - Quantity':'Oral Care - 7140 - Qty',\n",
    "    'SMILE ON 60+ Oral Care Encounter - 7210 - Quantity':'Oral Care - 7210 - Qty',\n",
    "    'SMILE ON 60+ Oral Care Encounter - 7220 - Quantity':'Oral Care - 7220 - Qty',\n",
    "    'SMILE ON 60+ Oral Care Encounter - 7230 - Quantity':'Oral Care - 7230 - Qty',\n",
    "    'SMILE ON 60+ Oral Care Encounter - 7240 - Quantity':'Oral Care - 7240 - Qty',\n",
    "    'SMILE ON 60+ Oral Care Encounter - 7241 - Quantity':'Oral Care - 7241 - Qty',\n",
    "    'SMILE ON 60+ Oral Care Encounter - 7250 - Quantity':'Oral Care - 7250 - Qty',\n",
    "    'SMILE ON 60+ Oral Care Encounter - 7261 - Quantity':'Oral Care - 7261 - Qty',\n",
    "    'SMILE ON 60+ Oral Care Encounter - 7286 - Quantity':'Oral Care - 7286 - Qty',\n",
    "    'SMILE ON 60+ Oral Care Encounter - 7310 - Quantity':'Oral Care - 7310 - Qty',\n",
    "    'SMILE ON 60+ Oral Care Encounter - 7311 - Quantity':'Oral Care - 7311 - Qty',\n",
    "    'SMILE ON 60+ Oral Care Encounter - 7320 - Quantity':'Oral Care - 7320 - Qty',\n",
    "    'SMILE ON 60+ Oral Care Encounter - 7321 - Quantity':'Oral Care - 7321 - Qty',\n",
    "    'SMILE ON 60+ Oral Care Encounter - 7410 - Quantity':'Oral Care - 7410 - Qty',\n",
    "    'SMILE ON 60+ Oral Care Encounter - 7411 - Quantity':'Oral Care - 7411 - Qty',\n",
    "    'SMILE ON 60+ Oral Care Encounter - 7471 - Quantity':'Oral Care - 7471 - Qty',\n",
    "    'SMILE ON 60+ Oral Care Encounter - 7510 - Quantity':'Oral Care - 7510 - Qty',\n",
    "    'SMILE ON 60+ Oral Care Encounter - 7971 - Quantity':'Oral Care - 7971 - Qty',\n",
    "    'SMILE ON 60+ Oral Care Encounter - 7972 - Quantity':'Oral Care - 7972 - Qty',\n",
    "    'SMILE ON 60+ Oral Care Encounter - 9110 - Quantity':'Oral Care - 9110 - Qty',\n",
    "    'SMILE ON 60+ Oral Care Encounter - 9951 - Quantity':'Oral Care - 9951 - Qty',\n",
    "    'SMILE ON 60+ Oral Care Encounter - Lab Assist narrative':'Oral Care - Lab Assist narrative',\n",
    "    'SMILE ON 60+ Screening - Last Screening Date':'Last Screening',\n",
    "    'SMILE ON 60+ Verification of Eligibility - Verification Date':'Eligibility Verification Date',\n",
    "    'SMILE ON 60+ Base-line Oral and Conditions Questions - Are you limited in what you can eat?':'Are you limited in what you can eat?',\n",
    "    'SMILE ON 60+ Base-line Oral and Conditions Questions - Dental Clinic':'Dental Clinic',\n",
    "    'SMILE ON 60+ Base-line Oral and Conditions Questions - Did the client commit to referral?':'Did client commit to referral?',\n",
    "    'SMILE ON 60+ Base-line Oral and Conditions Questions - Did you help in these other areas?':'Did you help in these other areas?',\n",
    "    'SMILE ON 60+ Base-line Oral and Conditions Questions - Do you need help in these other areas?':'Do you need help in these other areas?',\n",
    "    'SMILE ON 60+ Base-line Oral and Conditions Questions - Have you ever felt that the appearance of your mouth and teeth affected your quality of life?':'Have you ever felt that the appearance of your mouth and teeth affected your quality of life?',\n",
    "    'SMILE ON 60+ Base-line Oral and Conditions Questions - How would you describe the condition of your mouth and teeth?':'How would you describe the condition of your mouth and teeth?',\n",
    "    'SMILE ON 60+ Base-line Oral and Conditions Questions - What is the next step for client encounter?':'What is the next step for client encounter?',\n",
    "    'SMILE ON 60+ Base-line Oral and Conditions Questions - What is the next step for clients encounter?':'What is the next step for clients encounter?',\n",
    "    'SMILE ON 60+ Case Management Information - Dental Clinic':'Case Mgmt Info - Dental Clinic',\n",
    "    'SMILE ON 60+ Case Management Information - Transportation Barriers':'Transportation Barriers',\n",
    "    'SMILE ON 60+ Case Management Information - What barriers have kept you from finding a consistent dental home? (Select all that apply)':'What barriers have kept you from finding a consistent dental home? (Select all that apply)',\n",
    "    'SMILE ON 60+ Case Management Information - What is the outcome for the client?':'What is the outcome for the client?',\n",
    "    'SMILE ON 60+ Clinic Information - Action: Upload Before Picture on Finish Tab':'Action: Upload Before Picture on Finish Tab',\n",
    "    'SMILE ON 60+ Clinic Information - Is patient of record date if yes last seen?':'Is patient of record date if yes last seen?',\n",
    "    'SMILE ON 60+ Clinic Information - Was initial appointment made?':'Was initial appointment made?',\n",
    "    'SMILE ON 60+ Clinic Information - Was initial transportation assistance or referral provided?':'Was initial transportation assistance or referral provided?',\n",
    "    'SMILE ON 60+ Demographic Information - Gender':'Gender',\n",
    "    'SMILE ON 60+ Demographic Information - Household Income Level':'Household Income',\n",
    "    'SMILE ON 60+ Demographic Information - How did you first hear about the SMILE ON 60+ program?':'How did you first hear about the SMILE ON 60+ program?',\n",
    "    'SMILE ON 60+ Demographic Information - Preferred Language/Language Needed':'Preferred Language/Language Needed',\n",
    "    'SMILE ON 60+ Demographic Information - Race/Ethnicity':'Race/Ethnicity',\n",
    "    'SMILE ON 60+ Demographic Information - What other assistance programs are you on?':'What other assistance programs are you on?',\n",
    "    'SMILE ON 60+ Demographic Information - When is the last time you visited your dentist?':'When is the last time you visited your dentist?',\n",
    "    'SMILE ON 60+ Oral Care Encounter - What care was provided to the enrollee? (Select all that apply)':'What care was provided to the enrollee? (Select all that apply)',\n",
    "    'SMILE ON 60+ Presumptive Eligibility - Dental Insurance?':'Dental Insurance?',\n",
    "    'SMILE ON 60+ Presumptive Eligibility - Do they pre-qualify for SMILE ON 60+?':'Do they pre-qualify for SMILE ON 60+?',\n",
    "    'SMILE ON 60+ Presumptive Eligibility - What is the next step for clients encounter?':'What is the next step for client encounter?',\n",
    "    'SMILE ON 60+ Presumptive Eligibility - What is the next step for clients encounter?':'What is the next step for clients encounter?',\n",
    "    'SMILE ON 60+ Screening - # of Lower Natural Teeth':'Number of Lower Natural Teeth',\n",
    "    'SMILE ON 60+ Screening - # of Upper Natural Teeth':'Number of Upper Natural Teeth',\n",
    "    'SMILE ON 60+ Screening - Do you have removable dentures?':'Do you have removable dentures?',\n",
    "    'SMILE ON 60+ Screening - Do you usually wear your denture(s) when you eat?':'Do you usually wear your denture(s) when you eat?',\n",
    "    'SMILE ON 60+ Screening - Experienced any problems related to mouth/teeth during past 12 months?':'Experienced any problems related to mouth/teeth during past 12 months?',\n",
    "    'SMILE ON 60+ Screening - How often do you brush your teeth?':'How often do you brush your teeth?',\n",
    "    'SMILE ON 60+ Screening - Need for Periodontal Care':'Need for Periodontal Care',\n",
    "    'SMILE ON 60+ Screening - Root Fragments':'Root Fragments',\n",
    "    'SMILE ON 60+ Screening - Suspicious Soft Tissue Lesions':'Suspicious Soft Tissue Lesions',\n",
    "    'SMILE ON 60+ Screening - Treatment Urgency':'Treatment Urgency',\n",
    "    'SMILE ON 60+ Screening - Untreated Decay':'Untreated Decay',\n",
    "    'SMILE ON 60+ Site Information - Enroller ID':'Enroller ID',\n",
    "    'SMILE ON 60+ Site Information - Enroller Location':'Enroller Location',\n",
    "    'SMILE ON 60+ Treatment Plan - Action: Upload After Picture on Finish Tab':'Action: Upload After Picture on Finish Tab',\n",
    "    'SMILE ON 60+ Treatment Plan - Is the treatment plan completed?':'Is the treatment plan completed?',\n",
    "    'SMILE ON 60+ Treatment Plan - Was a treatment plan developed?':'Was a treatment plan developed?',\n",
    "    'SMILE ON 60+ Treatment Plan - Was the enrollee able to be restored to function (can chew) and \"social six\" esthetics (top front six teeth are present and disease free)':'Was enrollee restored to function (can chew) and \"social six\" esthetics (top front six teeth are present and disease free)',\n",
    "    'SMILE ON 60+ Verification of Eligibility - Transportation Arranged':'Transportation Arranged',\n",
    "    'SMILE ON 60+ Verification of Eligibility - Verification of Eligibility':'Eligibility Verification'\n",
    "}, inplace = True)"
   ]
  },
  {
   "cell_type": "code",
   "execution_count": 10,
   "id": "21d4de7a",
   "metadata": {},
   "outputs": [],
   "source": [
    "#smileon_df.head()"
   ]
  },
  {
   "cell_type": "markdown",
   "id": "f5be0b2e",
   "metadata": {},
   "source": [
    "### Prepare columns to be converted to datetime\n",
    "- Check for null values and figure out what to do with them\n",
    "- CallStart, CallEnd, Last Screening, and Eligibility Verification Date columns"
   ]
  },
  {
   "cell_type": "code",
   "execution_count": 11,
   "id": "7b5c8e17",
   "metadata": {},
   "outputs": [],
   "source": [
    "#smileon_df['Birth Year'].isnull().sum()"
   ]
  },
  {
   "cell_type": "markdown",
   "id": "1e0cefe7",
   "metadata": {},
   "source": [
    "### Convert columns to datetime"
   ]
  },
  {
   "cell_type": "code",
   "execution_count": 15,
   "id": "9f9148e5",
   "metadata": {},
   "outputs": [],
   "source": [
    "smileon_df['Birth Year'] = pd.to_datetime(smileon_df['Birth Year'], errors = 'coerce')\n",
    "smileon_df['Last Screening'] = pd.to_datetime(smileon_df['Last Screening'], errors = 'coerce').dt.strftime('%m/%d/%Y')\n",
    "smileon_df['Eligibility Verification Date'] = pd.to_datetime(smileon_df['Eligibility Verification Date'], errors = 'coerce').dt.strftime('%m/%d/%Y')\n",
    "smileon_df[['CallStart', 'CallEnd', 'Last Screening', 'Eligibility Verification Date']] = smileon_df[['CallStart', 'CallEnd', 'Last Screening', 'Eligibility Verification Date']].apply(pd.to_datetime)"
   ]
  },
  {
   "cell_type": "markdown",
   "id": "5160b58f",
   "metadata": {},
   "source": [
    "### Export to .csv"
   ]
  },
  {
   "cell_type": "code",
   "execution_count": 20,
   "id": "acb5fe77",
   "metadata": {},
   "outputs": [],
   "source": [
    "smileon_df.to_csv('../data/Smileon.2021.10.17.CLEAN.csv', index = False)"
   ]
  }
 ],
 "metadata": {
  "kernelspec": {
   "display_name": "Python 3",
   "language": "python",
   "name": "python3"
  },
  "language_info": {
   "codemirror_mode": {
    "name": "ipython",
    "version": 3
   },
   "file_extension": ".py",
   "mimetype": "text/x-python",
   "name": "python",
   "nbconvert_exporter": "python",
   "pygments_lexer": "ipython3",
   "version": "3.8.8"
  }
 },
 "nbformat": 4,
 "nbformat_minor": 5
}
