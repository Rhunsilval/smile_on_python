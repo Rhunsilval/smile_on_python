{
 "cells": [
  {
   "cell_type": "markdown",
   "id": "51aa8d7e",
   "metadata": {},
   "source": [
    "# Smile On 60+ EDA"
   ]
  },
  {
   "cell_type": "markdown",
   "id": "64fdc2ce",
   "metadata": {},
   "source": [
    "### Import modules"
   ]
  },
  {
   "cell_type": "code",
   "execution_count": 17,
   "id": "ffe7a018",
   "metadata": {},
   "outputs": [],
   "source": [
    "import pandas as pd\n",
    "import dtale\n",
    "import matplotlib.pyplot as plt\n",
    "import seaborn as sns\n",
    "%matplotlib inline"
   ]
  },
  {
   "cell_type": "markdown",
   "id": "ec9701d2",
   "metadata": {},
   "source": [
    "### Read in CLEAN .csv"
   ]
  },
  {
   "cell_type": "code",
   "execution_count": 2,
   "id": "f56051b3",
   "metadata": {
    "scrolled": true
   },
   "outputs": [],
   "source": [
    "smileon_df = pd.read_csv('../data/Smileon.2021.10.17.CLEAN.csv')"
   ]
  },
  {
   "cell_type": "markdown",
   "id": "25f1d4ec",
   "metadata": {},
   "source": [
    "### Check DataFrame\n",
    "- Exporting to .csv does not keep custom datatypes"
   ]
  },
  {
   "cell_type": "code",
   "execution_count": 3,
   "id": "80f08168",
   "metadata": {},
   "outputs": [
    {
     "name": "stdout",
     "output_type": "stream",
     "text": [
      "<class 'pandas.core.frame.DataFrame'>\n",
      "RangeIndex: 57791 entries, 0 to 57790\n",
      "Columns: 120 entries, ReportID to Eligibility Verification\n",
      "dtypes: float64(48), int64(5), object(67)\n",
      "memory usage: 52.9+ MB\n"
     ]
    }
   ],
   "source": [
    "# Set it to None to display all columns in the dataframe\n",
    "#pd.set_option('display.max_columns', None)\n",
    "smileon_df.info()\n",
    "#smileon_df.head()"
   ]
  },
  {
   "cell_type": "markdown",
   "id": "bcdc1421",
   "metadata": {},
   "source": [
    "### Convert column datatypes"
   ]
  },
  {
   "cell_type": "code",
   "execution_count": 4,
   "id": "97cb0014",
   "metadata": {},
   "outputs": [],
   "source": [
    "# Convert columns to category\n",
    "smileon_df[[\n",
    "    'City',\n",
    "    'County',\n",
    "    'Reviewed', \n",
    "    'ReferralsMade',\n",
    "    'Are you limited in what you can eat?',\n",
    "    'How would you describe the condition of your mouth and teeth?',\n",
    "    'What is the outcome for the client?',\n",
    "    'Gender', \n",
    "    'Household Income', \n",
    "    'Race/Ethnicity', \n",
    "    'When is the last time you visited your dentist?',\n",
    "    'Is the treatment plan completed?',\n",
    "    'Was enrollee restored to function (can chew) and \"social six\" esthetics (top front six teeth are present and disease free)'\n",
    "]] = smileon_df[[\n",
    "    'City',\n",
    "    'County',\n",
    "    'Reviewed',\n",
    "    'ReferralsMade',\n",
    "    'Are you limited in what you can eat?',\n",
    "    'How would you describe the condition of your mouth and teeth?',\n",
    "    'What is the outcome for the client?',\n",
    "    'Gender', \n",
    "    'Household Income',\n",
    "    'Race/Ethnicity',\n",
    "    'When is the last time you visited your dentist?',\n",
    "    'Is the treatment plan completed?',\n",
    "    'Was enrollee restored to function (can chew) and \"social six\" esthetics (top front six teeth are present and disease free)'\n",
    "]].apply(pd.Categorical)"
   ]
  },
  {
   "cell_type": "markdown",
   "id": "f6c5f6e6",
   "metadata": {},
   "source": [
    "#### Prepare columns to be converted to datetime\n",
    "- Check for null values and figure out what to do with them\n",
    "- CallStart, CallEnd, Last Screening, and Eligibility Verification Date columns"
   ]
  },
  {
   "cell_type": "code",
   "execution_count": 5,
   "id": "fbc15d9f",
   "metadata": {},
   "outputs": [],
   "source": [
    "#smileon_df['Last Screening'].isnull().sum()"
   ]
  },
  {
   "cell_type": "code",
   "execution_count": 6,
   "id": "ac42344f",
   "metadata": {},
   "outputs": [],
   "source": [
    "# Convert columns to datetime\n",
    "smileon_df['Last Screening'] = pd.to_datetime(\n",
    "    smileon_df['Last Screening'], \n",
    "    errors = 'coerce'\n",
    ").dt.strftime('%m/%d/%Y')\n",
    "\n",
    "smileon_df['Eligibility Verification Date'] = pd.to_datetime(\n",
    "    smileon_df['Eligibility Verification Date'], \n",
    "    errors = 'coerce'\n",
    ").dt.strftime('%m/%d/%Y')\n",
    "\n",
    "smileon_df[[\n",
    "    'CallStart', \n",
    "    'CallEnd', \n",
    "    'Last Screening', \n",
    "    'Eligibility Verification Date'\n",
    "]] = smileon_df[[\n",
    "    'CallStart', \n",
    "    'CallEnd', \n",
    "    'Last Screening', \n",
    "    'Eligibility Verification Date'\n",
    "]].apply(pd.to_datetime)"
   ]
  },
  {
   "cell_type": "markdown",
   "id": "305c80d6",
   "metadata": {},
   "source": [
    "### Exploring smileon_df with dtale"
   ]
  },
  {
   "cell_type": "code",
   "execution_count": 7,
   "id": "807293f6",
   "metadata": {
    "scrolled": false
   },
   "outputs": [],
   "source": [
    "#d = dtale.show(smileon_df)\n",
    "# Open it in a new window in browser\n",
    "#d.open_browser()"
   ]
  },
  {
   "cell_type": "markdown",
   "id": "21689ada",
   "metadata": {},
   "source": [
    "### Create DataFrame with PatientID and Birth Year"
   ]
  },
  {
   "cell_type": "code",
   "execution_count": 14,
   "id": "08981ea8",
   "metadata": {},
   "outputs": [
    {
     "data": {
      "text/plain": [
       "10603"
      ]
     },
     "execution_count": 14,
     "metadata": {},
     "output_type": "execute_result"
    }
   ],
   "source": [
    "#smileon_df.head()\n",
    "patient_age_df = smileon_df[[\n",
    "    'PatientID', \n",
    "    'Birth Year'\n",
    "]].copy()\n",
    "\n",
    "patient_age_df['PatientID'].nunique()\n",
    "#patient_age_df.head()"
   ]
  },
  {
   "cell_type": "markdown",
   "id": "3473208a",
   "metadata": {},
   "source": [
    "### Clean Birth Year & PatientID columns for Age analysis"
   ]
  },
  {
   "cell_type": "code",
   "execution_count": 10,
   "id": "005e1463",
   "metadata": {},
   "outputs": [],
   "source": [
    "# Grab index names for .drop() method\n",
    "indexNames = patient_age_df[\n",
    "    (smileon_df['Birth Year'] == '2298') | \n",
    "    (smileon_df['Birth Year'] == '5245') |\n",
    "    (smileon_df['Birth Year'] == '#VALUE!') |\n",
    "    (smileon_df['Birth Year'] == '#NUM!') |\n",
    "    (smileon_df['Birth Year'] == '1900') |\n",
    "    (smileon_df['Birth Year'] == '2018') |\n",
    "    (smileon_df['Birth Year'] == '2019') |\n",
    "    (smileon_df['Birth Year'] == '2020') |\n",
    "    (smileon_df['Birth Year'] == '2021') |\n",
    "    (smileon_df['Birth Year'] == 1900) |\n",
    "    (smileon_df['Birth Year'] == 2018) |\n",
    "    (smileon_df['Birth Year'] == 2019) |\n",
    "    (smileon_df['Birth Year'] == 2020) |\n",
    "    (smileon_df['Birth Year'] == 2021) |\n",
    "    (smileon_df['Birth Year'] == 2041) |\n",
    "    (smileon_df['Birth Year'] == 2354)\n",
    "].index\n",
    "\n",
    "# Drop invalid Birth Years\n",
    "patient_age_df.drop(indexNames, inplace=True)\n",
    "\n",
    "# Drop duplicate PatientIDs\n",
    "patient_age_df.drop_duplicates(subset = ['PatientID'], inplace = True)"
   ]
  },
  {
   "cell_type": "markdown",
   "id": "ad75e699",
   "metadata": {},
   "source": [
    "### Calculate age of patients and add to new column"
   ]
  },
  {
   "cell_type": "code",
   "execution_count": 11,
   "id": "e56b6d76",
   "metadata": {
    "scrolled": true
   },
   "outputs": [],
   "source": [
    "patient_age_df['Birth Year'] = patient_age_df['Birth Year'].astype('int')\n",
    "assert patient_age_df['Birth Year'].dtypes == 'int32'\n",
    "patient_age_df['Age'] = 2021 - patient_age_df['Birth Year']\n",
    "#patient_age_df['Age'].dtypes\n",
    "#patient_age_df['Age']"
   ]
  },
  {
   "cell_type": "markdown",
   "id": "1806e3bd",
   "metadata": {},
   "source": [
    "### Convert PatientID to object and drop Birth Year column"
   ]
  },
  {
   "cell_type": "code",
   "execution_count": 12,
   "id": "84a67e24",
   "metadata": {},
   "outputs": [],
   "source": [
    "patient_age_df['PatientID'] = patient_age_df['PatientID'].astype('object')\n",
    "assert patient_age_df['PatientID'].dtypes == 'object'\n",
    "patient_age_df.drop(columns = ['Birth Year'], inplace = True)\n",
    "#patient_age_df.describe()"
   ]
  },
  {
   "cell_type": "markdown",
   "id": "3da2824d",
   "metadata": {},
   "source": [
    "### Explorting patient_age_df with dtale"
   ]
  },
  {
   "cell_type": "code",
   "execution_count": 13,
   "id": "a1eae844",
   "metadata": {
    "scrolled": true
   },
   "outputs": [],
   "source": [
    "d = dtale.show(patient_age_df)\n",
    "# Open it in a new window in browser\n",
    "d.open_browser()"
   ]
  },
  {
   "cell_type": "markdown",
   "id": "b215bef7",
   "metadata": {},
   "source": [
    "### Visualize Age data"
   ]
  },
  {
   "cell_type": "code",
   "execution_count": 19,
   "id": "de861855",
   "metadata": {
    "scrolled": true
   },
   "outputs": [
    {
     "data": {
      "text/plain": [
       "<AxesSubplot:xlabel='Age', ylabel='Count'>"
      ]
     },
     "execution_count": 19,
     "metadata": {},
     "output_type": "execute_result"
    },
    {
     "data": {
      "image/png": "[encoded data removed]",
      "text/plain": [
       "<Figure size 432x288 with 1 Axes>"
      ]
     },
     "metadata": {
      "needs_background": "light"
     },
     "output_type": "display_data"
    }
   ],
   "source": [
    "sns.histplot(\n",
    "    patient_age_df['Age']\n",
    ")"
   ]
  }
 ],
 "metadata": {
  "kernelspec": {
   "display_name": "Python 3",
   "language": "python",
   "name": "python3"
  },
  "language_info": {
   "codemirror_mode": {
    "name": "ipython",
    "version": 3
   },
   "file_extension": ".py",
   "mimetype": "text/x-python",
   "name": "python",
   "nbconvert_exporter": "python",
   "pygments_lexer": "ipython3",
   "version": "3.8.8"
  }
 },
 "nbformat": 4,
 "nbformat_minor": 5
}
