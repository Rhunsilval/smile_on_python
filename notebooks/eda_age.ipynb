{
 "cells": [
  {
   "cell_type": "markdown",
   "id": "51aa8d7e",
   "metadata": {},
   "source": [
    "# Smile On 60+ - Age - EDA"
   ]
  },
  {
   "cell_type": "markdown",
   "id": "64fdc2ce",
   "metadata": {},
   "source": [
    "### Import modules"
   ]
  },
  {
   "cell_type": "code",
   "execution_count": 2,
   "id": "ffe7a018",
   "metadata": {},
   "outputs": [],
   "source": [
    "import pandas as pd\n",
    "import dtale\n",
    "import matplotlib.pyplot as plt\n",
    "%matplotlib inline\n",
    "import seaborn as sns\n",
    "sns.set(rc={\"figure.figsize\":(13, 8)},font_scale=1.4, style='darkgrid')"
   ]
  },
  {
   "cell_type": "markdown",
   "id": "ec9701d2",
   "metadata": {},
   "source": [
    "### Read in CLEAN .csv"
   ]
  },
  {
   "cell_type": "code",
   "execution_count": 3,
   "id": "f56051b3",
   "metadata": {
    "scrolled": true
   },
   "outputs": [],
   "source": [
    "smileon_df = pd.read_csv('../data/Smileon.2021.10.17.CLEAN.csv')"
   ]
  },
  {
   "cell_type": "markdown",
   "id": "25f1d4ec",
   "metadata": {},
   "source": [
    "### Check DataFrame\n",
    "- Exporting to .csv does not keep custom datatypes"
   ]
  },
  {
   "cell_type": "code",
   "execution_count": 4,
   "id": "80f08168",
   "metadata": {},
   "outputs": [
    {
     "name": "stdout",
     "output_type": "stream",
     "text": [
      "<class 'pandas.core.frame.DataFrame'>\n",
      "RangeIndex: 57791 entries, 0 to 57790\n",
      "Columns: 120 entries, ReportID to Eligibility Verification\n",
      "dtypes: float64(48), int64(5), object(67)\n",
      "memory usage: 52.9+ MB\n"
     ]
    }
   ],
   "source": [
    "# Set it to None to display all columns in the dataframe\n",
    "#pd.set_option('display.max_columns', None)\n",
    "smileon_df.info()\n",
    "#smileon_df.head()"
   ]
  },
  {
   "cell_type": "markdown",
   "id": "bcdc1421",
   "metadata": {},
   "source": [
    "### Convert column datatypes"
   ]
  },
  {
   "cell_type": "code",
   "execution_count": 5,
   "id": "97cb0014",
   "metadata": {},
   "outputs": [],
   "source": [
    "# Convert columns to category\n",
    "smileon_df[[\n",
    "    'City',\n",
    "    'County',\n",
    "    'Reviewed', \n",
    "    'ReferralsMade',\n",
    "    'Are you limited in what you can eat?',\n",
    "    'QofL affected by dental condition?',\n",
    "    'Dental condition?',\n",
    "    'What is the outcome for the client?',\n",
    "    'Gender', \n",
    "    'Household Income', \n",
    "    'Race/Ethnicity', \n",
    "    'When is the last time you visited your dentist?',\n",
    "    'Is the treatment plan completed?',\n",
    "    'Was enrollee restored to function (can chew) and \"social six\" esthetics (top front six teeth are present and disease free)'\n",
    "]] = smileon_df[[\n",
    "    'City',\n",
    "    'County',\n",
    "    'Reviewed', \n",
    "    'ReferralsMade',\n",
    "    'Are you limited in what you can eat?',\n",
    "    'QofL affected by dental condition?',\n",
    "    'Dental condition?',\n",
    "    'What is the outcome for the client?',\n",
    "    'Gender', \n",
    "    'Household Income', \n",
    "    'Race/Ethnicity', \n",
    "    'When is the last time you visited your dentist?',\n",
    "    'Is the treatment plan completed?',\n",
    "    'Was enrollee restored to function (can chew) and \"social six\" esthetics (top front six teeth are present and disease free)'\n",
    "]].apply(pd.Categorical)"
   ]
  },
  {
   "cell_type": "markdown",
   "id": "f6c5f6e6",
   "metadata": {},
   "source": [
    "#### Prepare columns to be converted to datetime\n",
    "- Check for null values and figure out what to do with them\n",
    "- CallStart, CallEnd, Last Screening, and Eligibility Verification Date columns"
   ]
  },
  {
   "cell_type": "code",
   "execution_count": 6,
   "id": "fbc15d9f",
   "metadata": {},
   "outputs": [],
   "source": [
    "#smileon_df['Last Screening'].isnull().sum()"
   ]
  },
  {
   "cell_type": "code",
   "execution_count": 7,
   "id": "ac42344f",
   "metadata": {},
   "outputs": [],
   "source": [
    "# Convert columns to datetime\n",
    "smileon_df['Last Screening'] = pd.to_datetime(\n",
    "    smileon_df['Last Screening'], \n",
    "    errors = 'coerce'\n",
    ").dt.strftime('%m/%d/%Y')\n",
    "\n",
    "smileon_df['Eligibility Verification Date'] = pd.to_datetime(\n",
    "    smileon_df['Eligibility Verification Date'], \n",
    "    errors = 'coerce'\n",
    ").dt.strftime('%m/%d/%Y')\n",
    "\n",
    "smileon_df[[\n",
    "    'CallStart', \n",
    "    'CallEnd', \n",
    "    'Last Screening', \n",
    "    'Eligibility Verification Date'\n",
    "]] = smileon_df[[\n",
    "    'CallStart', \n",
    "    'CallEnd', \n",
    "    'Last Screening', \n",
    "    'Eligibility Verification Date'\n",
    "]].apply(pd.to_datetime)"
   ]
  },
  {
   "cell_type": "markdown",
   "id": "305c80d6",
   "metadata": {},
   "source": [
    "### Exploring smileon_df with dtale"
   ]
  },
  {
   "cell_type": "code",
   "execution_count": 8,
   "id": "807293f6",
   "metadata": {
    "scrolled": false
   },
   "outputs": [],
   "source": [
    "#d = dtale.show(smileon_df)\n",
    "# Open it in a new window in browser\n",
    "#d.open_browser()"
   ]
  },
  {
   "cell_type": "markdown",
   "id": "42267658",
   "metadata": {},
   "source": [
    "### Create DataFrame with PatientID and Birth Year\n",
    "- 10,709 total patients"
   ]
  },
  {
   "cell_type": "code",
   "execution_count": 9,
   "id": "04e0fbab",
   "metadata": {},
   "outputs": [],
   "source": [
    "#smileon_df.head()\n",
    "patient_age_df = smileon_df[[\n",
    "    'PatientID',\n",
    "    'Birth Year',\n",
    "    'Gender'\n",
    "]].copy()\n",
    "\n",
    "patient_cnt = patient_age_df['PatientID'].nunique()\n",
    "#print(patient_cnt)\n",
    "#patient_age_df.head()"
   ]
  },
  {
   "cell_type": "markdown",
   "id": "ebd21295",
   "metadata": {},
   "source": [
    "### Clean Birth Year & PatientID columns for Age analysis"
   ]
  },
  {
   "cell_type": "code",
   "execution_count": 10,
   "id": "d3fa355b",
   "metadata": {},
   "outputs": [],
   "source": [
    "# Grab index names for .drop() method\n",
    "indexNames = patient_age_df[\n",
    "    (smileon_df['Birth Year'] == '2298') | \n",
    "    (smileon_df['Birth Year'] == '5245') |\n",
    "    (smileon_df['Birth Year'] == '#VALUE!') |\n",
    "    (smileon_df['Birth Year'] == '#NUM!') |\n",
    "    (smileon_df['Birth Year'] == '1900') |\n",
    "    (smileon_df['Birth Year'] == '2018') |\n",
    "    (smileon_df['Birth Year'] == '2019') |\n",
    "    (smileon_df['Birth Year'] == '2020') |\n",
    "    (smileon_df['Birth Year'] == '2021') |\n",
    "    (smileon_df['Birth Year'] == 1900) |\n",
    "    (smileon_df['Birth Year'] == 2018) |\n",
    "    (smileon_df['Birth Year'] == 2019) |\n",
    "    (smileon_df['Birth Year'] == 2020) |\n",
    "    (smileon_df['Birth Year'] == 2021) |\n",
    "    (smileon_df['Birth Year'] == 2041) |\n",
    "    (smileon_df['Birth Year'] == 2354)\n",
    "].index\n",
    "\n",
    "# Drop invalid Birth Years\n",
    "patient_age_df.drop(indexNames, inplace=True)\n",
    "\n",
    "# Drop duplicate PatientIDs\n",
    "patient_age_df.drop_duplicates(subset = ['PatientID'], inplace = True)"
   ]
  },
  {
   "cell_type": "markdown",
   "id": "ad75e699",
   "metadata": {},
   "source": [
    "### Calculate age of patients and add to new column"
   ]
  },
  {
   "cell_type": "code",
   "execution_count": 11,
   "id": "e56b6d76",
   "metadata": {
    "scrolled": true
   },
   "outputs": [],
   "source": [
    "patient_age_df['Birth Year'] = patient_age_df['Birth Year'].astype('int')\n",
    "assert patient_age_df['Birth Year'].dtypes == 'int32'\n",
    "patient_age_df['Age'] = 2021 - patient_age_df['Birth Year']\n",
    "#patient_age_df['Age'].dtypes\n",
    "#patient_age_df['Age']"
   ]
  },
  {
   "cell_type": "markdown",
   "id": "1806e3bd",
   "metadata": {},
   "source": [
    "### Convert PatientID to object and drop Birth Year column"
   ]
  },
  {
   "cell_type": "code",
   "execution_count": 12,
   "id": "84a67e24",
   "metadata": {},
   "outputs": [],
   "source": [
    "patient_age_df['PatientID'] = patient_age_df['PatientID'].astype('object')\n",
    "assert patient_age_df['PatientID'].dtypes == 'object'\n",
    "patient_age_df.drop(columns = ['Birth Year'], inplace = True)\n",
    "#patient_age_df.describe()"
   ]
  },
  {
   "cell_type": "markdown",
   "id": "2cfc3e7b",
   "metadata": {},
   "source": [
    "### Explorting patient_age_df with dtale"
   ]
  },
  {
   "cell_type": "code",
   "execution_count": 13,
   "id": "a1eae844",
   "metadata": {
    "scrolled": true
   },
   "outputs": [],
   "source": [
    "d = dtale.show(patient_age_df)\n",
    "# Open it in a new window in browser\n",
    "d.open_browser()"
   ]
  },
  {
   "cell_type": "markdown",
   "id": "dd8ecf77",
   "metadata": {},
   "source": [
    "### Exploring Age statistics\n",
    "- Avg Age: 70\n",
    "- Min Age: 27\n",
    "- Median: 68\n",
    "- Max Age: 103\n",
    "- 25% Quartile: 64\n",
    "- 75% Quartile: 74\n"
   ]
  },
  {
   "cell_type": "code",
   "execution_count": 14,
   "id": "d9004d96",
   "metadata": {},
   "outputs": [
    {
     "data": {
      "text/plain": [
       "count    10603.000000\n",
       "mean        69.811846\n",
       "std          7.756442\n",
       "min         27.000000\n",
       "25%         64.000000\n",
       "50%         68.000000\n",
       "75%         74.000000\n",
       "max        103.000000\n",
       "Name: Age, dtype: float64"
      ]
     },
     "execution_count": 14,
     "metadata": {},
     "output_type": "execute_result"
    }
   ],
   "source": [
    "patient_age_df['Age'].describe()"
   ]
  },
  {
   "cell_type": "markdown",
   "id": "815df899",
   "metadata": {},
   "source": [
    "### Exploring Gender statistics\n",
    "- Female: 6,708 or 62.6%\n",
    "- Male: 3,798 or 35.5%\n",
    "- Transgender: 1\n",
    "- Other: 1"
   ]
  },
  {
   "cell_type": "code",
   "execution_count": 15,
   "id": "24906ec0",
   "metadata": {},
   "outputs": [
    {
     "data": {
      "text/plain": [
       "Female         6708\n",
       "Male           3798\n",
       "Other             1\n",
       "Transgender       1\n",
       "Name: Gender, dtype: int64"
      ]
     },
     "execution_count": 15,
     "metadata": {},
     "output_type": "execute_result"
    }
   ],
   "source": [
    "female_cnt = patient_age_df['Gender'].eq('Female').sum()\n",
    "male_cnt = patient_age_df['Gender'].eq('Male').sum()\n",
    "#print(female_cnt, male_cnt)\n",
    "patient_age_df['Gender'].value_counts()"
   ]
  },
  {
   "cell_type": "markdown",
   "id": "98fc5d0b",
   "metadata": {},
   "source": [
    "#### Exploring Female statistics\n",
    "- Count: 6,708\n",
    "    - 8.5% are 64 years old\n",
    "- Avg Age: 70\n",
    "- Min Age: 46\n",
    "- Median: 68\n",
    "- Max Age: 103\n",
    "- 25% Quartile: 64\n",
    "    - 571 people are age 64\n",
    "- 75% Quartile: 75\n",
    "    - 157 people are age 75"
   ]
  },
  {
   "cell_type": "code",
   "execution_count": 23,
   "id": "03a4accf",
   "metadata": {
    "scrolled": true
   },
   "outputs": [],
   "source": [
    "#patient_age_df[patient_age_df['Gender'] == 'Female']['Age'].describe()\n",
    "#patient_age_df[patient_age_df['Gender'] == 'Female']['Age'].value_counts(normalize = True)"
   ]
  },
  {
   "cell_type": "markdown",
   "id": "8f7e894c",
   "metadata": {},
   "source": [
    "#### Exploring Male statistics\n",
    "- Count: 3,798\n",
    "    - 8.8% are 65 years old\n",
    "- Avg Age: 69\n",
    "- Min Age: 27\n",
    "- Median: 67\n",
    "- Max Age: 100\n",
    "- 25% Quartile: 64\n",
    "    - 327 people are age 64\n",
    "- 75% Quartile: 73\n",
    "    - 126 people are age 73"
   ]
  },
  {
   "cell_type": "code",
   "execution_count": 17,
   "id": "aa1cda5e",
   "metadata": {
    "scrolled": false
   },
   "outputs": [],
   "source": [
    "#patient_age_df[patient_age_df['Gender'] == 'Male']['Age'].describe()\n",
    "#patient_age_df[patient_age_df['Gender'] == 'Male']['Age'].value_counts(normalize = True)"
   ]
  },
  {
   "cell_type": "markdown",
   "id": "0c3f8c11",
   "metadata": {},
   "source": [
    "#### There are 62.6% female and 35.5% male in this dataset."
   ]
  },
  {
   "cell_type": "code",
   "execution_count": 18,
   "id": "3ef68e83",
   "metadata": {},
   "outputs": [],
   "source": [
    "female_pct = female_cnt/patient_cnt * 100\n",
    "male_pct = male_cnt/patient_cnt * 100\n",
    "#print(f\"There are {female_pct:.1f}% female and {male_pct:.1f}% male in this dataset.\")"
   ]
  },
  {
   "cell_type": "markdown",
   "id": "f72f21dc",
   "metadata": {},
   "source": [
    "### Visualize Age data"
   ]
  },
  {
   "cell_type": "code",
   "execution_count": 19,
   "id": "42f3035b",
   "metadata": {
    "scrolled": false
   },
   "outputs": [
    {
     "data": {
      "text/plain": [
       "[Text(0.5, 1.0, 'Age Probability of Patients')]"
      ]
     },
     "execution_count": 19,
     "metadata": {},
     "output_type": "execute_result"
    },
    {
     "data": {
      "image/png": "[encoded data removed]",
      "text/plain": [
       "<Figure size 936x576 with 1 Axes>"
      ]
     },
     "metadata": {},
     "output_type": "display_data"
    }
   ],
   "source": [
    "sns.histplot(\n",
    "    data = patient_age_df,\n",
    "    x = 'Age',\n",
    "    stat = 'probability',\n",
    "    discrete = True,\n",
    "    binrange = (22, 105),\n",
    "    color = 'lightblue'\n",
    ").set(title='Age Probability of Patients')"
   ]
  },
  {
   "cell_type": "markdown",
   "id": "b3427b17",
   "metadata": {},
   "source": [
    "### Visualize Age & Gender data"
   ]
  },
  {
   "cell_type": "code",
   "execution_count": 20,
   "id": "3cbed112",
   "metadata": {
    "scrolled": false
   },
   "outputs": [
    {
     "data": {
      "text/plain": [
       "[Text(0.5, 1.0, 'Age Distribution between Genders')]"
      ]
     },
     "execution_count": 20,
     "metadata": {},
     "output_type": "execute_result"
    },
    {
     "data": {
      "image/png": "[encoded data removed]",
      "text/plain": [
       "<Figure size 936x576 with 1 Axes>"
      ]
     },
     "metadata": {},
     "output_type": "display_data"
    }
   ],
   "source": [
    "sns.violinplot(\n",
    "    data = patient_age_df,\n",
    "    y = 'Age',\n",
    "    x = 'Gender'\n",
    ").set(title='Age Distribution between Genders')"
   ]
  }
 ],
 "metadata": {
  "kernelspec": {
   "display_name": "Python 3",
   "language": "python",
   "name": "python3"
  },
  "language_info": {
   "codemirror_mode": {
    "name": "ipython",
    "version": 3
   },
   "file_extension": ".py",
   "mimetype": "text/x-python",
   "name": "python",
   "nbconvert_exporter": "python",
   "pygments_lexer": "ipython3",
   "version": "3.8.8"
  }
 },
 "nbformat": 4,
 "nbformat_minor": 5
}
