{
 "cells": [
  {
   "cell_type": "code",
   "execution_count": 1,
   "id": "20cf6884",
   "metadata": {},
   "outputs": [],
   "source": [
    "import pandas as pd\n",
    "import numpy as np\n",
    "import matplotlib.pyplot as plt\n",
    "import plotly.graph_objs as go\n",
    "from functools import reduce\n",
    "from datetime import date\n",
    "from datetime import datetime\n",
    "from dtale.views import startup\n",
    "import dtale"
   ]
  },
  {
   "cell_type": "code",
   "execution_count": 2,
   "id": "0b363f4a",
   "metadata": {},
   "outputs": [
    {
     "data": {
      "text/plain": [
       "(57860, 184)"
      ]
     },
     "execution_count": 2,
     "metadata": {},
     "output_type": "execute_result"
    }
   ],
   "source": [
    "dental = pd.read_csv('../data/Smileon.2021.10.17.csv', encoding = \"latin-1\", skiprows=2)\n",
    "dental.shape"
   ]
  },
  {
   "cell_type": "code",
   "execution_count": 32,
   "id": "984f28cf",
   "metadata": {},
   "outputs": [
    {
     "name": "stdout",
     "output_type": "stream",
     "text": [
      "<class 'pandas.core.frame.DataFrame'>\n",
      "Int64Index: 10711 entries, 0 to 10710\n",
      "Columns: 118 entries, CallReportNum to SMILE_ON_60+_Verification_of_Eligibility_-_Verification_of_Eligibility\n",
      "dtypes: float64(38), int64(6), object(74)\n",
      "memory usage: 9.7+ MB\n"
     ]
    }
   ],
   "source": [
    "dental.info()"
   ]
  },
  {
   "cell_type": "code",
   "execution_count": 4,
   "id": "03a8bd7a",
   "metadata": {},
   "outputs": [],
   "source": [
    "#replace spaces with underscores to be able to read  column names\n",
    "dental.columns = dental.columns.str.replace(' ','_')"
   ]
  },
  {
   "cell_type": "code",
   "execution_count": 5,
   "id": "8f23ecfd",
   "metadata": {},
   "outputs": [],
   "source": [
    "#rename columns\n",
    "dental = dental.rename(columns={'CallerNum': 'Patient'})\n",
    "dental = dental.rename(columns={'SMILE_ON_60+_Demographic_Information_-_Household_Income_Level': 'Household_Income_Level'})\n",
    "dental = dental.rename(columns={'SMILE_ON_60+_Demographic_Information_-_Gender': 'Gender'})\n",
    "dental = dental.rename(columns={'SMILE_ON_60+_Demographic_Information_-_Preferred_Language/Language_Needed': 'Language'})\n",
    "dental = dental.rename(columns={'SMILE_ON_60+_Demographic_Information_-_Race/Ethnicity': 'Race_Ethnicity'})\n",
    "dental = dental.rename(columns={'SMILE_ON_60+_Demographic_Information_-_#_of_People_in_Household': 'People_in_Household'})\n",
    "dental = dental.rename(columns={'SMILE_ON_60+_Demographic_Information_-_Other_Language': 'Other_Language'})\n",
    "dental = dental.rename(columns={'SMILE_ON_60+_Demographic_Information_-_What_other_assistance_programs_are_you_on?': 'What_other_assistance_programs_are_you_on?'})\n",
    "s = dental[~pd.isnull(dental['Language'])]['Language']"
   ]
  },
  {
   "cell_type": "code",
   "execution_count": 6,
   "id": "24b5adbc",
   "metadata": {},
   "outputs": [],
   "source": [
    "dental = dental.rename(columns={'SMILE_ON_60+_Demographic_Information_-_#_of_People_in_Household': 'People_in_Household'})\n",
    "dental = dental.rename(columns={'SMILE_ON_60+_Demographic_Information_-_Other_Language': 'Other_Language'})"
   ]
  },
  {
   "cell_type": "code",
   "execution_count": 7,
   "id": "0127f531",
   "metadata": {},
   "outputs": [
    {
     "data": {
      "text/plain": [
       "['CallReportNum',\n",
       " 'ReportVersion',\n",
       " 'LinkedToCallReportNum',\n",
       " 'CallDateAndTimeStart',\n",
       " 'CallDateAndTimeEnd',\n",
       " 'CallLength',\n",
       " 'Patient',\n",
       " 'PhoneWorkerNum',\n",
       " 'WasRealCall',\n",
       " 'WasHangup',\n",
       " 'WasSexCall',\n",
       " 'WasWrongNumber',\n",
       " 'WasPrankCall',\n",
       " 'WasSilentCall',\n",
       " 'GeoCode',\n",
       " 'GeoAssignment',\n",
       " 'CityName',\n",
       " 'CountyName',\n",
       " 'StateProvince',\n",
       " 'CountryName',\n",
       " 'PostalCode',\n",
       " 'CensusDivision',\n",
       " 'CensusTrack',\n",
       " 'CensusReportingArea',\n",
       " '211Region',\n",
       " 'PhoneType',\n",
       " 'ThirdPartyName',\n",
       " 'ThirdPartyOrganization',\n",
       " 'ThirdPartyPhoneNumber',\n",
       " 'ThirdPartyAddress',\n",
       " 'ThirdPartyCity',\n",
       " 'ThirdPartyCounty',\n",
       " 'ThirdPartyStateProvince',\n",
       " 'ThirdPartyPostalCode',\n",
       " 'Narrative',\n",
       " 'VolunteerComments',\n",
       " 'Feedback',\n",
       " 'CallersFeedback',\n",
       " 'TextField2',\n",
       " 'TextField3',\n",
       " 'TextField4',\n",
       " 'TextField5',\n",
       " 'TextField6',\n",
       " 'TextField7',\n",
       " 'TextField8',\n",
       " 'TextField9',\n",
       " 'TextField10',\n",
       " 'EnteredByWorkerNum',\n",
       " 'EnteredOn',\n",
       " 'Supervisor',\n",
       " 'Reviewed',\n",
       " 'FeedbackStatus',\n",
       " 'FeedbackFromPhoneWorkerNum',\n",
       " 'FeedbackFromPhoneWorkerName',\n",
       " 'ReferralsMade',\n",
       " 'IPAddress',\n",
       " 'OrgNum',\n",
       " 'VolIdentifier',\n",
       " 'People_in_Household',\n",
       " 'Birth_Year',\n",
       " 'Other_Language',\n",
       " 'SMILE_ON_60+_Notes_(Optional)_-_Notes',\n",
       " 'SMILE_ON_60+_Oral_Care_Encounter_-_1351_-_Quantity',\n",
       " 'SMILE_ON_60+_Oral_Care_Encounter_-_1354_-_Quantity',\n",
       " 'SMILE_ON_60+_Oral_Care_Encounter_-_2140_-_Quantity',\n",
       " 'SMILE_ON_60+_Oral_Care_Encounter_-_2150_-_Quantity',\n",
       " 'SMILE_ON_60+_Oral_Care_Encounter_-_2160_-_Quantity',\n",
       " 'SMILE_ON_60+_Oral_Care_Encounter_-_2161_-_Quantity',\n",
       " 'SMILE_ON_60+_Oral_Care_Encounter_-_220_-_Quantity',\n",
       " 'SMILE_ON_60+_Oral_Care_Encounter_-_230_-_Quantity',\n",
       " 'SMILE_ON_60+_Oral_Care_Encounter_-_2330_-_Quantity',\n",
       " 'SMILE_ON_60+_Oral_Care_Encounter_-_2331_-_Quantity',\n",
       " 'SMILE_ON_60+_Oral_Care_Encounter_-_2332_-_Quantity',\n",
       " 'SMILE_ON_60+_Oral_Care_Encounter_-_2335_-_Quantity',\n",
       " 'SMILE_ON_60+_Oral_Care_Encounter_-_2390_-_Quantity',\n",
       " 'SMILE_ON_60+_Oral_Care_Encounter_-_2391_-_Quantity',\n",
       " 'SMILE_ON_60+_Oral_Care_Encounter_-_2392_-_Quantity',\n",
       " 'SMILE_ON_60+_Oral_Care_Encounter_-_2393_-_Quantity',\n",
       " 'SMILE_ON_60+_Oral_Care_Encounter_-_2394_-_Quantity',\n",
       " 'SMILE_ON_60+_Oral_Care_Encounter_-_2915_-_Quantity',\n",
       " 'SMILE_ON_60+_Oral_Care_Encounter_-_2920_-_Quantity',\n",
       " 'SMILE_ON_60+_Oral_Care_Encounter_-_2933_-_Quantity',\n",
       " 'SMILE_ON_60+_Oral_Care_Encounter_-_2940_-_Quantity',\n",
       " 'SMILE_ON_60+_Oral_Care_Encounter_-_2950_-_Quantity',\n",
       " 'SMILE_ON_60+_Oral_Care_Encounter_-_2954_-_Quantity',\n",
       " 'SMILE_ON_60+_Oral_Care_Encounter_-_2955_-_Quantity',\n",
       " 'SMILE_ON_60+_Oral_Care_Encounter_-_2980_-_Quantity',\n",
       " 'SMILE_ON_60+_Oral_Care_Encounter_-_3220_-_Quantity',\n",
       " 'SMILE_ON_60+_Oral_Care_Encounter_-_4341_-_Quantity',\n",
       " 'SMILE_ON_60+_Oral_Care_Encounter_-_4342_-_Quantity',\n",
       " 'SMILE_ON_60+_Oral_Care_Encounter_-_6930_-_Quantity',\n",
       " 'SMILE_ON_60+_Oral_Care_Encounter_-_6980_-_Quantity',\n",
       " 'SMILE_ON_60+_Oral_Care_Encounter_-_7111_-_Quantity',\n",
       " 'SMILE_ON_60+_Oral_Care_Encounter_-_7140_-_Quantity',\n",
       " 'SMILE_ON_60+_Oral_Care_Encounter_-_7210_-_Quantity',\n",
       " 'SMILE_ON_60+_Oral_Care_Encounter_-_7220_-_Quantity',\n",
       " 'SMILE_ON_60+_Oral_Care_Encounter_-_7230_-_Quantity',\n",
       " 'SMILE_ON_60+_Oral_Care_Encounter_-_7240_-_Quantity',\n",
       " 'SMILE_ON_60+_Oral_Care_Encounter_-_7241_-_Quantity',\n",
       " 'SMILE_ON_60+_Oral_Care_Encounter_-_7250_-_Quantity',\n",
       " 'SMILE_ON_60+_Oral_Care_Encounter_-_7261_-_Quantity',\n",
       " 'SMILE_ON_60+_Oral_Care_Encounter_-_7285_-_Quantity',\n",
       " 'SMILE_ON_60+_Oral_Care_Encounter_-_7286_-_Quantity',\n",
       " 'SMILE_ON_60+_Oral_Care_Encounter_-_7310_-_Quantity',\n",
       " 'SMILE_ON_60+_Oral_Care_Encounter_-_7311_-_Quantity',\n",
       " 'SMILE_ON_60+_Oral_Care_Encounter_-_7320_-_Quantity',\n",
       " 'SMILE_ON_60+_Oral_Care_Encounter_-_7321_-_Quantity',\n",
       " 'SMILE_ON_60+_Oral_Care_Encounter_-_7410_-_Quantity',\n",
       " 'SMILE_ON_60+_Oral_Care_Encounter_-_7411_-_Quantity',\n",
       " 'SMILE_ON_60+_Oral_Care_Encounter_-_7412_-_Quantity',\n",
       " 'SMILE_ON_60+_Oral_Care_Encounter_-_7413__-_Quantity',\n",
       " 'SMILE_ON_60+_Oral_Care_Encounter_-_7414_-_Quantity',\n",
       " 'SMILE_ON_60+_Oral_Care_Encounter_-_7415_-_Quantity',\n",
       " 'SMILE_ON_60+_Oral_Care_Encounter_-_7440_-_Quantity',\n",
       " 'SMILE_ON_60+_Oral_Care_Encounter_-_7450_-_Quantity',\n",
       " 'SMILE_ON_60+_Oral_Care_Encounter_-_7451_-_Quantity',\n",
       " 'SMILE_ON_60+_Oral_Care_Encounter_-_7460_-_Quantity',\n",
       " 'SMILE_ON_60+_Oral_Care_Encounter_-_7461_-_Quantity',\n",
       " 'SMILE_ON_60+_Oral_Care_Encounter_-_7471_-_Quantity',\n",
       " 'SMILE_ON_60+_Oral_Care_Encounter_-_7510_-_Quantity',\n",
       " 'SMILE_ON_60+_Oral_Care_Encounter_-_7511_-_Quantity',\n",
       " 'SMILE_ON_60+_Oral_Care_Encounter_-_7970_-_Mandibular_Quantity',\n",
       " 'SMILE_ON_60+_Oral_Care_Encounter_-_7970_-_Maxillary_Quantity_',\n",
       " 'SMILE_ON_60+_Oral_Care_Encounter_-_7971_-_Quantity',\n",
       " 'SMILE_ON_60+_Oral_Care_Encounter_-_7972_-_Quantity',\n",
       " 'SMILE_ON_60+_Oral_Care_Encounter_-_9110_-_Quantity',\n",
       " 'SMILE_ON_60+_Oral_Care_Encounter_-_9951_-_Quantity',\n",
       " 'SMILE_ON_60+_Oral_Care_Encounter_-_Lab_Assist_narrative',\n",
       " 'SMILE_ON_60+_Oral_Care_Encounter_-_No_Code_-_Denture_Step_Mandibular_Quantity',\n",
       " 'SMILE_ON_60+_Oral_Care_Encounter_-_No_Code_-_Denture_Step_Maxillary_Quantity',\n",
       " 'SMILE_ON_60+_Screening_-_Last_Screening_Date',\n",
       " 'SMILE_ON_60+_Verification_of_Eligibility_-_Verification_Date',\n",
       " 'SMILE_ON_60+_Base-line_Oral_and_Conditions_Questions_-_Are_you_limited_in_what_you_can_eat?',\n",
       " 'SMILE_ON_60+_Base-line_Oral_and_Conditions_Questions_-_Dental_Clinic',\n",
       " 'SMILE_ON_60+_Base-line_Oral_and_Conditions_Questions_-_Did_the_client_commit_to_referral?',\n",
       " 'SMILE_ON_60+_Base-line_Oral_and_Conditions_Questions_-_Did_you_help_in_these_other_areas?',\n",
       " 'SMILE_ON_60+_Base-line_Oral_and_Conditions_Questions_-_Do_you_need_help_in_these_other_areas?',\n",
       " 'SMILE_ON_60+_Base-line_Oral_and_Conditions_Questions_-_Have_you_ever_felt_that_the_appearance_of_your_mouth_and_teeth_affected_your_quality_of_life?',\n",
       " 'SMILE_ON_60+_Base-line_Oral_and_Conditions_Questions_-_How_would_you_describe_the_condition_of_your_mouth_and_teeth?',\n",
       " 'SMILE_ON_60+_Base-line_Oral_and_Conditions_Questions_-_What_is_the_next_step_for_client_encounter?',\n",
       " 'SMILE_ON_60+_Base-line_Oral_and_Conditions_Questions_-_What_is_the_next_step_for_clients_encounter?',\n",
       " 'SMILE_ON_60+_Case_Management_Information_-_Dental_Clinic',\n",
       " 'SMILE_ON_60+_Case_Management_Information_-_Transportation_Barriers',\n",
       " 'SMILE_ON_60+_Case_Management_Information_-_What_barriers_have_kept_you_from_finding_a_consistent_dental_home?_(Select_all_that_apply)',\n",
       " 'SMILE_ON_60+_Case_Management_Information_-_What_is_the_outcome_for_the_client?',\n",
       " 'SMILE_ON_60+_Clinic_Information_-_Action:_Upload_Before_Picture_on_Finish_Tab',\n",
       " 'SMILE_ON_60+_Clinic_Information_-_Is_patient_of_record_date_if_yes_last_seen?',\n",
       " 'SMILE_ON_60+_Clinic_Information_-_Was_initial_appointment_made?',\n",
       " 'SMILE_ON_60+_Clinic_Information_-_Was_initial_transportation_assistance_or_referral_provided?',\n",
       " 'Gender',\n",
       " 'Household_Income_Level',\n",
       " 'SMILE_ON_60+_Demographic_Information_-_How_did_you_first_hear_about_the_SMILE_ON_60+_program?',\n",
       " 'Language',\n",
       " 'Race_Ethnicity',\n",
       " 'What_other_assistance_programs_are_you_on?',\n",
       " 'SMILE_ON_60+_Demographic_Information_-_When_is_the_last_time_you_visited_your_dentist?',\n",
       " 'SMILE_ON_60+_Oral_Care_Encounter_-_Action:_Upload_After_Picture_on_Finish_Tab',\n",
       " 'SMILE_ON_60+_Oral_Care_Encounter_-_Is_the_treatment_plan_completed?',\n",
       " 'SMILE_ON_60+_Oral_Care_Encounter_-_Was_a_treatment_plan_developed?',\n",
       " 'SMILE_ON_60+_Oral_Care_Encounter_-_Was_the_enrollee_able_to_be_restored_to_function_(can_chew)_and_\"social_six\"_esthetics_(top_front_six_teeth_are_present_and_disease_free)',\n",
       " 'SMILE_ON_60+_Oral_Care_Encounter_-_What_care_was_provided_to_the_enrollee?_(Select_all_that_apply)',\n",
       " 'SMILE_ON_60+_Presumptive_Eligibility_-_Dental_Insurance?',\n",
       " 'SMILE_ON_60+_Presumptive_Eligibility_-_Do_they_pre-qualify_for_SMILE_ON_60+?',\n",
       " 'SMILE_ON_60+_Presumptive_Eligibility_-_What_is_the_next_step_for_clients_encounter?_',\n",
       " 'SMILE_ON_60+_Presumptive_Eligibility_-_What_is_the_next_step_for_clients_encounter?',\n",
       " 'SMILE_ON_60+_Screening_-_#_of_Lower_Natural_Teeth',\n",
       " 'SMILE_ON_60+_Screening_-_#_of_Upper_Natural_Teeth',\n",
       " 'SMILE_ON_60+_Screening_-_Do_you_have_removable_dentures?',\n",
       " 'SMILE_ON_60+_Screening_-_Do_you_usually_wear_your_denture(s)_when_you_eat?',\n",
       " 'SMILE_ON_60+_Screening_-_Experienced_any_problems_related_to_mouth/teeth_during_past_12_months?',\n",
       " 'SMILE_ON_60+_Screening_-_How_often_do_you_brush_your_teeth?',\n",
       " 'SMILE_ON_60+_Screening_-_Need_for_Periodontal_Care',\n",
       " 'SMILE_ON_60+_Screening_-_Root_Fragments',\n",
       " 'SMILE_ON_60+_Screening_-_Suspicious_Soft_Tissue_Lesions',\n",
       " 'SMILE_ON_60+_Screening_-_Treatment_Urgency',\n",
       " 'SMILE_ON_60+_Screening_-_Untreated_Decay',\n",
       " 'SMILE_ON_60+_Site_Information_-_Enroller_ID',\n",
       " 'SMILE_ON_60+_Site_Information_-_Enroller_Location',\n",
       " 'SMILE_ON_60+_Treatment_Plan_-_Action:_Upload_After_Picture_on_Finish_Tab',\n",
       " 'SMILE_ON_60+_Treatment_Plan_-_Is_the_treatment_plan_completed?',\n",
       " 'SMILE_ON_60+_Treatment_Plan_-_Was_a_treatment_plan_developed?',\n",
       " 'SMILE_ON_60+_Treatment_Plan_-_Was_the_enrollee_able_to_be_restored_to_function_(can_chew)_and_\"social_six\"_esthetics_(top_front_six_teeth_are_present_and_disease_free)',\n",
       " 'SMILE_ON_60+_Verification_of_Eligibility_-_Transportation_Arranged',\n",
       " 'SMILE_ON_60+_Verification_of_Eligibility_-_Verification_of_Eligibility']"
      ]
     },
     "execution_count": 7,
     "metadata": {},
     "output_type": "execute_result"
    }
   ],
   "source": [
    "list(dental.columns.values)"
   ]
  },
  {
   "cell_type": "code",
   "execution_count": 29,
   "id": "6bdf850f",
   "metadata": {
    "scrolled": false
   },
   "outputs": [
    {
     "ename": "KeyError",
     "evalue": "\"['LinkedToCallReportNum'] not found in axis\"",
     "output_type": "error",
     "traceback": [
      "\u001b[1;31m---------------------------------------------------------------------------\u001b[0m",
      "\u001b[1;31mKeyError\u001b[0m                                  Traceback (most recent call last)",
      "\u001b[1;32m~\\AppData\\Local\\Temp/ipykernel_428/2273871467.py\u001b[0m in \u001b[0;36m<module>\u001b[1;34m\u001b[0m\n\u001b[1;32m----> 1\u001b[1;33m \u001b[0mdental\u001b[0m\u001b[1;33m.\u001b[0m\u001b[0mdrop\u001b[0m\u001b[1;33m(\u001b[0m\u001b[1;33m[\u001b[0m\u001b[1;34m'PhoneType'\u001b[0m\u001b[1;33m,\u001b[0m \u001b[1;34m'OrgNum'\u001b[0m\u001b[1;33m,\u001b[0m \u001b[1;34m'LinkedToCallReportNum'\u001b[0m\u001b[1;33m]\u001b[0m\u001b[1;33m,\u001b[0m \u001b[0maxis\u001b[0m\u001b[1;33m=\u001b[0m\u001b[1;36m1\u001b[0m\u001b[1;33m)\u001b[0m\u001b[1;33m\u001b[0m\u001b[1;33m\u001b[0m\u001b[0m\n\u001b[0m",
      "\u001b[1;32m~\\anaconda3\\lib\\site-packages\\pandas\\util\\_decorators.py\u001b[0m in \u001b[0;36mwrapper\u001b[1;34m(*args, **kwargs)\u001b[0m\n\u001b[0;32m    309\u001b[0m                     \u001b[0mstacklevel\u001b[0m\u001b[1;33m=\u001b[0m\u001b[0mstacklevel\u001b[0m\u001b[1;33m,\u001b[0m\u001b[1;33m\u001b[0m\u001b[1;33m\u001b[0m\u001b[0m\n\u001b[0;32m    310\u001b[0m                 )\n\u001b[1;32m--> 311\u001b[1;33m             \u001b[1;32mreturn\u001b[0m \u001b[0mfunc\u001b[0m\u001b[1;33m(\u001b[0m\u001b[1;33m*\u001b[0m\u001b[0margs\u001b[0m\u001b[1;33m,\u001b[0m \u001b[1;33m**\u001b[0m\u001b[0mkwargs\u001b[0m\u001b[1;33m)\u001b[0m\u001b[1;33m\u001b[0m\u001b[1;33m\u001b[0m\u001b[0m\n\u001b[0m\u001b[0;32m    312\u001b[0m \u001b[1;33m\u001b[0m\u001b[0m\n\u001b[0;32m    313\u001b[0m         \u001b[1;32mreturn\u001b[0m \u001b[0mwrapper\u001b[0m\u001b[1;33m\u001b[0m\u001b[1;33m\u001b[0m\u001b[0m\n",
      "\u001b[1;32m~\\anaconda3\\lib\\site-packages\\pandas\\core\\frame.py\u001b[0m in \u001b[0;36mdrop\u001b[1;34m(self, labels, axis, index, columns, level, inplace, errors)\u001b[0m\n\u001b[0;32m   4904\u001b[0m                 \u001b[0mweight\u001b[0m  \u001b[1;36m1.0\u001b[0m     \u001b[1;36m0.8\u001b[0m\u001b[1;33m\u001b[0m\u001b[1;33m\u001b[0m\u001b[0m\n\u001b[0;32m   4905\u001b[0m         \"\"\"\n\u001b[1;32m-> 4906\u001b[1;33m         return super().drop(\n\u001b[0m\u001b[0;32m   4907\u001b[0m             \u001b[0mlabels\u001b[0m\u001b[1;33m=\u001b[0m\u001b[0mlabels\u001b[0m\u001b[1;33m,\u001b[0m\u001b[1;33m\u001b[0m\u001b[1;33m\u001b[0m\u001b[0m\n\u001b[0;32m   4908\u001b[0m             \u001b[0maxis\u001b[0m\u001b[1;33m=\u001b[0m\u001b[0maxis\u001b[0m\u001b[1;33m,\u001b[0m\u001b[1;33m\u001b[0m\u001b[1;33m\u001b[0m\u001b[0m\n",
      "\u001b[1;32m~\\anaconda3\\lib\\site-packages\\pandas\\core\\generic.py\u001b[0m in \u001b[0;36mdrop\u001b[1;34m(self, labels, axis, index, columns, level, inplace, errors)\u001b[0m\n\u001b[0;32m   4148\u001b[0m         \u001b[1;32mfor\u001b[0m \u001b[0maxis\u001b[0m\u001b[1;33m,\u001b[0m \u001b[0mlabels\u001b[0m \u001b[1;32min\u001b[0m \u001b[0maxes\u001b[0m\u001b[1;33m.\u001b[0m\u001b[0mitems\u001b[0m\u001b[1;33m(\u001b[0m\u001b[1;33m)\u001b[0m\u001b[1;33m:\u001b[0m\u001b[1;33m\u001b[0m\u001b[1;33m\u001b[0m\u001b[0m\n\u001b[0;32m   4149\u001b[0m             \u001b[1;32mif\u001b[0m \u001b[0mlabels\u001b[0m \u001b[1;32mis\u001b[0m \u001b[1;32mnot\u001b[0m \u001b[1;32mNone\u001b[0m\u001b[1;33m:\u001b[0m\u001b[1;33m\u001b[0m\u001b[1;33m\u001b[0m\u001b[0m\n\u001b[1;32m-> 4150\u001b[1;33m                 \u001b[0mobj\u001b[0m \u001b[1;33m=\u001b[0m \u001b[0mobj\u001b[0m\u001b[1;33m.\u001b[0m\u001b[0m_drop_axis\u001b[0m\u001b[1;33m(\u001b[0m\u001b[0mlabels\u001b[0m\u001b[1;33m,\u001b[0m \u001b[0maxis\u001b[0m\u001b[1;33m,\u001b[0m \u001b[0mlevel\u001b[0m\u001b[1;33m=\u001b[0m\u001b[0mlevel\u001b[0m\u001b[1;33m,\u001b[0m \u001b[0merrors\u001b[0m\u001b[1;33m=\u001b[0m\u001b[0merrors\u001b[0m\u001b[1;33m)\u001b[0m\u001b[1;33m\u001b[0m\u001b[1;33m\u001b[0m\u001b[0m\n\u001b[0m\u001b[0;32m   4151\u001b[0m \u001b[1;33m\u001b[0m\u001b[0m\n\u001b[0;32m   4152\u001b[0m         \u001b[1;32mif\u001b[0m \u001b[0minplace\u001b[0m\u001b[1;33m:\u001b[0m\u001b[1;33m\u001b[0m\u001b[1;33m\u001b[0m\u001b[0m\n",
      "\u001b[1;32m~\\anaconda3\\lib\\site-packages\\pandas\\core\\generic.py\u001b[0m in \u001b[0;36m_drop_axis\u001b[1;34m(self, labels, axis, level, errors)\u001b[0m\n\u001b[0;32m   4183\u001b[0m                 \u001b[0mnew_axis\u001b[0m \u001b[1;33m=\u001b[0m \u001b[0maxis\u001b[0m\u001b[1;33m.\u001b[0m\u001b[0mdrop\u001b[0m\u001b[1;33m(\u001b[0m\u001b[0mlabels\u001b[0m\u001b[1;33m,\u001b[0m \u001b[0mlevel\u001b[0m\u001b[1;33m=\u001b[0m\u001b[0mlevel\u001b[0m\u001b[1;33m,\u001b[0m \u001b[0merrors\u001b[0m\u001b[1;33m=\u001b[0m\u001b[0merrors\u001b[0m\u001b[1;33m)\u001b[0m\u001b[1;33m\u001b[0m\u001b[1;33m\u001b[0m\u001b[0m\n\u001b[0;32m   4184\u001b[0m             \u001b[1;32melse\u001b[0m\u001b[1;33m:\u001b[0m\u001b[1;33m\u001b[0m\u001b[1;33m\u001b[0m\u001b[0m\n\u001b[1;32m-> 4185\u001b[1;33m                 \u001b[0mnew_axis\u001b[0m \u001b[1;33m=\u001b[0m \u001b[0maxis\u001b[0m\u001b[1;33m.\u001b[0m\u001b[0mdrop\u001b[0m\u001b[1;33m(\u001b[0m\u001b[0mlabels\u001b[0m\u001b[1;33m,\u001b[0m \u001b[0merrors\u001b[0m\u001b[1;33m=\u001b[0m\u001b[0merrors\u001b[0m\u001b[1;33m)\u001b[0m\u001b[1;33m\u001b[0m\u001b[1;33m\u001b[0m\u001b[0m\n\u001b[0m\u001b[0;32m   4186\u001b[0m             \u001b[0mresult\u001b[0m \u001b[1;33m=\u001b[0m \u001b[0mself\u001b[0m\u001b[1;33m.\u001b[0m\u001b[0mreindex\u001b[0m\u001b[1;33m(\u001b[0m\u001b[1;33m**\u001b[0m\u001b[1;33m{\u001b[0m\u001b[0maxis_name\u001b[0m\u001b[1;33m:\u001b[0m \u001b[0mnew_axis\u001b[0m\u001b[1;33m}\u001b[0m\u001b[1;33m)\u001b[0m\u001b[1;33m\u001b[0m\u001b[1;33m\u001b[0m\u001b[0m\n\u001b[0;32m   4187\u001b[0m \u001b[1;33m\u001b[0m\u001b[0m\n",
      "\u001b[1;32m~\\anaconda3\\lib\\site-packages\\pandas\\core\\indexes\\base.py\u001b[0m in \u001b[0;36mdrop\u001b[1;34m(self, labels, errors)\u001b[0m\n\u001b[0;32m   6015\u001b[0m         \u001b[1;32mif\u001b[0m \u001b[0mmask\u001b[0m\u001b[1;33m.\u001b[0m\u001b[0many\u001b[0m\u001b[1;33m(\u001b[0m\u001b[1;33m)\u001b[0m\u001b[1;33m:\u001b[0m\u001b[1;33m\u001b[0m\u001b[1;33m\u001b[0m\u001b[0m\n\u001b[0;32m   6016\u001b[0m             \u001b[1;32mif\u001b[0m \u001b[0merrors\u001b[0m \u001b[1;33m!=\u001b[0m \u001b[1;34m\"ignore\"\u001b[0m\u001b[1;33m:\u001b[0m\u001b[1;33m\u001b[0m\u001b[1;33m\u001b[0m\u001b[0m\n\u001b[1;32m-> 6017\u001b[1;33m                 \u001b[1;32mraise\u001b[0m \u001b[0mKeyError\u001b[0m\u001b[1;33m(\u001b[0m\u001b[1;34mf\"{labels[mask]} not found in axis\"\u001b[0m\u001b[1;33m)\u001b[0m\u001b[1;33m\u001b[0m\u001b[1;33m\u001b[0m\u001b[0m\n\u001b[0m\u001b[0;32m   6018\u001b[0m             \u001b[0mindexer\u001b[0m \u001b[1;33m=\u001b[0m \u001b[0mindexer\u001b[0m\u001b[1;33m[\u001b[0m\u001b[1;33m~\u001b[0m\u001b[0mmask\u001b[0m\u001b[1;33m]\u001b[0m\u001b[1;33m\u001b[0m\u001b[1;33m\u001b[0m\u001b[0m\n\u001b[0;32m   6019\u001b[0m         \u001b[1;32mreturn\u001b[0m \u001b[0mself\u001b[0m\u001b[1;33m.\u001b[0m\u001b[0mdelete\u001b[0m\u001b[1;33m(\u001b[0m\u001b[0mindexer\u001b[0m\u001b[1;33m)\u001b[0m\u001b[1;33m\u001b[0m\u001b[1;33m\u001b[0m\u001b[0m\n",
      "\u001b[1;31mKeyError\u001b[0m: \"['LinkedToCallReportNum'] not found in axis\""
     ]
    }
   ],
   "source": [
    "#dental.drop(['PhoneType', 'OrgNum', 'LinkedToCallReportNum'], axis=1)"
   ]
  },
  {
   "cell_type": "code",
   "execution_count": 30,
   "id": "fe51272c",
   "metadata": {},
   "outputs": [],
   "source": [
    "# drops columns that have only NAN values\n",
    "#dental.dropna(how='all', axis=1, inplace=True)"
   ]
  },
  {
   "cell_type": "code",
   "execution_count": 31,
   "id": "ef79a03e",
   "metadata": {},
   "outputs": [],
   "source": [
    "#drop duplicates in Patient (CallerNum)\n",
    "duplicates = dental.duplicated(['Patient'], keep='first')\n",
    "dental = dental[~duplicates]"
   ]
  },
  {
   "cell_type": "code",
   "execution_count": null,
   "id": "030c016f",
   "metadata": {},
   "outputs": [],
   "source": []
  },
  {
   "cell_type": "code",
   "execution_count": 33,
   "id": "440ecaa7",
   "metadata": {},
   "outputs": [],
   "source": [
    "if isinstance(dental, (pd.DatetimeIndex, pd.MultiIndex)):\n",
    "\tdental = dental.to_frame(index=False)"
   ]
  },
  {
   "cell_type": "code",
   "execution_count": 34,
   "id": "774432da",
   "metadata": {},
   "outputs": [],
   "source": [
    "# remove any pre-existing indices for ease of use in the D-Tale code, but this is not required\n",
    "dental = dental.reset_index().drop('index', axis=1, errors='ignore')\n",
    " # update columns to strings in case they are numbers\n",
    "dental.columns = [str(c) for c in dental.columns] "
   ]
  },
  {
   "cell_type": "code",
   "execution_count": null,
   "id": "d089e0ae",
   "metadata": {},
   "outputs": [],
   "source": []
  },
  {
   "cell_type": "code",
   "execution_count": 35,
   "id": "a5d590fc",
   "metadata": {},
   "outputs": [
    {
     "data": {
      "text/plain": [
       "Female         6774\n",
       "Male           3815\n",
       "Transgender       1\n",
       "Other             1\n",
       "Name: Gender, dtype: int64"
      ]
     },
     "execution_count": 35,
     "metadata": {},
     "output_type": "execute_result"
    }
   ],
   "source": [
    "female_cnt = dental['Gender'].eq('Female').sum()\n",
    "male_cnt = dental['Gender'].eq('Male').sum()\n",
    "#print(female_cnt, male_cnt)\n",
    "dental['Gender'].value_counts()"
   ]
  },
  {
   "cell_type": "code",
   "execution_count": 36,
   "id": "808ac63d",
   "metadata": {
    "scrolled": false
   },
   "outputs": [
    {
     "name": "stdout",
     "output_type": "stream",
     "text": [
      "Caucasian                            5934\n",
      "African American                     2660\n",
      "Hispanic                              456\n",
      "Asian                                 151\n",
      "Unknown                               115\n",
      "American Indian and Alaska Native      52\n",
      "Multi-racial                           33\n",
      "Pacific Islander                        9\n",
      "Name: Race_Ethnicity, dtype: int64\n"
     ]
    }
   ],
   "source": [
    "#obtain values in Race/Ethnicity\n",
    "#column = 'Race_Ethnicity'\n",
    "RaceEthnicity = dental.Race_Ethnicity.value_counts()\n",
    "print(RaceEthnicity)"
   ]
  },
  {
   "cell_type": "code",
   "execution_count": null,
   "id": "b3af1063",
   "metadata": {},
   "outputs": [],
   "source": []
  },
  {
   "cell_type": "code",
   "execution_count": 37,
   "id": "29e86af2",
   "metadata": {},
   "outputs": [
    {
     "name": "stdout",
     "output_type": "stream",
     "text": [
      "English    3154\n",
      "Spanish     374\n",
      "Other       116\n",
      "Arabic       64\n",
      "Name: Language, dtype: int64\n"
     ]
    }
   ],
   "source": [
    "#obtain values of language preferred/needed\n",
    "#'SMILE_ON_60+_Demographic_Information_-_Preferred_Language/Language_Needed'\n",
    "language = dental['Language'].value_counts()\n",
    "print(language)"
   ]
  },
  {
   "cell_type": "code",
   "execution_count": 38,
   "id": "65358e80",
   "metadata": {},
   "outputs": [
    {
     "name": "stdout",
     "output_type": "stream",
     "text": [
      "Farsi             4\n",
      "Mandarin          4\n",
      "Burmese           3\n",
      "Amharic           2\n",
      "Russian           2\n",
      "Kurdish           2\n",
      "Vietnamese        2\n",
      "Laos              2\n",
      "Kunama            1\n",
      "Swahili           1\n",
      "Kinyarwanda       1\n",
      "Ethiopian         1\n",
      "Mayan             1\n",
      "Somali            1\n",
      "East African      1\n",
      "Kurdish-Badini    1\n",
      "Laotian           1\n",
      "Chinese           1\n",
      "Nepali            1\n",
      "Korean            1\n",
      "English           1\n",
      "Name: Other_Language, dtype: int64\n"
     ]
    }
   ],
   "source": [
    "#Other languages\n",
    "'SMILE_ON_60+_Demographic_Information_-_Other_Language'\n",
    "otherlanguage = dental['Other_Language'].value_counts()\n",
    "print(otherlanguage)"
   ]
  },
  {
   "cell_type": "code",
   "execution_count": null,
   "id": "bd82c86e",
   "metadata": {},
   "outputs": [],
   "source": []
  },
  {
   "cell_type": "code",
   "execution_count": 39,
   "id": "3356b2df",
   "metadata": {},
   "outputs": [
    {
     "name": "stdout",
     "output_type": "stream",
     "text": [
      "$0 - $21 280     7474\n",
      "$21246-$24280    1417\n",
      "$24281-$27315     445\n",
      "$28806-$32920     398\n",
      "$32921-$37035     146\n",
      "$41561-$46755      82\n",
      "$36366-$41560      73\n",
      "$43926-$50200      23\n",
      "$50201-$56475      13\n",
      "$59046-$67480       9\n",
      "$58841-$66195       7\n",
      "$51486-$58840       6\n",
      "$76121-$85635       3\n",
      "$84761-$95355       3\n",
      "$67481-$75915       3\n",
      "$66606-$76120       2\n",
      "$74166-$84760       1\n",
      "Name: Household_Income_Level, dtype: int64\n"
     ]
    }
   ],
   "source": [
    "#obtain Household Income Level\n",
    "#'SMILE_ON_60+_Demographic_Information_-_Household_Income_Level'\n",
    "houseincome = dental['Household_Income_Level'].value_counts()\n",
    "print(houseincome)"
   ]
  },
  {
   "cell_type": "code",
   "execution_count": null,
   "id": "7fa5742b",
   "metadata": {},
   "outputs": [],
   "source": []
  },
  {
   "cell_type": "code",
   "execution_count": 40,
   "id": "52199169",
   "metadata": {},
   "outputs": [
    {
     "name": "stdout",
     "output_type": "stream",
     "text": [
      "SSI/SSDI                               2103\n",
      "SNAP                                    743\n",
      "TennCare                                448\n",
      "SNAP; TennCare                          332\n",
      "SNAP; SSI/SSDI                          295\n",
      "SNAP; TennCare; SSI/SSDI                284\n",
      "TennCare; SSI/SSDI                      259\n",
      "Section 8                               180\n",
      "SNAP; Section 8                         120\n",
      "SNAP; TennCare; Section 8                96\n",
      "SNAP; TennCare; Section 8; SSI/SSDI      92\n",
      "Section 8; SSI/SSDI                      70\n",
      "TennCare; Section 8                      51\n",
      "SNAP; Section 8; SSI/SSDI                46\n",
      "TennCare; Section 8; SSI/SSDI            41\n",
      "Name: What_other_assistance_programs_are_you_on?, dtype: int64\n"
     ]
    }
   ],
   "source": [
    "#Enrolled in OTHER assistance programs, which ones?\n",
    "# 'SMILE_ON_60+_Demographic_Information_-_What_other_assistance_programs_are_you_on?'\n",
    "otherprograms = dental['What_other_assistance_programs_are_you_on?'].value_counts()\n",
    "print(otherprograms)"
   ]
  },
  {
   "cell_type": "code",
   "execution_count": 22,
   "id": "56807df0",
   "metadata": {},
   "outputs": [],
   "source": [
    "otherprograms1 = dental['What_other_assistance_programs_are_you_on?']\n",
    "otherprograms1 = dental.replace({\n",
    "\tnp.nan: 'Not_Provided',\n",
    "})"
   ]
  },
  {
   "cell_type": "code",
   "execution_count": null,
   "id": "1225f1fe",
   "metadata": {},
   "outputs": [],
   "source": []
  },
  {
   "cell_type": "code",
   "execution_count": 44,
   "id": "84e6a6aa",
   "metadata": {},
   "outputs": [],
   "source": [
    "#drop all NAN values in a column\n",
    "#dental = dental[dental['People_in_Household'].notna()]"
   ]
  },
  {
   "cell_type": "code",
   "execution_count": null,
   "id": "f65b4c30",
   "metadata": {},
   "outputs": [],
   "source": []
  },
  {
   "cell_type": "code",
   "execution_count": 81,
   "id": "05eb79a1",
   "metadata": {},
   "outputs": [
    {
     "name": "stdout",
     "output_type": "stream",
     "text": [
      "1     6446\n",
      "2     2733\n",
      "3      507\n",
      "4      260\n",
      "5      153\n",
      "6       57\n",
      "7       32\n",
      "8       15\n",
      "9        5\n",
      "0        2\n",
      "10       1\n",
      "Name: People_in_Household, dtype: int64\n"
     ]
    }
   ],
   "source": [
    "#Average of people in a household?\n",
    "# 'SMILE_ON_60+_Demographic_Information_-_#_of_People_in_Household''\n",
    "householdnumber = dental['People_in_Household'].value_counts()\n",
    "print(householdnumber)"
   ]
  },
  {
   "cell_type": "code",
   "execution_count": 79,
   "id": "7bef5f00",
   "metadata": {},
   "outputs": [
    {
     "data": {
      "text/plain": [
       "dtype('int32')"
      ]
     },
     "execution_count": 79,
     "metadata": {},
     "output_type": "execute_result"
    }
   ],
   "source": [
    "#column type 0 means python object type string\n",
    "dental['People_in_Household'].dtypes"
   ]
  },
  {
   "cell_type": "code",
   "execution_count": 59,
   "id": "430212b4",
   "metadata": {},
   "outputs": [],
   "source": [
    "dental.drop(dental.index[dental['People_in_Household'] == '13900'], inplace=True)"
   ]
  },
  {
   "cell_type": "code",
   "execution_count": 62,
   "id": "0c7179a0",
   "metadata": {},
   "outputs": [],
   "source": [
    "dental.drop(dental.index[dental['People_in_Household'] == '1886'], inplace=True)\n",
    "dental.drop(dental.index[dental['People_in_Household'] == '2864'], inplace=True)\n",
    "dental.drop(dental.index[dental['People_in_Household'] == '8368'], inplace=True)\n",
    "dental.drop(dental.index[dental['People_in_Household'] == '112'], inplace=True)"
   ]
  },
  {
   "cell_type": "code",
   "execution_count": 72,
   "id": "0b858fe4",
   "metadata": {},
   "outputs": [],
   "source": [
    "dental['People_in_Household'] = dental['People_in_Household'].replace(['1_____'],'1')\n",
    "dental['People_in_Household'] = dental['People_in_Household'].replace(['2_____'],'2')\n",
    "dental['People_in_Household'] = dental['People_in_Household'].replace(['3_____'],'3')\n",
    "dental['People_in_Household'] = dental['People_in_Household'].replace(['6_____'],'6')\n",
    "dental['People_in_Household'] = dental['People_in_Household'].replace(['1.0'],'1')\n",
    "dental['People_in_Household'] = dental['People_in_Household'].replace(['2.0'],'2')\n",
    "dental['People_in_Household'] = dental['People_in_Household'].replace(['3.0'],'3')\n",
    "dental['People_in_Household'] = dental['People_in_Household'].replace(['4.0'],'4')\n",
    "dental['People_in_Household'] = dental['People_in_Household'].replace(['5.0'],'5')\n",
    "dental['People_in_Household'] = dental['People_in_Household'].replace(['6.0'],'6')\n",
    "dental['People_in_Household'] = dental['People_in_Household'].replace(['7.0'],'7')\n",
    "dental['People_in_Household'] = dental['People_in_Household'].replace(['8.0'],'8')\n",
    "dental['People_in_Household'] = dental['People_in_Household'].replace(['9.0'],'9')\n",
    "dental['People_in_Household'] = dental['People_in_Household'].replace(['10.0'],'10')"
   ]
  },
  {
   "cell_type": "code",
   "execution_count": 74,
   "id": "15c6a3f5",
   "metadata": {},
   "outputs": [],
   "source": [
    "dental['People_in_Household'] = dental['People_in_Household'].astype(int)"
   ]
  },
  {
   "cell_type": "code",
   "execution_count": null,
   "id": "36bc9ec7",
   "metadata": {},
   "outputs": [],
   "source": []
  },
  {
   "cell_type": "code",
   "execution_count": null,
   "id": "e864fda5",
   "metadata": {},
   "outputs": [],
   "source": []
  },
  {
   "cell_type": "code",
   "execution_count": null,
   "id": "5e4390e8",
   "metadata": {},
   "outputs": [],
   "source": []
  },
  {
   "cell_type": "code",
   "execution_count": null,
   "id": "90a14330",
   "metadata": {},
   "outputs": [],
   "source": []
  },
  {
   "cell_type": "code",
   "execution_count": null,
   "id": "de3e9aac",
   "metadata": {},
   "outputs": [],
   "source": [
    "# we are attempting to filter two columns based on a value\n",
    "#example: tom_and_42 = df[(df[\"Name\"]==\"Tom\") & (df[\"Age\"]==42)]\n",
    "\n",
    "#racelanguage = newdental[(newdental[\"SMILE_ON_60+_Demographic_Information_-_Race/Ethnicity\"] == \"Caucasian\") & (newdental[\"SMILE_ON_60+_Demographic_Information_-_Preferred_Language/Language_Needed\"] == \"English\")]                      "
   ]
  },
  {
   "cell_type": "code",
   "execution_count": 80,
   "id": "8f48a098",
   "metadata": {},
   "outputs": [
    {
     "name": "stdout",
     "output_type": "stream",
     "text": [
      "<class 'pandas.core.frame.DataFrame'>\n",
      "Int64Index: 10211 entries, 0 to 10710\n",
      "Columns: 118 entries, CallReportNum to SMILE_ON_60+_Verification_of_Eligibility_-_Verification_of_Eligibility\n",
      "dtypes: float64(38), int32(1), int64(6), object(73)\n",
      "memory usage: 9.2+ MB\n"
     ]
    }
   ],
   "source": [
    "dental.info()"
   ]
  },
  {
   "cell_type": "code",
   "execution_count": 82,
   "id": "6f22909d",
   "metadata": {},
   "outputs": [],
   "source": [
    "d = dtale.show(dental)\n",
    "# open it in a new window in browser\n",
    "d.open_browser()"
   ]
  },
  {
   "cell_type": "code",
   "execution_count": null,
   "id": "af158a38",
   "metadata": {},
   "outputs": [],
   "source": []
  },
  {
   "cell_type": "code",
   "execution_count": null,
   "id": "7abb750a",
   "metadata": {},
   "outputs": [],
   "source": []
  }
 ],
 "metadata": {
  "kernelspec": {
   "display_name": "Python 3 (ipykernel)",
   "language": "python",
   "name": "python3"
  },
  "language_info": {
   "codemirror_mode": {
    "name": "ipython",
    "version": 3
   },
   "file_extension": ".py",
   "mimetype": "text/x-python",
   "name": "python",
   "nbconvert_exporter": "python",
   "pygments_lexer": "ipython3",
   "version": "3.8.12"
  }
 },
 "nbformat": 4,
 "nbformat_minor": 5
}
