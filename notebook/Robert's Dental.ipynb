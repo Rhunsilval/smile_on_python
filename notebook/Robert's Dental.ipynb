{
 "cells": [
  {
   "cell_type": "code",
   "execution_count": 3,
   "id": "8c9ae95c",
   "metadata": {},
   "outputs": [],
   "source": [
    "import pandas as pd\n",
    "import numpy as np\n",
    "import matplotlib.pyplot as plt\n",
    "from functools import reduce\n",
    "from datetime import date\n",
    "from datetime import datetime\n",
    "import dtale"
   ]
  },
  {
   "cell_type": "code",
   "execution_count": 5,
   "id": "ed4d0e87",
   "metadata": {},
   "outputs": [
    {
     "data": {
      "text/plain": [
       "(57858, 126)"
      ]
     },
     "execution_count": 5,
     "metadata": {},
     "output_type": "execute_result"
    }
   ],
   "source": [
    "dental = pd.read_csv('../data/RobertSmileondata.csv', encoding = \"latin-1\", skiprows=2)\n",
    "dental.shape"
   ]
  },
  {
   "cell_type": "code",
   "execution_count": 13,
   "id": "b75cf49c",
   "metadata": {},
   "outputs": [
    {
     "name": "stdout",
     "output_type": "stream",
     "text": [
      "No\n"
     ]
    }
   ],
   "source": [
    "#check if column is present\n",
    "if 'SMILE_ON_60+_Demographic_Information_-_Gender' in dental.columns:\n",
    "    print(\"Yes\")\n",
    "else:\n",
    "    print(\"No\")"
   ]
  },
  {
   "cell_type": "code",
   "execution_count": 14,
   "id": "2147d60f",
   "metadata": {},
   "outputs": [
    {
     "data": {
      "text/plain": [
       "['93115188',\n",
       " 'SMILE ON 60+ Registration',\n",
       " '2021-09-30 16:53:00.000000000',\n",
       " '2021-09-30 16:53:00.000000000.1',\n",
       " '0',\n",
       " '4431194',\n",
       " '123747',\n",
       " 'Nashville',\n",
       " 'Davidson',\n",
       " 'TN',\n",
       " 'United States',\n",
       " '37211.0',\n",
       " 'Called client to follow up on app. LM for callback. 3rd call.',\n",
       " 'Unnamed: 13',\n",
       " '123747.1',\n",
       " '9/30/2021 16:53',\n",
       " 'No',\n",
       " 'Not yet',\n",
       " 'Unnamed: 18',\n",
       " 'Unnamed: 19',\n",
       " 'Unnamed: 20',\n",
       " '1.0',\n",
       " '1970-01-01 00:00:00.000001959',\n",
       " 'Unnamed: 23',\n",
       " 'Unnamed: 24',\n",
       " 'Unnamed: 25',\n",
       " 'Unnamed: 26',\n",
       " 'Unnamed: 27',\n",
       " 'Unnamed: 28',\n",
       " 'Unnamed: 29',\n",
       " 'Unnamed: 30',\n",
       " 'Unnamed: 31',\n",
       " 'Unnamed: 32',\n",
       " 'Unnamed: 33',\n",
       " 'Unnamed: 34',\n",
       " 'Unnamed: 35',\n",
       " 'Unnamed: 36',\n",
       " 'Unnamed: 37',\n",
       " 'Unnamed: 38',\n",
       " 'Unnamed: 39',\n",
       " 'Unnamed: 40',\n",
       " 'Unnamed: 41',\n",
       " 'Unnamed: 42',\n",
       " 'Unnamed: 43',\n",
       " 'Unnamed: 44',\n",
       " 'Unnamed: 45',\n",
       " 'Unnamed: 46',\n",
       " 'Unnamed: 47',\n",
       " 'Unnamed: 48',\n",
       " 'Unnamed: 49',\n",
       " 'Unnamed: 50',\n",
       " 'Unnamed: 51',\n",
       " 'Unnamed: 52',\n",
       " 'Unnamed: 53',\n",
       " 'Unnamed: 54',\n",
       " 'Unnamed: 55',\n",
       " 'Unnamed: 56',\n",
       " 'Unnamed: 57',\n",
       " 'Unnamed: 58',\n",
       " 'Unnamed: 59',\n",
       " 'Unnamed: 60',\n",
       " 'Unnamed: 61',\n",
       " 'Unnamed: 62',\n",
       " 'Unnamed: 63',\n",
       " 'Unnamed: 64',\n",
       " 'Unnamed: 65',\n",
       " 'Unnamed: 66',\n",
       " 'Unnamed: 67',\n",
       " 'Unnamed: 68',\n",
       " 'Unnamed: 69',\n",
       " 'Unnamed: 70',\n",
       " 'Unnamed: 71',\n",
       " 'Unnamed: 72',\n",
       " 'Unnamed: 73',\n",
       " 'Unnamed: 74',\n",
       " 'Unnamed: 75',\n",
       " 'Unnamed: 76',\n",
       " 'Unnamed: 77',\n",
       " 'Yes',\n",
       " 'Interfaith Dental Clinic - Nashville',\n",
       " 'Yes.1',\n",
       " 'Unnamed: 81',\n",
       " 'No.1',\n",
       " 'Yes.2',\n",
       " 'Poor',\n",
       " 'Unnamed: 85',\n",
       " 'Referred to dental clinic',\n",
       " 'Unnamed: 87',\n",
       " 'Unnamed: 88',\n",
       " 'Dental cost; No insurance',\n",
       " 'Unnamed: 90',\n",
       " 'Unnamed: 91',\n",
       " 'Unnamed: 92',\n",
       " 'Unnamed: 93',\n",
       " 'Unnamed: 94',\n",
       " 'Female',\n",
       " '$0 - $21 280',\n",
       " 'Dental Clinic Staff',\n",
       " 'English',\n",
       " 'Caucasian',\n",
       " 'Unnamed: 100',\n",
       " 'More than 5 years',\n",
       " 'Unnamed: 102',\n",
       " 'No.2',\n",
       " 'Yes.3',\n",
       " 'Continued with Navigation',\n",
       " 'Unnamed: 106',\n",
       " 'Unnamed: 107',\n",
       " 'Unnamed: 108',\n",
       " 'Unnamed: 109',\n",
       " 'Unnamed: 110',\n",
       " 'Unnamed: 111',\n",
       " 'Unnamed: 112',\n",
       " 'Unnamed: 113',\n",
       " 'Unnamed: 114',\n",
       " 'Unnamed: 115',\n",
       " 'Unnamed: 116',\n",
       " 'Unnamed: 117',\n",
       " 'Unnamed: 118',\n",
       " 'Referral Follow-Up',\n",
       " 'Unnamed: 120',\n",
       " 'Unnamed: 121',\n",
       " 'Unnamed: 122',\n",
       " 'Unnamed: 123',\n",
       " 'Unnamed: 124',\n",
       " 'Unnamed: 125']"
      ]
     },
     "execution_count": 14,
     "metadata": {},
     "output_type": "execute_result"
    }
   ],
   "source": [
    "list(dental.columns.values)"
   ]
  },
  {
   "cell_type": "code",
   "execution_count": null,
   "id": "2cf45f7c",
   "metadata": {},
   "outputs": [],
   "source": []
  },
  {
   "cell_type": "code",
   "execution_count": null,
   "id": "f6bf9f71",
   "metadata": {},
   "outputs": [],
   "source": []
  },
  {
   "cell_type": "code",
   "execution_count": null,
   "id": "aef5baea",
   "metadata": {},
   "outputs": [],
   "source": []
  },
  {
   "cell_type": "code",
   "execution_count": null,
   "id": "0c913487",
   "metadata": {},
   "outputs": [],
   "source": []
  },
  {
   "cell_type": "code",
   "execution_count": null,
   "id": "86094abb",
   "metadata": {},
   "outputs": [],
   "source": []
  },
  {
   "cell_type": "code",
   "execution_count": null,
   "id": "a1e38c39",
   "metadata": {},
   "outputs": [],
   "source": []
  }
 ],
 "metadata": {
  "kernelspec": {
   "display_name": "Python 3 (ipykernel)",
   "language": "python",
   "name": "python3"
  },
  "language_info": {
   "codemirror_mode": {
    "name": "ipython",
    "version": 3
   },
   "file_extension": ".py",
   "mimetype": "text/x-python",
   "name": "python",
   "nbconvert_exporter": "python",
   "pygments_lexer": "ipython3",
   "version": "3.8.12"
  }
 },
 "nbformat": 4,
 "nbformat_minor": 5
}
